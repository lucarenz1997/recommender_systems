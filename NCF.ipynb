{
  "cells": [
    {
      "cell_type": "markdown",
      "metadata": {
        "id": "view-in-github",
        "colab_type": "text"
      },
      "source": [
        "<a href=\"https://colab.research.google.com/github/lucarenz1997/recommender_systems/blob/main/NCF.ipynb\" target=\"_parent\"><img src=\"https://colab.research.google.com/assets/colab-badge.svg\" alt=\"Open In Colab\"/></a>"
      ]
    },
    {
      "metadata": {
        "id": "a94ebd5f5307163d"
      },
      "cell_type": "markdown",
      "source": [
        "<a href=\"https://colab.research.google.com/github/lucarenz1997/recommender_systems/blob/main/NCF.ipynb\" target=\"_parent\"><img src=\"https://colab.research.google.com/assets/colab-badge.svg\" alt=\"Open In Colab\"/></a>"
      ],
      "id": "a94ebd5f5307163d"
    },
    {
      "cell_type": "markdown",
      "source": [
        "** Authors **: Rafaella and Luca\n",
        "## Provisorischer Data Import"
      ],
      "metadata": {
        "collapsed": false,
        "id": "dd70d100feef6261"
      },
      "id": "dd70d100feef6261"
    },
    {
      "metadata": {
        "ExecuteTime": {
          "end_time": "2025-01-30T10:24:14.812465Z",
          "start_time": "2025-01-30T10:24:14.792202Z"
        },
        "id": "174c3c23ad23acdc",
        "outputId": "e75a1390-206f-4524-c049-1b1b45cd5d75",
        "colab": {
          "base_uri": "https://localhost:8080/"
        }
      },
      "cell_type": "code",
      "source": [
        "from google.colab import drive\n",
        "drive.mount('/content/drive')\n",
        "\n",
        "# Loading the dataset\n",
        "#import pandas as pd\n",
        "#data = pd.read_csv(\"/content/drive/MyDrive/Recommender/train.csv\")\n",
        "\n",
        "\n",
        "import warnings\n",
        "# Suppress all warnings\n",
        "warnings.filterwarnings(\"ignore\")"
      ],
      "id": "174c3c23ad23acdc",
      "outputs": [
        {
          "output_type": "stream",
          "name": "stdout",
          "text": [
            "Drive already mounted at /content/drive; to attempt to forcibly remount, call drive.mount(\"/content/drive\", force_remount=True).\n"
          ]
        }
      ],
      "execution_count": 2
    },
    {
      "cell_type": "markdown",
      "source": [
        "## NCF (Neural Collaborative Filtering) Train model"
      ],
      "metadata": {
        "collapsed": false,
        "id": "9bd0beabdb89b7cc"
      },
      "id": "9bd0beabdb89b7cc"
    },
    {
      "cell_type": "code",
      "source": [
        "import tensorflow as tf\n",
        "from tensorflow.keras.models import Model\n",
        "from tensorflow.keras.layers import Input, Embedding, Flatten, Dense, Concatenate\n",
        "\n",
        "# Mapping von user_id und media_id zu Indizes für das Modell\n",
        "user_map = {u: i for i, u in enumerate(df_encoded['user_id'].unique())}\n",
        "media_map = {m: i for i, m in enumerate(df_encoded['media_id'].unique())}\n",
        "\n",
        "df_encoded['user_idx'] = df_encoded['user_id'].map(user_map)\n",
        "df_encoded['media_idx'] = df_encoded['media_id'].map(media_map)\n",
        "\n",
        "# Trainings- und Testdaten aufteilen\n",
        "train, test = train_test_split(df_encoded, test_size=0.2, random_state=42)\n",
        "\n",
        "# Embedding-Dimensionen\n",
        "embedding_dim = 32\n",
        "\n",
        "# NCF-Modell definieren\n",
        "user_input = Input(shape=(1,))\n",
        "media_input = Input(shape=(1,))\n",
        "\n",
        "user_embedding = Embedding(input_dim=len(user_map), output_dim=embedding_dim)(user_input)\n",
        "media_embedding = Embedding(input_dim=len(media_map), output_dim=embedding_dim)(media_input)\n",
        "\n",
        "user_flatten = Flatten()(user_embedding)\n",
        "media_flatten = Flatten()(media_embedding)\n",
        "\n",
        "concat = Concatenate()([user_flatten, media_flatten])\n",
        "dense = Dense(64, activation='relu')(concat)\n",
        "dense = Dense(32, activation='relu')(dense)\n",
        "output = Dense(1, activation='sigmoid')(dense)  # Vorhersage zwischen 0 und 1\n",
        "\n",
        "# Modell kompilieren\n",
        "model = Model(inputs=[user_input, media_input], outputs=output)\n",
        "model.compile(optimizer='adam', loss='binary_crossentropy', metrics=['accuracy'])\n",
        "\n",
        "# Trainingsdaten\n",
        "X_train = [train['user_idx'].values, train['media_idx'].values]\n",
        "y_train = train['is_listened'].values\n",
        "\n",
        "# Testdaten\n",
        "X_test = [test['user_idx'].values, test['media_idx'].values]\n",
        "y_test = test['is_listened'].values\n",
        "\n",
        "# Modell trainieren\n",
        "model.fit(X_train, y_train, epochs=5, batch_size=512, validation_data=(X_test, y_test))\n"
      ],
      "metadata": {
        "colab": {
          "base_uri": "https://localhost:8080/"
        },
        "id": "8d18a646f4dabee4",
        "outputId": "12bccff0-6abd-403b-d3b6-3d757aecd6d7",
        "ExecuteTime": {
          "end_time": "2025-01-30T10:41:07.182543Z",
          "start_time": "2025-01-30T10:41:06.850932Z"
        }
      },
      "id": "8d18a646f4dabee4",
      "outputs": [
        {
          "ename": "ModuleNotFoundError",
          "evalue": "No module named 'tensorflow'",
          "output_type": "error",
          "traceback": [
            "\u001b[1;31m---------------------------------------------------------------------------\u001b[0m",
            "\u001b[1;31mModuleNotFoundError\u001b[0m                       Traceback (most recent call last)",
            "Cell \u001b[1;32mIn[7], line 1\u001b[0m\n\u001b[1;32m----> 1\u001b[0m \u001b[38;5;28;01mimport\u001b[39;00m\u001b[38;5;250m \u001b[39m\u001b[38;5;21;01mtensorflow\u001b[39;00m\u001b[38;5;250m \u001b[39m\u001b[38;5;28;01mas\u001b[39;00m\u001b[38;5;250m \u001b[39m\u001b[38;5;21;01mtf\u001b[39;00m\n\u001b[0;32m      2\u001b[0m \u001b[38;5;28;01mfrom\u001b[39;00m\u001b[38;5;250m \u001b[39m\u001b[38;5;21;01mtensorflow\u001b[39;00m\u001b[38;5;21;01m.\u001b[39;00m\u001b[38;5;21;01mkeras\u001b[39;00m\u001b[38;5;21;01m.\u001b[39;00m\u001b[38;5;21;01mmodels\u001b[39;00m\u001b[38;5;250m \u001b[39m\u001b[38;5;28;01mimport\u001b[39;00m Model\n\u001b[0;32m      3\u001b[0m \u001b[38;5;28;01mfrom\u001b[39;00m\u001b[38;5;250m \u001b[39m\u001b[38;5;21;01mtensorflow\u001b[39;00m\u001b[38;5;21;01m.\u001b[39;00m\u001b[38;5;21;01mkeras\u001b[39;00m\u001b[38;5;21;01m.\u001b[39;00m\u001b[38;5;21;01mlayers\u001b[39;00m\u001b[38;5;250m \u001b[39m\u001b[38;5;28;01mimport\u001b[39;00m Input, Embedding, Flatten, Dense, Concatenate\n",
            "\u001b[1;31mModuleNotFoundError\u001b[0m: No module named 'tensorflow'"
          ]
        }
      ],
      "execution_count": null
    }
  ],
  "metadata": {
    "kernelspec": {
      "display_name": "Python 3 (ipykernel)",
      "name": "python3",
      "language": "python"
    },
    "language_info": {
      "codemirror_mode": {
        "name": "ipython",
        "version": 2
      },
      "file_extension": ".py",
      "mimetype": "text/x-python",
      "name": "python",
      "nbconvert_exporter": "python",
      "pygments_lexer": "ipython2",
      "version": "2.7.6"
    },
    "colab": {
      "provenance": [],
      "gpuType": "T4",
      "include_colab_link": true
    },
    "accelerator": "GPU"
  },
  "nbformat": 4,
  "nbformat_minor": 5
}