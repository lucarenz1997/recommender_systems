{
 "cells": [
  {
   "cell_type": "markdown",
   "metadata": {
    "id": "view-in-github",
    "colab_type": "text"
   },
   "source": [
    "<a href=\"https://colab.research.google.com/github/lucarenz1997/recommender_systems/blob/main/data-prep.ipynb\" target=\"_parent\"><img src=\"https://colab.research.google.com/assets/colab-badge.svg\" alt=\"Open In Colab\"/></a>"
   ],
   "id": "a94ebd5f5307163d"
  },
  {
   "cell_type": "markdown",
   "source": [
    "# NCF (Neural Collaborative Filtering) Train model\n",
    "** Authors **: Rafaella and Luca\n",
    "## Provisorischer Data Import"
   ],
   "metadata": {
    "collapsed": false,
    "id": "dd70d100feef6261"
   },
   "id": "dd70d100feef6261"
  },
  {
   "metadata": {},
   "cell_type": "code",
   "outputs": [],
   "execution_count": null,
   "source": [
    "from google.colab import drive\n",
    "drive.mount('/content/drive')\n",
    "\n",
    "# Loading the dataset\n",
    "#import pandas as pd\n",
    "#data = pd.read_csv(\"/content/drive/MyDrive/Recommender/train.csv\")\n",
    "\n",
    "\n",
    "import warnings\n",
    "# Suppress all warnings\n",
    "warnings.filterwarnings(\"ignore\")"
   ],
   "id": "174c3c23ad23acdc"
  },
  {
   "cell_type": "code",
   "source": [
    "from google.colab import drive\n",
    "drive.mount('/content/drive')\n",
    "\n",
    "# Loading the dataset\n",
    "import pandas as pd\n",
    "data = pd.read_csv(\"/content/drive/MyDrive/Recommender/train.csv\")\n",
    "\n",
    "\n",
    "import warnings\n",
    "# Suppress all warnings\n",
    "warnings.filterwarnings(\"ignore\")"
   ],
   "metadata": {
    "colab": {
     "base_uri": "https://localhost:8080/"
    },
    "id": "9822ecc815631143",
    "outputId": "fa70b015-d72d-4636-ecab-b5353ac4387a",
    "ExecuteTime": {
     "end_time": "2025-01-30T09:12:39.142021Z",
     "start_time": "2025-01-30T09:12:38.893890Z"
    }
   },
   "id": "9822ecc815631143",
   "outputs": [
    {
     "ename": "ModuleNotFoundError",
     "evalue": "No module named 'google'",
     "output_type": "error",
     "traceback": [
      "\u001B[1;31m---------------------------------------------------------------------------\u001B[0m",
      "\u001B[1;31mModuleNotFoundError\u001B[0m                       Traceback (most recent call last)",
      "Cell \u001B[1;32mIn[7], line 1\u001B[0m\n\u001B[1;32m----> 1\u001B[0m \u001B[38;5;28;01mfrom\u001B[39;00m\u001B[38;5;250m \u001B[39m\u001B[38;5;21;01mgoogle\u001B[39;00m\u001B[38;5;21;01m.\u001B[39;00m\u001B[38;5;21;01mcolab\u001B[39;00m\u001B[38;5;250m \u001B[39m\u001B[38;5;28;01mimport\u001B[39;00m drive\n\u001B[0;32m      2\u001B[0m drive\u001B[38;5;241m.\u001B[39mmount(\u001B[38;5;124m'\u001B[39m\u001B[38;5;124m/content/drive\u001B[39m\u001B[38;5;124m'\u001B[39m)\n\u001B[0;32m      4\u001B[0m \u001B[38;5;66;03m# Loading the dataset\u001B[39;00m\n",
      "\u001B[1;31mModuleNotFoundError\u001B[0m: No module named 'google'"
     ]
    }
   ],
   "execution_count": 7
  },
  {
   "cell_type": "markdown",
   "source": "## NCF (Neural Collaborative Filtering) Train model",
   "metadata": {
    "collapsed": false,
    "id": "9bd0beabdb89b7cc"
   },
   "id": "9bd0beabdb89b7cc"
  },
  {
   "cell_type": "code",
   "outputs": [
    {
     "output_type": "stream",
     "name": "stdout",
     "text": [
      "genre_id                 category\n",
      "ts_listen          datetime64[ns]\n",
      "media_id                 category\n",
      "album_id                 category\n",
      "context_type             category\n",
      "release_date       datetime64[ns]\n",
      "platform_name            category\n",
      "platform_family          category\n",
      "media_duration              int64\n",
      "listen_type              category\n",
      "user_gender                  bool\n",
      "user_id                  category\n",
      "artist_id                category\n",
      "user_age                    int64\n",
      "is_listened                  bool\n",
      "dtype: object\n"
     ]
    }
   ],
   "source": "",
   "metadata": {
    "ExecuteTime": {
     "end_time": "2025-01-29T14:10:44.872382Z",
     "start_time": "2025-01-29T14:10:42.780305Z"
    },
    "colab": {
     "base_uri": "https://localhost:8080/"
    },
    "id": "8d18a646f4dabee4",
    "outputId": "12bccff0-6abd-403b-d3b6-3d757aecd6d7"
   },
   "id": "8d18a646f4dabee4",
   "execution_count": 3
  },
  {
   "cell_type": "code",
   "outputs": [],
   "source": [
    "data = data.dropna(subset=['release_date'])"
   ],
   "metadata": {
    "ExecuteTime": {
     "end_time": "2025-01-29T14:10:48.214314Z",
     "start_time": "2025-01-29T14:10:47.533514Z"
    },
    "id": "668c394c2b67b9df"
   },
   "id": "668c394c2b67b9df",
   "execution_count": 4
  },
  {
   "cell_type": "markdown",
   "source": "",
   "metadata": {
    "collapsed": false,
    "id": "f9ea85ffa36732b7"
   },
   "id": "f9ea85ffa36732b7"
  },
  {
   "cell_type": "markdown",
   "source": [
    "## Outlier Removal\n",
    "### Numerical data\n",
    "This subchapter shows how outliers were identified and removed using one of the outlier removal methods called IQR."
   ],
   "metadata": {
    "collapsed": false,
    "id": "37e7544d7b08cf3e"
   },
   "id": "37e7544d7b08cf3e"
  },
  {
   "cell_type": "markdown",
   "source": [
    "When analyzing ts_listen, it was shown that most of the timestamps were after 2016 while less than one thousand songs were listened before 2016. Therefore, it has been decided to remove outliers."
   ],
   "metadata": {
    "collapsed": false,
    "id": "80411da2e6ec140"
   },
   "id": "80411da2e6ec140"
  },
  {
   "cell_type": "code",
   "outputs": [
    {
     "output_type": "stream",
     "name": "stdout",
     "text": [
      "ts_listen\n",
      "1970-12-31        237\n",
      "1973-12-31          0\n",
      "1976-12-31          0\n",
      "1979-12-31          0\n",
      "1982-12-31        379\n",
      "1985-12-31          0\n",
      "1988-12-31          0\n",
      "1991-12-31          0\n",
      "1994-12-31          0\n",
      "1997-12-31          1\n",
      "2000-12-31          0\n",
      "2003-12-31          2\n",
      "2006-12-31          0\n",
      "2009-12-31        108\n",
      "2012-12-31         12\n",
      "2015-12-31         48\n",
      "2018-12-31    7151901\n",
      "Freq: 3YE-DEC, dtype: int64\n",
      "Removing outliers from ts_listen with lower boundary of 2016-10-15 13:10:32.375000320 and upper boundary of 2016-12-13 21:35:53.374999808\n"
     ]
    },
    {
     "output_type": "display_data",
     "data": {
      "text/plain": [
       "<Figure size 640x480 with 1 Axes>"
      ],
      "image/png": "[encoded data removed]"
     },
     "metadata": {}
    }
   ],
   "source": [
    "# Grouping by 5-year intervals to see the approximate counts\n",
    "grouped_data = data.groupby(pd.Grouper(key='ts_listen', freq='3YE')).size()\n",
    "print(grouped_data) # We can start at 2016\n",
    "\n",
    "len(data[data['ts_listen'] < pd.Timestamp('2015-12-31')])\n",
    "\n",
    "tmp = data[data['ts_listen'] > pd.Timestamp('2015-12-31')]\n",
    "plt.hist(tmp['ts_listen'])\n",
    "\n",
    "# outlier removal\n",
    "data = remove_outliers(data,'ts_listen')"
   ],
   "metadata": {
    "ExecuteTime": {
     "end_time": "2025-01-29T14:11:23.355458Z",
     "start_time": "2025-01-29T14:11:17.202195Z"
    },
    "colab": {
     "base_uri": "https://localhost:8080/",
     "height": 0
    },
    "id": "2f0cb8b81943960",
    "outputId": "793f40f3-b61b-4439-dcb2-f3255c6d5263"
   },
   "id": "2f0cb8b81943960",
   "execution_count": 8
  },
  {
   "cell_type": "code",
   "outputs": [
    {
     "output_type": "execute_result",
     "data": {
      "text/plain": [
       "(array([5.40000e+01, 1.21000e+02, 3.70000e+02, 7.58000e+02, 9.34000e+02,\n",
       "        9.97000e+02, 1.38700e+03, 1.29000e+03, 1.78700e+03, 2.02100e+03,\n",
       "        2.73500e+03, 4.90800e+03, 5.19500e+03, 3.65690e+04, 3.24259e+05,\n",
       "        3.85581e+05, 4.01821e+05, 3.85558e+05, 2.77370e+05, 2.81870e+05,\n",
       "        3.18830e+05, 3.33942e+05, 3.66025e+05, 3.00396e+05, 2.19057e+05,\n",
       "        2.76626e+05, 2.85963e+05, 3.13078e+05, 2.96868e+05, 2.54893e+05,\n",
       "        2.00035e+05, 2.51509e+05, 2.62013e+05, 2.52500e+05, 2.35281e+05,\n",
       "        2.04819e+05, 1.85820e+05, 1.97627e+05, 1.88008e+05, 9.11160e+04]),\n",
       " array([17089.58644676, 17090.77150926, 17091.95657176, 17093.14163426,\n",
       "        17094.32669676, 17095.51175926, 17096.69682176, 17097.88188426,\n",
       "        17099.06694676, 17100.25200926, 17101.43707176, 17102.62213426,\n",
       "        17103.80719676, 17104.99225926, 17106.17732176, 17107.36238426,\n",
       "        17108.54744676, 17109.73250926, 17110.91757176, 17112.10263426,\n",
       "        17113.28769676, 17114.47275926, 17115.65782176, 17116.84288426,\n",
       "        17118.02794676, 17119.21300926, 17120.39807176, 17121.58313426,\n",
       "        17122.76819676, 17123.95325926, 17125.13832176, 17126.32338426,\n",
       "        17127.50844676, 17128.69350926, 17129.87857176, 17131.06363426,\n",
       "        17132.24869676, 17133.43375926, 17134.61882176, 17135.80388426,\n",
       "        17136.98894676]),\n",
       " <BarContainer object of 40 artists>)"
      ]
     },
     "metadata": {},
     "execution_count": 9
    },
    {
     "output_type": "display_data",
     "data": {
      "text/plain": [
       "<Figure size 640x480 with 1 Axes>"
      ],
      "image/png": "[encoded data removed]"
     },
     "metadata": {}
    }
   ],
   "source": [
    "# After outlier removal\n",
    "plt.hist(data['ts_listen'], bins=40)"
   ],
   "metadata": {
    "ExecuteTime": {
     "end_time": "2025-01-29T14:11:30.407330Z",
     "start_time": "2025-01-29T14:11:29.911562Z"
    },
    "colab": {
     "base_uri": "https://localhost:8080/",
     "height": 0
    },
    "id": "45d5ddd9cf7b81bb",
    "outputId": "0fc66dc7-6a47-4973-c0e9-9c331794f94c"
   },
   "id": "45d5ddd9cf7b81bb",
   "execution_count": 9
  },
  {
   "cell_type": "code",
   "outputs": [
    {
     "output_type": "execute_result",
     "data": {
      "text/plain": [
       "{'whiskers': [<matplotlib.lines.Line2D at 0x7891f4c51450>,\n",
       "  <matplotlib.lines.Line2D at 0x7891f4c51e90>],\n",
       " 'caps': [<matplotlib.lines.Line2D at 0x7891f4c52850>,\n",
       "  <matplotlib.lines.Line2D at 0x7891f4c53190>],\n",
       " 'boxes': [<matplotlib.lines.Line2D at 0x7891f4c50c90>],\n",
       " 'medians': [<matplotlib.lines.Line2D at 0x7891f4c53b50>],\n",
       " 'fliers': [<matplotlib.lines.Line2D at 0x7891f4c68610>],\n",
       " 'means': []}"
      ]
     },
     "metadata": {},
     "execution_count": 10
    },
    {
     "output_type": "display_data",
     "data": {
      "text/plain": [
       "<Figure size 640x480 with 1 Axes>"
      ],
      "image/png": "[encoded data removed]"
     },
     "metadata": {}
    }
   ],
   "source": [
    "plt.boxplot(data['user_age']) # no outliers here. Ages between 18 and 30"
   ],
   "metadata": {
    "ExecuteTime": {
     "end_time": "2025-01-29T14:11:37.966992Z",
     "start_time": "2025-01-29T14:11:37.726666Z"
    },
    "colab": {
     "base_uri": "https://localhost:8080/",
     "height": 0
    },
    "id": "9cb8a53f9cd7e162",
    "outputId": "e9c3e5db-4291-48ed-fc24-2ab74e0ab646"
   },
   "id": "9cb8a53f9cd7e162",
   "execution_count": 10
  },
  {
   "cell_type": "markdown",
   "source": [
    "# Sampling\n",
    "Due to performance issues, it was not possible to perform complex calculations. therefore, it has been decided to only use a subset of the given data.\n",
    "In this case, we want to keep the distribution in respect to the usage of users."
   ],
   "metadata": {
    "collapsed": false,
    "id": "3fcd9bf80d021581"
   },
   "id": "3fcd9bf80d021581"
  },
  {
   "cell_type": "code",
   "outputs": [
    {
     "output_type": "display_data",
     "data": {
      "text/plain": [
       "<Figure size 1200x800 with 1 Axes>"
      ],
      "image/png": "[encoded data removed]"
     },
     "metadata": {}
    }
   ],
   "source": [
    "user_song_counts = data.groupby('user_id')['media_id'].count()\n",
    "\n",
    "# Create the histogram\n",
    "plt.figure(figsize=(12, 8))\n",
    "plt.hist(user_song_counts, bins=50, color='blue', edgecolor='black')\n",
    "plt.yscale('log')\n",
    "plt.title('Distribution of Songs Listened Per User')\n",
    "plt.xlabel('Number of Songs')\n",
    "plt.ylabel('Number of Users')\n",
    "plt.show()"
   ],
   "metadata": {
    "ExecuteTime": {
     "end_time": "2025-01-29T14:11:48.866505Z",
     "start_time": "2025-01-29T14:11:48.240100Z"
    },
    "colab": {
     "base_uri": "https://localhost:8080/",
     "height": 0
    },
    "id": "b88bd36826db1f61",
    "outputId": "ac9ac573-23ba-4b8b-f756-2eb16e91c159"
   },
   "id": "b88bd36826db1f61",
   "execution_count": 11
  },
  {
   "cell_type": "markdown",
   "source": [],
   "metadata": {
    "collapsed": false,
    "id": "913d0dbfd80bbacf"
   },
   "id": "913d0dbfd80bbacf"
  },
  {
   "cell_type": "code",
   "outputs": [
    {
     "output_type": "execute_result",
     "data": {
      "text/plain": [
       "count    19918.000000\n",
       "mean       358.971332\n",
       "std        480.852396\n",
       "min          0.000000\n",
       "25%         62.000000\n",
       "50%        186.000000\n",
       "75%        468.000000\n",
       "max       6006.000000\n",
       "Name: media_id, dtype: float64"
      ],
      "text/html": [
       "<div>\n",
       "<style scoped>\n",
       "    .dataframe tbody tr th:only-of-type {\n",
       "        vertical-align: middle;\n",
       "    }\n",
       "\n",
       "    .dataframe tbody tr th {\n",
       "        vertical-align: top;\n",
       "    }\n",
       "\n",
       "    .dataframe thead th {\n",
       "        text-align: right;\n",
       "    }\n",
       "</style>\n",
       "<table border=\"1\" class=\"dataframe\">\n",
       "  <thead>\n",
       "    <tr style=\"text-align: right;\">\n",
       "      <th></th>\n",
       "      <th>media_id</th>\n",
       "    </tr>\n",
       "  </thead>\n",
       "  <tbody>\n",
       "    <tr>\n",
       "      <th>count</th>\n",
       "      <td>19918.000000</td>\n",
       "    </tr>\n",
       "    <tr>\n",
       "      <th>mean</th>\n",
       "      <td>358.971332</td>\n",
       "    </tr>\n",
       "    <tr>\n",
       "      <th>std</th>\n",
       "      <td>480.852396</td>\n",
       "    </tr>\n",
       "    <tr>\n",
       "      <th>min</th>\n",
       "      <td>0.000000</td>\n",
       "    </tr>\n",
       "    <tr>\n",
       "      <th>25%</th>\n",
       "      <td>62.000000</td>\n",
       "    </tr>\n",
       "    <tr>\n",
       "      <th>50%</th>\n",
       "      <td>186.000000</td>\n",
       "    </tr>\n",
       "    <tr>\n",
       "      <th>75%</th>\n",
       "      <td>468.000000</td>\n",
       "    </tr>\n",
       "    <tr>\n",
       "      <th>max</th>\n",
       "      <td>6006.000000</td>\n",
       "    </tr>\n",
       "  </tbody>\n",
       "</table>\n",
       "</div><br><label><b>dtype:</b> float64</label>"
      ]
     },
     "metadata": {},
     "execution_count": 12
    }
   ],
   "source": [
    "user_song_counts.describe()"
   ],
   "metadata": {
    "ExecuteTime": {
     "end_time": "2025-01-29T18:29:01.061312Z",
     "start_time": "2025-01-29T18:29:01.054334Z"
    },
    "colab": {
     "base_uri": "https://localhost:8080/",
     "height": 0
    },
    "id": "d4140ed0b8881f8f",
    "outputId": "18bc9ccb-5ed5-4230-b813-5442d777eaa5"
   },
   "id": "d4140ed0b8881f8f",
   "execution_count": 12
  },
  {
   "cell_type": "code",
   "outputs": [],
   "source": [
    "import pandas as pd\n",
    "fraction = 0.2\n",
    "\n",
    "# Calculate the total number of songs each user has listened to\n",
    "user_song_counts = data.groupby('user_id')['media_id'].count()\n",
    "\n",
    "# Bin these counts into categories\n",
    "bins = [0, 60, 190, 500, float('inf')]  # 25th, 50th, 75th percentile\n",
    "labels = ['low', 'medium', 'high', 'very high']\n",
    "data['activity_level'] = pd.cut(user_song_counts, bins=bins, labels=labels, right=False)\n",
    "\n",
    "# Join this back to the main dataset\n",
    "data = data.join(data['user_id'].map(data['activity_level']), on='user_id', rsuffix='_r')\n",
    "\n",
    "# Perform stratified sampling\n",
    "sampled_data = data.groupby('activity_level', group_keys=False).apply(lambda x: x.sample(frac=fraction, random_state=42))\n"
   ],
   "metadata": {
    "ExecuteTime": {
     "end_time": "2025-01-29T18:33:52.732483Z",
     "start_time": "2025-01-29T18:33:50.546367Z"
    },
    "id": "420e1af5a474aa51"
   },
   "id": "420e1af5a474aa51",
   "execution_count": 13
  },
  {
   "cell_type": "code",
   "outputs": [
    {
     "output_type": "stream",
     "name": "stdout",
     "text": [
      "Original Data Proportions:\n",
      " activity_level\n",
      "medium       0.265475\n",
      "high         0.260036\n",
      "low          0.242321\n",
      "very high    0.232168\n",
      "Name: proportion, dtype: float64\n",
      "Sampled Data Proportions:\n",
      " activity_level\n",
      "medium       0.265475\n",
      "high         0.260036\n",
      "low          0.242424\n",
      "very high    0.232064\n",
      "Name: proportion, dtype: float64\n"
     ]
    }
   ],
   "source": [
    "# Calculate proportions of each activity level in the ORIGINAL data\n",
    "original_proportions = data['activity_level'].value_counts(normalize=True)\n",
    "print(\"Original Data Proportions:\\n\", original_proportions)\n",
    "\n",
    "# Calculate proportions of each activity level in the SAMPLED data\n",
    "sample_proportions = sampled_data['activity_level'].value_counts(normalize=True)\n",
    "print(\"Sampled Data Proportions:\\n\", sample_proportions)\n"
   ],
   "metadata": {
    "ExecuteTime": {
     "end_time": "2025-01-29T18:33:56.860613Z",
     "start_time": "2025-01-29T18:33:56.849556Z"
    },
    "colab": {
     "base_uri": "https://localhost:8080/"
    },
    "id": "ee72d09dbd5dc352",
    "outputId": "8417d73b-b099-4d0a-bfd2-c4eff338b2a7"
   },
   "id": "ee72d09dbd5dc352",
   "execution_count": 14
  },
  {
   "cell_type": "code",
   "outputs": [
    {
     "output_type": "display_data",
     "data": {
      "text/plain": [
       "<Figure size 640x480 with 1 Axes>"
      ],
      "image/png": "[encoded data removed]"
     },
     "metadata": {}
    }
   ],
   "source": [
    "import matplotlib.pyplot as plt\n",
    "\n",
    "# Create a DataFrame to hold the proportions\n",
    "comparison_df = pd.DataFrame({\n",
    "    'Original': original_proportions,\n",
    "    'Sampled': sample_proportions\n",
    "})\n",
    "\n",
    "comparison_df.plot(kind='bar')\n",
    "plt.title('Comparison of Activity Level Proportions')\n",
    "plt.ylabel('Proportion')\n",
    "plt.xlabel('Activity Level')\n",
    "plt.show()\n"
   ],
   "metadata": {
    "ExecuteTime": {
     "end_time": "2025-01-29T18:32:22.730634Z",
     "start_time": "2025-01-29T18:32:22.598292Z"
    },
    "colab": {
     "base_uri": "https://localhost:8080/",
     "height": 0
    },
    "id": "a7562b91ea4227e8",
    "outputId": "6823d586-2442-473f-be6c-ac682edbdb1c"
   },
   "id": "a7562b91ea4227e8",
   "execution_count": 15
  },
  {
   "cell_type": "markdown",
   "source": [
    "# Dimension Reduction\n",
    "For many features such as genre_id, artist_id, etc. there are several thousand unique values. Therefore, to not stretch our matrices unnecessarily and remove complexity, it has been decided to use minimum thresholds for specific categories which will reduce dimensions."
   ],
   "metadata": {
    "collapsed": false,
    "id": "461e9444b698ce30"
   },
   "id": "461e9444b698ce30"
  },
  {
   "cell_type": "code",
   "outputs": [
    {
     "output_type": "stream",
     "name": "stdout",
     "text": [
      "There are 2818 genres with fewer than 1 streams in the dataset.\n",
      "This corresponds to 96.44% of all streams.\n",
      "\n"
     ]
    }
   ],
   "source": [
    "genre_counts = sampled_data.groupby('genre_id')['genre_id'].count()\n",
    "\n",
    "# Filter out genres that appear less than a threshold\n",
    "threshold = 1\n",
    "rare_genres = genre_counts[genre_counts < threshold].index\n",
    "\n",
    "# Filter your data to only include songs with these genres\n",
    "filtered_data = sampled_data[~sampled_data['genre_id'].isin(rare_genres)]\n",
    "\n",
    "print(f\"There are {len(rare_genres)} genres with fewer than {threshold} streams in the dataset.\")\n",
    "print(f\"This corresponds to {round(len(rare_genres) * 100 / len(genre_counts), 2)}% of all streams.\\n\")"
   ],
   "metadata": {
    "colab": {
     "base_uri": "https://localhost:8080/"
    },
    "id": "e01a9a4c8e041bf",
    "outputId": "e165c803-7bdf-40ec-fd1f-da49a7772684"
   },
   "id": "e01a9a4c8e041bf",
   "execution_count": 42
  },
  {
   "cell_type": "code",
   "source": [
    "genre_counts"
   ],
   "metadata": {
    "id": "0smUBLsEiXfR",
    "outputId": "00726eae-8a10-4755-cb6e-110b160ff6b6",
    "colab": {
     "base_uri": "https://localhost:8080/",
     "height": 489
    }
   },
   "id": "0smUBLsEiXfR",
   "execution_count": 43,
   "outputs": [
    {
     "output_type": "execute_result",
     "data": {
      "text/plain": [
       "genre_id\n",
       "0          4\n",
       "1          4\n",
       "2          3\n",
       "3         41\n",
       "4          0\n",
       "          ..\n",
       "257431     0\n",
       "258111     0\n",
       "258911     0\n",
       "259501     0\n",
       "259731     0\n",
       "Name: genre_id, Length: 2922, dtype: int64"
      ],
      "text/html": [
       "<div>\n",
       "<style scoped>\n",
       "    .dataframe tbody tr th:only-of-type {\n",
       "        vertical-align: middle;\n",
       "    }\n",
       "\n",
       "    .dataframe tbody tr th {\n",
       "        vertical-align: top;\n",
       "    }\n",
       "\n",
       "    .dataframe thead th {\n",
       "        text-align: right;\n",
       "    }\n",
       "</style>\n",
       "<table border=\"1\" class=\"dataframe\">\n",
       "  <thead>\n",
       "    <tr style=\"text-align: right;\">\n",
       "      <th></th>\n",
       "      <th>genre_id</th>\n",
       "    </tr>\n",
       "    <tr>\n",
       "      <th>genre_id</th>\n",
       "      <th></th>\n",
       "    </tr>\n",
       "  </thead>\n",
       "  <tbody>\n",
       "    <tr>\n",
       "      <th>0</th>\n",
       "      <td>4</td>\n",
       "    </tr>\n",
       "    <tr>\n",
       "      <th>1</th>\n",
       "      <td>4</td>\n",
       "    </tr>\n",
       "    <tr>\n",
       "      <th>2</th>\n",
       "      <td>3</td>\n",
       "    </tr>\n",
       "    <tr>\n",
       "      <th>3</th>\n",
       "      <td>41</td>\n",
       "    </tr>\n",
       "    <tr>\n",
       "      <th>4</th>\n",
       "      <td>0</td>\n",
       "    </tr>\n",
       "    <tr>\n",
       "      <th>...</th>\n",
       "      <td>...</td>\n",
       "    </tr>\n",
       "    <tr>\n",
       "      <th>257431</th>\n",
       "      <td>0</td>\n",
       "    </tr>\n",
       "    <tr>\n",
       "      <th>258111</th>\n",
       "      <td>0</td>\n",
       "    </tr>\n",
       "    <tr>\n",
       "      <th>258911</th>\n",
       "      <td>0</td>\n",
       "    </tr>\n",
       "    <tr>\n",
       "      <th>259501</th>\n",
       "      <td>0</td>\n",
       "    </tr>\n",
       "    <tr>\n",
       "      <th>259731</th>\n",
       "      <td>0</td>\n",
       "    </tr>\n",
       "  </tbody>\n",
       "</table>\n",
       "<p>2922 rows × 1 columns</p>\n",
       "</div><br><label><b>dtype:</b> int64</label>"
      ]
     },
     "metadata": {},
     "execution_count": 43
    }
   ]
  },
  {
   "cell_type": "markdown",
   "source": [
    "# Feature Engineering"
   ],
   "metadata": {
    "collapsed": false,
    "id": "764bc7aeca598694"
   },
   "id": "764bc7aeca598694"
  },
  {
   "cell_type": "code",
   "outputs": [],
   "source": [
    "# Feature Engineering\n",
    "sampled_data[\"genre_popularity\"] = sampled_data.groupby('genre_id')['genre_id'].transform('count')\n",
    "sampled_data[\"media_popularity\"] = sampled_data.groupby('media_id')['media_id'].transform('count')\n",
    "sampled_data[\"artist_popularity\"] = sampled_data.groupby('artist_id')['artist_id'].transform('count')\n",
    "sampled_data[\"album_popularity\"] = sampled_data.groupby('album_id')['album_id'].transform('count')\n",
    "sampled_data['songs_listened'] = sampled_data.groupby('user_id')['media_id'].transform('count')\n",
    "\n",
    "user_top_genre = sampled_data.groupby(['user_id', 'genre_id']).size().groupby(level=0).idxmax().apply(lambda x: x[1])\n",
    "sampled_data['user_top_genre'] = sampled_data['user_id'].map(user_top_genre)\n",
    "\n",
    "# Not possible due to limited resources\n",
    "# user_top_artist = sampled_data.groupby(['user_id', 'artist_id']).size().groupby(level=0).idxmax().apply(lambda x: x[1])\n",
    "# sampled_data['user_top_artist'] = sampled_data['user_id'].map(user_top_artist)\n",
    "\n",
    "# user_top_song = sampled_data.groupby(['user_id', 'media_id']).size().groupby(level=0).idxmax().apply(lambda x: x[1])\n",
    "# sampled_data['user_top_song'] = sampled_data['user_id'].map(user_top_song)\n",
    "\n"
   ],
   "metadata": {
    "is_executing": true,
    "ExecuteTime": {
     "start_time": "2025-01-29T18:34:49.677580Z"
    },
    "id": "e5ced409788a7b8"
   },
   "id": "e5ced409788a7b8",
   "execution_count": 15
  },
  {
   "cell_type": "code",
   "outputs": [
    {
     "output_type": "execute_result",
     "data": {
      "text/plain": [
       "      genre_id           ts_listen  media_id album_id context_type  \\\n",
       "17685     6129 2016-11-23 11:03:38  76565888  7594557           17   \n",
       "14353     2525 2016-11-05 10:48:13  59506771  5814071            1   \n",
       "18916       27 2016-12-01 09:52:36  86453925  8722185            1   \n",
       "19622     2744 2016-11-03 15:54:20  88552805  8947947            1   \n",
       "18716       27 2016-11-29 21:00:23  86453925  8722185            1   \n",
       "...        ...                 ...       ...      ...          ...   \n",
       "716       2744 2016-11-03 18:16:33    876497    99692            0   \n",
       "2318         7 2016-11-07 19:44:11   1121220   120574            1   \n",
       "3074         7 2016-11-20 00:24:53   2438251   240153            2   \n",
       "4017         7 2016-11-08 10:11:54   2476197   243305            0   \n",
       "4412     25871 2016-11-01 17:06:03   2577512   251776            5   \n",
       "\n",
       "      release_date platform_name platform_family  media_duration listen_type  \\\n",
       "17685   2014-05-19             2               1             197           0   \n",
       "14353   2012-09-24             0               2             163           1   \n",
       "18916   2014-10-05             0               0             227           1   \n",
       "19622   2014-11-03             0               0             189           1   \n",
       "18716   2014-10-05             2               1             227           1   \n",
       "...            ...           ...             ...             ...         ...   \n",
       "716     1985-12-31             1               0             307           0   \n",
       "2318    2007-10-29             0               0             174           1   \n",
       "3074    2002-12-31             1               2             197           0   \n",
       "4017    2008-11-03             2               1             166           0   \n",
       "4412    2008-05-25             0               0             256           1   \n",
       "\n",
       "       ...  user_age  is_listened activity_level  user_id_r  genre_popularity  \\\n",
       "17685  ...        28         True            low  very high                10   \n",
       "14353  ...        28         True            low  very high               127   \n",
       "18916  ...        30         True            low  very high               517   \n",
       "19622  ...        21        False            low  very high               281   \n",
       "18716  ...        26        False            low     medium               517   \n",
       "...    ...       ...          ...            ...        ...               ...   \n",
       "716    ...        27         True      very high  very high               281   \n",
       "2318   ...        28        False      very high       high               659   \n",
       "3074   ...        29         True      very high  very high               659   \n",
       "4017   ...        28        False      very high  very high               659   \n",
       "4412   ...        25        False      very high  very high                71   \n",
       "\n",
       "      media_popularity artist_popularity  album_popularity  songs_listened  \\\n",
       "17685                1                10                10               6   \n",
       "14353              113               126               126               1   \n",
       "18916              268               268               268               1   \n",
       "19622                8                 8                 8               1   \n",
       "18716              268               268               268               2   \n",
       "...                ...               ...               ...             ...   \n",
       "716                 86               272               272               1   \n",
       "2318                 3                15                15               3   \n",
       "3074                 9                20               234               7   \n",
       "4017                 1                21                21               8   \n",
       "4412                64                64                71               1   \n",
       "\n",
       "       user_top_genre  \n",
       "17685            6129  \n",
       "14353            2525  \n",
       "18916              27  \n",
       "19622            2744  \n",
       "18716              27  \n",
       "...               ...  \n",
       "716              2744  \n",
       "2318                7  \n",
       "3074                7  \n",
       "4017                7  \n",
       "4412            25871  \n",
       "\n",
       "[3861 rows x 23 columns]"
      ],
      "text/html": [
       "\n",
       "  <div id=\"df-b3aaad70-5741-425c-b80e-f9ec46136eeb\" class=\"colab-df-container\">\n",
       "    <div>\n",
       "<style scoped>\n",
       "    .dataframe tbody tr th:only-of-type {\n",
       "        vertical-align: middle;\n",
       "    }\n",
       "\n",
       "    .dataframe tbody tr th {\n",
       "        vertical-align: top;\n",
       "    }\n",
       "\n",
       "    .dataframe thead th {\n",
       "        text-align: right;\n",
       "    }\n",
       "</style>\n",
       "<table border=\"1\" class=\"dataframe\">\n",
       "  <thead>\n",
       "    <tr style=\"text-align: right;\">\n",
       "      <th></th>\n",
       "      <th>genre_id</th>\n",
       "      <th>ts_listen</th>\n",
       "      <th>media_id</th>\n",
       "      <th>album_id</th>\n",
       "      <th>context_type</th>\n",
       "      <th>release_date</th>\n",
       "      <th>platform_name</th>\n",
       "      <th>platform_family</th>\n",
       "      <th>media_duration</th>\n",
       "      <th>listen_type</th>\n",
       "      <th>...</th>\n",
       "      <th>user_age</th>\n",
       "      <th>is_listened</th>\n",
       "      <th>activity_level</th>\n",
       "      <th>user_id_r</th>\n",
       "      <th>genre_popularity</th>\n",
       "      <th>media_popularity</th>\n",
       "      <th>artist_popularity</th>\n",
       "      <th>album_popularity</th>\n",
       "      <th>songs_listened</th>\n",
       "      <th>user_top_genre</th>\n",
       "    </tr>\n",
       "  </thead>\n",
       "  <tbody>\n",
       "    <tr>\n",
       "      <th>17685</th>\n",
       "      <td>6129</td>\n",
       "      <td>2016-11-23 11:03:38</td>\n",
       "      <td>76565888</td>\n",
       "      <td>7594557</td>\n",
       "      <td>17</td>\n",
       "      <td>2014-05-19</td>\n",
       "      <td>2</td>\n",
       "      <td>1</td>\n",
       "      <td>197</td>\n",
       "      <td>0</td>\n",
       "      <td>...</td>\n",
       "      <td>28</td>\n",
       "      <td>True</td>\n",
       "      <td>low</td>\n",
       "      <td>very high</td>\n",
       "      <td>10</td>\n",
       "      <td>1</td>\n",
       "      <td>10</td>\n",
       "      <td>10</td>\n",
       "      <td>6</td>\n",
       "      <td>6129</td>\n",
       "    </tr>\n",
       "    <tr>\n",
       "      <th>14353</th>\n",
       "      <td>2525</td>\n",
       "      <td>2016-11-05 10:48:13</td>\n",
       "      <td>59506771</td>\n",
       "      <td>5814071</td>\n",
       "      <td>1</td>\n",
       "      <td>2012-09-24</td>\n",
       "      <td>0</td>\n",
       "      <td>2</td>\n",
       "      <td>163</td>\n",
       "      <td>1</td>\n",
       "      <td>...</td>\n",
       "      <td>28</td>\n",
       "      <td>True</td>\n",
       "      <td>low</td>\n",
       "      <td>very high</td>\n",
       "      <td>127</td>\n",
       "      <td>113</td>\n",
       "      <td>126</td>\n",
       "      <td>126</td>\n",
       "      <td>1</td>\n",
       "      <td>2525</td>\n",
       "    </tr>\n",
       "    <tr>\n",
       "      <th>18916</th>\n",
       "      <td>27</td>\n",
       "      <td>2016-12-01 09:52:36</td>\n",
       "      <td>86453925</td>\n",
       "      <td>8722185</td>\n",
       "      <td>1</td>\n",
       "      <td>2014-10-05</td>\n",
       "      <td>0</td>\n",
       "      <td>0</td>\n",
       "      <td>227</td>\n",
       "      <td>1</td>\n",
       "      <td>...</td>\n",
       "      <td>30</td>\n",
       "      <td>True</td>\n",
       "      <td>low</td>\n",
       "      <td>very high</td>\n",
       "      <td>517</td>\n",
       "      <td>268</td>\n",
       "      <td>268</td>\n",
       "      <td>268</td>\n",
       "      <td>1</td>\n",
       "      <td>27</td>\n",
       "    </tr>\n",
       "    <tr>\n",
       "      <th>19622</th>\n",
       "      <td>2744</td>\n",
       "      <td>2016-11-03 15:54:20</td>\n",
       "      <td>88552805</td>\n",
       "      <td>8947947</td>\n",
       "      <td>1</td>\n",
       "      <td>2014-11-03</td>\n",
       "      <td>0</td>\n",
       "      <td>0</td>\n",
       "      <td>189</td>\n",
       "      <td>1</td>\n",
       "      <td>...</td>\n",
       "      <td>21</td>\n",
       "      <td>False</td>\n",
       "      <td>low</td>\n",
       "      <td>very high</td>\n",
       "      <td>281</td>\n",
       "      <td>8</td>\n",
       "      <td>8</td>\n",
       "      <td>8</td>\n",
       "      <td>1</td>\n",
       "      <td>2744</td>\n",
       "    </tr>\n",
       "    <tr>\n",
       "      <th>18716</th>\n",
       "      <td>27</td>\n",
       "      <td>2016-11-29 21:00:23</td>\n",
       "      <td>86453925</td>\n",
       "      <td>8722185</td>\n",
       "      <td>1</td>\n",
       "      <td>2014-10-05</td>\n",
       "      <td>2</td>\n",
       "      <td>1</td>\n",
       "      <td>227</td>\n",
       "      <td>1</td>\n",
       "      <td>...</td>\n",
       "      <td>26</td>\n",
       "      <td>False</td>\n",
       "      <td>low</td>\n",
       "      <td>medium</td>\n",
       "      <td>517</td>\n",
       "      <td>268</td>\n",
       "      <td>268</td>\n",
       "      <td>268</td>\n",
       "      <td>2</td>\n",
       "      <td>27</td>\n",
       "    </tr>\n",
       "    <tr>\n",
       "      <th>...</th>\n",
       "      <td>...</td>\n",
       "      <td>...</td>\n",
       "      <td>...</td>\n",
       "      <td>...</td>\n",
       "      <td>...</td>\n",
       "      <td>...</td>\n",
       "      <td>...</td>\n",
       "      <td>...</td>\n",
       "      <td>...</td>\n",
       "      <td>...</td>\n",
       "      <td>...</td>\n",
       "      <td>...</td>\n",
       "      <td>...</td>\n",
       "      <td>...</td>\n",
       "      <td>...</td>\n",
       "      <td>...</td>\n",
       "      <td>...</td>\n",
       "      <td>...</td>\n",
       "      <td>...</td>\n",
       "      <td>...</td>\n",
       "      <td>...</td>\n",
       "    </tr>\n",
       "    <tr>\n",
       "      <th>716</th>\n",
       "      <td>2744</td>\n",
       "      <td>2016-11-03 18:16:33</td>\n",
       "      <td>876497</td>\n",
       "      <td>99692</td>\n",
       "      <td>0</td>\n",
       "      <td>1985-12-31</td>\n",
       "      <td>1</td>\n",
       "      <td>0</td>\n",
       "      <td>307</td>\n",
       "      <td>0</td>\n",
       "      <td>...</td>\n",
       "      <td>27</td>\n",
       "      <td>True</td>\n",
       "      <td>very high</td>\n",
       "      <td>very high</td>\n",
       "      <td>281</td>\n",
       "      <td>86</td>\n",
       "      <td>272</td>\n",
       "      <td>272</td>\n",
       "      <td>1</td>\n",
       "      <td>2744</td>\n",
       "    </tr>\n",
       "    <tr>\n",
       "      <th>2318</th>\n",
       "      <td>7</td>\n",
       "      <td>2016-11-07 19:44:11</td>\n",
       "      <td>1121220</td>\n",
       "      <td>120574</td>\n",
       "      <td>1</td>\n",
       "      <td>2007-10-29</td>\n",
       "      <td>0</td>\n",
       "      <td>0</td>\n",
       "      <td>174</td>\n",
       "      <td>1</td>\n",
       "      <td>...</td>\n",
       "      <td>28</td>\n",
       "      <td>False</td>\n",
       "      <td>very high</td>\n",
       "      <td>high</td>\n",
       "      <td>659</td>\n",
       "      <td>3</td>\n",
       "      <td>15</td>\n",
       "      <td>15</td>\n",
       "      <td>3</td>\n",
       "      <td>7</td>\n",
       "    </tr>\n",
       "    <tr>\n",
       "      <th>3074</th>\n",
       "      <td>7</td>\n",
       "      <td>2016-11-20 00:24:53</td>\n",
       "      <td>2438251</td>\n",
       "      <td>240153</td>\n",
       "      <td>2</td>\n",
       "      <td>2002-12-31</td>\n",
       "      <td>1</td>\n",
       "      <td>2</td>\n",
       "      <td>197</td>\n",
       "      <td>0</td>\n",
       "      <td>...</td>\n",
       "      <td>29</td>\n",
       "      <td>True</td>\n",
       "      <td>very high</td>\n",
       "      <td>very high</td>\n",
       "      <td>659</td>\n",
       "      <td>9</td>\n",
       "      <td>20</td>\n",
       "      <td>234</td>\n",
       "      <td>7</td>\n",
       "      <td>7</td>\n",
       "    </tr>\n",
       "    <tr>\n",
       "      <th>4017</th>\n",
       "      <td>7</td>\n",
       "      <td>2016-11-08 10:11:54</td>\n",
       "      <td>2476197</td>\n",
       "      <td>243305</td>\n",
       "      <td>0</td>\n",
       "      <td>2008-11-03</td>\n",
       "      <td>2</td>\n",
       "      <td>1</td>\n",
       "      <td>166</td>\n",
       "      <td>0</td>\n",
       "      <td>...</td>\n",
       "      <td>28</td>\n",
       "      <td>False</td>\n",
       "      <td>very high</td>\n",
       "      <td>very high</td>\n",
       "      <td>659</td>\n",
       "      <td>1</td>\n",
       "      <td>21</td>\n",
       "      <td>21</td>\n",
       "      <td>8</td>\n",
       "      <td>7</td>\n",
       "    </tr>\n",
       "    <tr>\n",
       "      <th>4412</th>\n",
       "      <td>25871</td>\n",
       "      <td>2016-11-01 17:06:03</td>\n",
       "      <td>2577512</td>\n",
       "      <td>251776</td>\n",
       "      <td>5</td>\n",
       "      <td>2008-05-25</td>\n",
       "      <td>0</td>\n",
       "      <td>0</td>\n",
       "      <td>256</td>\n",
       "      <td>1</td>\n",
       "      <td>...</td>\n",
       "      <td>25</td>\n",
       "      <td>False</td>\n",
       "      <td>very high</td>\n",
       "      <td>very high</td>\n",
       "      <td>71</td>\n",
       "      <td>64</td>\n",
       "      <td>64</td>\n",
       "      <td>71</td>\n",
       "      <td>1</td>\n",
       "      <td>25871</td>\n",
       "    </tr>\n",
       "  </tbody>\n",
       "</table>\n",
       "<p>3861 rows × 23 columns</p>\n",
       "</div>\n",
       "    <div class=\"colab-df-buttons\">\n",
       "\n",
       "  <div class=\"colab-df-container\">\n",
       "    <button class=\"colab-df-convert\" onclick=\"convertToInteractive('df-b3aaad70-5741-425c-b80e-f9ec46136eeb')\"\n",
       "            title=\"Convert this dataframe to an interactive table.\"\n",
       "            style=\"display:none;\">\n",
       "\n",
       "  <svg xmlns=\"http://www.w3.org/2000/svg\" height=\"24px\" viewBox=\"0 -960 960 960\">\n",
       "    <path d=\"M120-120v-720h720v720H120Zm60-500h600v-160H180v160Zm220 220h160v-160H400v160Zm0 220h160v-160H400v160ZM180-400h160v-160H180v160Zm440 0h160v-160H620v160ZM180-180h160v-160H180v160Zm440 0h160v-160H620v160Z\"/>\n",
       "  </svg>\n",
       "    </button>\n",
       "\n",
       "  <style>\n",
       "    .colab-df-container {\n",
       "      display:flex;\n",
       "      gap: 12px;\n",
       "    }\n",
       "\n",
       "    .colab-df-convert {\n",
       "      background-color: #E8F0FE;\n",
       "      border: none;\n",
       "      border-radius: 50%;\n",
       "      cursor: pointer;\n",
       "      display: none;\n",
       "      fill: #1967D2;\n",
       "      height: 32px;\n",
       "      padding: 0 0 0 0;\n",
       "      width: 32px;\n",
       "    }\n",
       "\n",
       "    .colab-df-convert:hover {\n",
       "      background-color: #E2EBFA;\n",
       "      box-shadow: 0px 1px 2px rgba(60, 64, 67, 0.3), 0px 1px 3px 1px rgba(60, 64, 67, 0.15);\n",
       "      fill: #174EA6;\n",
       "    }\n",
       "\n",
       "    .colab-df-buttons div {\n",
       "      margin-bottom: 4px;\n",
       "    }\n",
       "\n",
       "    [theme=dark] .colab-df-convert {\n",
       "      background-color: #3B4455;\n",
       "      fill: #D2E3FC;\n",
       "    }\n",
       "\n",
       "    [theme=dark] .colab-df-convert:hover {\n",
       "      background-color: #434B5C;\n",
       "      box-shadow: 0px 1px 3px 1px rgba(0, 0, 0, 0.15);\n",
       "      filter: drop-shadow(0px 1px 2px rgba(0, 0, 0, 0.3));\n",
       "      fill: #FFFFFF;\n",
       "    }\n",
       "  </style>\n",
       "\n",
       "    <script>\n",
       "      const buttonEl =\n",
       "        document.querySelector('#df-b3aaad70-5741-425c-b80e-f9ec46136eeb button.colab-df-convert');\n",
       "      buttonEl.style.display =\n",
       "        google.colab.kernel.accessAllowed ? 'block' : 'none';\n",
       "\n",
       "      async function convertToInteractive(key) {\n",
       "        const element = document.querySelector('#df-b3aaad70-5741-425c-b80e-f9ec46136eeb');\n",
       "        const dataTable =\n",
       "          await google.colab.kernel.invokeFunction('convertToInteractive',\n",
       "                                                    [key], {});\n",
       "        if (!dataTable) return;\n",
       "\n",
       "        const docLinkHtml = 'Like what you see? Visit the ' +\n",
       "          '<a target=\"_blank\" href=https://colab.research.google.com/notebooks/data_table.ipynb>data table notebook</a>'\n",
       "          + ' to learn more about interactive tables.';\n",
       "        element.innerHTML = '';\n",
       "        dataTable['output_type'] = 'display_data';\n",
       "        await google.colab.output.renderOutput(dataTable, element);\n",
       "        const docLink = document.createElement('div');\n",
       "        docLink.innerHTML = docLinkHtml;\n",
       "        element.appendChild(docLink);\n",
       "      }\n",
       "    </script>\n",
       "  </div>\n",
       "\n",
       "\n",
       "<div id=\"df-7ba79908-f8da-444f-953e-9599d07a66e2\">\n",
       "  <button class=\"colab-df-quickchart\" onclick=\"quickchart('df-7ba79908-f8da-444f-953e-9599d07a66e2')\"\n",
       "            title=\"Suggest charts\"\n",
       "            style=\"display:none;\">\n",
       "\n",
       "<svg xmlns=\"http://www.w3.org/2000/svg\" height=\"24px\"viewBox=\"0 0 24 24\"\n",
       "     width=\"24px\">\n",
       "    <g>\n",
       "        <path d=\"M19 3H5c-1.1 0-2 .9-2 2v14c0 1.1.9 2 2 2h14c1.1 0 2-.9 2-2V5c0-1.1-.9-2-2-2zM9 17H7v-7h2v7zm4 0h-2V7h2v10zm4 0h-2v-4h2v4z\"/>\n",
       "    </g>\n",
       "</svg>\n",
       "  </button>\n",
       "\n",
       "<style>\n",
       "  .colab-df-quickchart {\n",
       "      --bg-color: #E8F0FE;\n",
       "      --fill-color: #1967D2;\n",
       "      --hover-bg-color: #E2EBFA;\n",
       "      --hover-fill-color: #174EA6;\n",
       "      --disabled-fill-color: #AAA;\n",
       "      --disabled-bg-color: #DDD;\n",
       "  }\n",
       "\n",
       "  [theme=dark] .colab-df-quickchart {\n",
       "      --bg-color: #3B4455;\n",
       "      --fill-color: #D2E3FC;\n",
       "      --hover-bg-color: #434B5C;\n",
       "      --hover-fill-color: #FFFFFF;\n",
       "      --disabled-bg-color: #3B4455;\n",
       "      --disabled-fill-color: #666;\n",
       "  }\n",
       "\n",
       "  .colab-df-quickchart {\n",
       "    background-color: var(--bg-color);\n",
       "    border: none;\n",
       "    border-radius: 50%;\n",
       "    cursor: pointer;\n",
       "    display: none;\n",
       "    fill: var(--fill-color);\n",
       "    height: 32px;\n",
       "    padding: 0;\n",
       "    width: 32px;\n",
       "  }\n",
       "\n",
       "  .colab-df-quickchart:hover {\n",
       "    background-color: var(--hover-bg-color);\n",
       "    box-shadow: 0 1px 2px rgba(60, 64, 67, 0.3), 0 1px 3px 1px rgba(60, 64, 67, 0.15);\n",
       "    fill: var(--button-hover-fill-color);\n",
       "  }\n",
       "\n",
       "  .colab-df-quickchart-complete:disabled,\n",
       "  .colab-df-quickchart-complete:disabled:hover {\n",
       "    background-color: var(--disabled-bg-color);\n",
       "    fill: var(--disabled-fill-color);\n",
       "    box-shadow: none;\n",
       "  }\n",
       "\n",
       "  .colab-df-spinner {\n",
       "    border: 2px solid var(--fill-color);\n",
       "    border-color: transparent;\n",
       "    border-bottom-color: var(--fill-color);\n",
       "    animation:\n",
       "      spin 1s steps(1) infinite;\n",
       "  }\n",
       "\n",
       "  @keyframes spin {\n",
       "    0% {\n",
       "      border-color: transparent;\n",
       "      border-bottom-color: var(--fill-color);\n",
       "      border-left-color: var(--fill-color);\n",
       "    }\n",
       "    20% {\n",
       "      border-color: transparent;\n",
       "      border-left-color: var(--fill-color);\n",
       "      border-top-color: var(--fill-color);\n",
       "    }\n",
       "    30% {\n",
       "      border-color: transparent;\n",
       "      border-left-color: var(--fill-color);\n",
       "      border-top-color: var(--fill-color);\n",
       "      border-right-color: var(--fill-color);\n",
       "    }\n",
       "    40% {\n",
       "      border-color: transparent;\n",
       "      border-right-color: var(--fill-color);\n",
       "      border-top-color: var(--fill-color);\n",
       "    }\n",
       "    60% {\n",
       "      border-color: transparent;\n",
       "      border-right-color: var(--fill-color);\n",
       "    }\n",
       "    80% {\n",
       "      border-color: transparent;\n",
       "      border-right-color: var(--fill-color);\n",
       "      border-bottom-color: var(--fill-color);\n",
       "    }\n",
       "    90% {\n",
       "      border-color: transparent;\n",
       "      border-bottom-color: var(--fill-color);\n",
       "    }\n",
       "  }\n",
       "</style>\n",
       "\n",
       "  <script>\n",
       "    async function quickchart(key) {\n",
       "      const quickchartButtonEl =\n",
       "        document.querySelector('#' + key + ' button');\n",
       "      quickchartButtonEl.disabled = true;  // To prevent multiple clicks.\n",
       "      quickchartButtonEl.classList.add('colab-df-spinner');\n",
       "      try {\n",
       "        const charts = await google.colab.kernel.invokeFunction(\n",
       "            'suggestCharts', [key], {});\n",
       "      } catch (error) {\n",
       "        console.error('Error during call to suggestCharts:', error);\n",
       "      }\n",
       "      quickchartButtonEl.classList.remove('colab-df-spinner');\n",
       "      quickchartButtonEl.classList.add('colab-df-quickchart-complete');\n",
       "    }\n",
       "    (() => {\n",
       "      let quickchartButtonEl =\n",
       "        document.querySelector('#df-7ba79908-f8da-444f-953e-9599d07a66e2 button');\n",
       "      quickchartButtonEl.style.display =\n",
       "        google.colab.kernel.accessAllowed ? 'block' : 'none';\n",
       "    })();\n",
       "  </script>\n",
       "</div>\n",
       "\n",
       "  <div id=\"id_62176496-c22b-4b07-8aad-1f69f096d3e7\">\n",
       "    <style>\n",
       "      .colab-df-generate {\n",
       "        background-color: #E8F0FE;\n",
       "        border: none;\n",
       "        border-radius: 50%;\n",
       "        cursor: pointer;\n",
       "        display: none;\n",
       "        fill: #1967D2;\n",
       "        height: 32px;\n",
       "        padding: 0 0 0 0;\n",
       "        width: 32px;\n",
       "      }\n",
       "\n",
       "      .colab-df-generate:hover {\n",
       "        background-color: #E2EBFA;\n",
       "        box-shadow: 0px 1px 2px rgba(60, 64, 67, 0.3), 0px 1px 3px 1px rgba(60, 64, 67, 0.15);\n",
       "        fill: #174EA6;\n",
       "      }\n",
       "\n",
       "      [theme=dark] .colab-df-generate {\n",
       "        background-color: #3B4455;\n",
       "        fill: #D2E3FC;\n",
       "      }\n",
       "\n",
       "      [theme=dark] .colab-df-generate:hover {\n",
       "        background-color: #434B5C;\n",
       "        box-shadow: 0px 1px 3px 1px rgba(0, 0, 0, 0.15);\n",
       "        filter: drop-shadow(0px 1px 2px rgba(0, 0, 0, 0.3));\n",
       "        fill: #FFFFFF;\n",
       "      }\n",
       "    </style>\n",
       "    <button class=\"colab-df-generate\" onclick=\"generateWithVariable('sampled_data')\"\n",
       "            title=\"Generate code using this dataframe.\"\n",
       "            style=\"display:none;\">\n",
       "\n",
       "  <svg xmlns=\"http://www.w3.org/2000/svg\" height=\"24px\"viewBox=\"0 0 24 24\"\n",
       "       width=\"24px\">\n",
       "    <path d=\"M7,19H8.4L18.45,9,17,7.55,7,17.6ZM5,21V16.75L18.45,3.32a2,2,0,0,1,2.83,0l1.4,1.43a1.91,1.91,0,0,1,.58,1.4,1.91,1.91,0,0,1-.58,1.4L9.25,21ZM18.45,9,17,7.55Zm-12,3A5.31,5.31,0,0,0,4.9,8.1,5.31,5.31,0,0,0,1,6.5,5.31,5.31,0,0,0,4.9,4.9,5.31,5.31,0,0,0,6.5,1,5.31,5.31,0,0,0,8.1,4.9,5.31,5.31,0,0,0,12,6.5,5.46,5.46,0,0,0,6.5,12Z\"/>\n",
       "  </svg>\n",
       "    </button>\n",
       "    <script>\n",
       "      (() => {\n",
       "      const buttonEl =\n",
       "        document.querySelector('#id_62176496-c22b-4b07-8aad-1f69f096d3e7 button.colab-df-generate');\n",
       "      buttonEl.style.display =\n",
       "        google.colab.kernel.accessAllowed ? 'block' : 'none';\n",
       "\n",
       "      buttonEl.onclick = () => {\n",
       "        google.colab.notebook.generateWithVariable('sampled_data');\n",
       "      }\n",
       "      })();\n",
       "    </script>\n",
       "  </div>\n",
       "\n",
       "    </div>\n",
       "  </div>\n"
      ],
      "application/vnd.google.colaboratory.intrinsic+json": {
       "type": "dataframe",
       "variable_name": "sampled_data"
      }
     },
     "metadata": {},
     "execution_count": 16
    }
   ],
   "source": [
    "sampled_data"
   ],
   "metadata": {
    "colab": {
     "base_uri": "https://localhost:8080/",
     "height": 790
    },
    "id": "bca300ab1c32923c",
    "outputId": "7d2cd964-b44f-433a-e1aa-5326fe377749"
   },
   "id": "bca300ab1c32923c",
   "execution_count": 16
  }
 ],
 "metadata": {
  "kernelspec": {
   "display_name": "Python 3",
   "name": "python3"
  },
  "language_info": {
   "codemirror_mode": {
    "name": "ipython",
    "version": 2
   },
   "file_extension": ".py",
   "mimetype": "text/x-python",
   "name": "python",
   "nbconvert_exporter": "python",
   "pygments_lexer": "ipython2",
   "version": "2.7.6"
  },
  "colab": {
   "provenance": [],
   "gpuType": "T4",
   "include_colab_link": true
  },
  "accelerator": "GPU"
 },
 "nbformat": 4,
 "nbformat_minor": 5
}
