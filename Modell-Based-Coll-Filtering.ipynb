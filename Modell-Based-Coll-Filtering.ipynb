{
  "cells": [
    {
      "cell_type": "markdown",
      "metadata": {
        "id": "view-in-github",
        "colab_type": "text"
      },
      "source": [
        "<a href=\"https://colab.research.google.com/github/lucarenz1997/recommender_systems/blob/main/Modell-Based-Coll-Filtering.ipynb\" target=\"_parent\"><img src=\"https://colab.research.google.com/assets/colab-badge.svg\" alt=\"Open In Colab\"/></a>"
      ]
    },
    {
      "metadata": {
        "id": "a94ebd5f5307163d"
      },
      "cell_type": "markdown",
      "source": [
        "<a href=\"https://colab.research.google.com/github/lucarenz1997/recommender_systems/blob/main/Modell-Based-Coll-Filtering.ipynb\" target=\"_parent\"><img src=\"https://colab.research.google.com/assets/colab-badge.svg\" alt=\"Open In Colab\"/></a>"
      ],
      "id": "a94ebd5f5307163d"
    },
    {
      "cell_type": "markdown",
      "source": [
        "# Modell-Based-Coll-Filtering\n",
        "** Authors **: Rafaella and Luca"
      ],
      "metadata": {
        "collapsed": false,
        "id": "dd70d100feef6261"
      },
      "id": "dd70d100feef6261"
    },
    {
      "cell_type": "code",
      "source": [
        "#!pip install scikit-surprise --user\n",
        "#!pip install --no-cache-dir scikit-surprise\n"
      ],
      "metadata": {
        "id": "3BG82IUPIKbS",
        "outputId": "eec48f7d-c5a5-4af3-89d7-81d7bcb0f43f",
        "colab": {
          "base_uri": "https://localhost:8080/"
        }
      },
      "id": "3BG82IUPIKbS",
      "execution_count": 9,
      "outputs": [
        {
          "output_type": "stream",
          "name": "stdout",
          "text": [
            "Requirement already satisfied: scikit-surprise in /root/.local/lib/python3.11/site-packages (1.1.4)\n",
            "Requirement already satisfied: joblib>=1.2.0 in /usr/local/lib/python3.11/dist-packages (from scikit-surprise) (1.4.2)\n",
            "Requirement already satisfied: numpy>=1.19.5 in /usr/local/lib/python3.11/dist-packages (from scikit-surprise) (1.26.4)\n",
            "Requirement already satisfied: scipy>=1.6.0 in /usr/local/lib/python3.11/dist-packages (from scikit-surprise) (1.13.1)\n"
          ]
        }
      ]
    },
    {
      "cell_type": "markdown",
      "source": [
        "## Setup"
      ],
      "metadata": {
        "id": "FrbUZGF-u7Uj"
      },
      "id": "FrbUZGF-u7Uj"
    },
    {
      "cell_type": "code",
      "source": [
        "import numpy as np\n",
        "import torch\n",
        "import torch.nn as nn\n",
        "import torch.optim as optim\n",
        "from torch.utils.data import Dataset, DataLoader\n",
        "import tensorflow as tf\n",
        "from tensorflow.keras.layers import Input, Embedding, Flatten, Dense, Concatenate, Dropout\n",
        "from tensorflow.keras.models import Model\n",
        "from sklearn.preprocessing import LabelEncoder, MinMaxScaler\n",
        "from sklearn.model_selection import train_test_split\n",
        "import pandas as pd\n",
        "from sklearn.metrics import precision_score, recall_score, f1_score, accuracy_score, roc_curve, auc\n",
        "from surprise import Dataset, Reader, SVD\n",
        "from surprise.model_selection import train_test_split\n",
        "import implicit\n",
        "from surprise import accuracy\n",
        "from collections import defaultdict\n",
        "import matplotlib.pyplot as plt\n",
        "from scipy.sparse import csr_matrix\n",
        "from google.colab import drive\n",
        "drive.mount('/content/drive')\n",
        "import warnings\n",
        "# Suppress all warnings\n",
        "warnings.filterwarnings(\"ignore\")"
      ],
      "metadata": {
        "colab": {
          "base_uri": "https://localhost:8080/",
          "height": 384
        },
        "id": "DzzuOXLqt1iK",
        "outputId": "c6bcd567-e647-4105-a5aa-40d322a89b39"
      },
      "id": "DzzuOXLqt1iK",
      "execution_count": 10,
      "outputs": [
        {
          "output_type": "error",
          "ename": "ModuleNotFoundError",
          "evalue": "No module named 'surprise'",
          "traceback": [
            "\u001b[0;31m---------------------------------------------------------------------------\u001b[0m",
            "\u001b[0;31mModuleNotFoundError\u001b[0m                       Traceback (most recent call last)",
            "\u001b[0;32m<ipython-input-10-489518fda52b>\u001b[0m in \u001b[0;36m<cell line: 0>\u001b[0;34m()\u001b[0m\n\u001b[1;32m     11\u001b[0m \u001b[0;32mimport\u001b[0m \u001b[0mpandas\u001b[0m \u001b[0;32mas\u001b[0m \u001b[0mpd\u001b[0m\u001b[0;34m\u001b[0m\u001b[0;34m\u001b[0m\u001b[0m\n\u001b[1;32m     12\u001b[0m \u001b[0;32mfrom\u001b[0m \u001b[0msklearn\u001b[0m\u001b[0;34m.\u001b[0m\u001b[0mmetrics\u001b[0m \u001b[0;32mimport\u001b[0m \u001b[0mprecision_score\u001b[0m\u001b[0;34m,\u001b[0m \u001b[0mrecall_score\u001b[0m\u001b[0;34m,\u001b[0m \u001b[0mf1_score\u001b[0m\u001b[0;34m,\u001b[0m \u001b[0maccuracy_score\u001b[0m\u001b[0;34m,\u001b[0m \u001b[0mroc_curve\u001b[0m\u001b[0;34m,\u001b[0m \u001b[0mauc\u001b[0m\u001b[0;34m\u001b[0m\u001b[0;34m\u001b[0m\u001b[0m\n\u001b[0;32m---> 13\u001b[0;31m \u001b[0;32mfrom\u001b[0m \u001b[0msurprise\u001b[0m \u001b[0;32mimport\u001b[0m \u001b[0mDataset\u001b[0m\u001b[0;34m,\u001b[0m \u001b[0mReader\u001b[0m\u001b[0;34m,\u001b[0m \u001b[0mSVD\u001b[0m\u001b[0;34m\u001b[0m\u001b[0;34m\u001b[0m\u001b[0m\n\u001b[0m\u001b[1;32m     14\u001b[0m \u001b[0;32mfrom\u001b[0m \u001b[0msurprise\u001b[0m\u001b[0;34m.\u001b[0m\u001b[0mmodel_selection\u001b[0m \u001b[0;32mimport\u001b[0m \u001b[0mtrain_test_split\u001b[0m\u001b[0;34m\u001b[0m\u001b[0;34m\u001b[0m\u001b[0m\n\u001b[1;32m     15\u001b[0m \u001b[0;32mimport\u001b[0m \u001b[0mimplicit\u001b[0m\u001b[0;34m\u001b[0m\u001b[0;34m\u001b[0m\u001b[0m\n",
            "\u001b[0;31mModuleNotFoundError\u001b[0m: No module named 'surprise'",
            "",
            "\u001b[0;31m---------------------------------------------------------------------------\u001b[0;32m\nNOTE: If your import is failing due to a missing package, you can\nmanually install dependencies using either !pip or !apt.\n\nTo view examples of installing some common dependencies, click the\n\"Open Examples\" button below.\n\u001b[0;31m---------------------------------------------------------------------------\u001b[0m\n"
          ],
          "errorDetails": {
            "actions": [
              {
                "action": "open_url",
                "actionText": "Open Examples",
                "url": "/notebooks/snippets/importing_libraries.ipynb"
              }
            ]
          }
        }
      ]
    },
    {
      "cell_type": "code",
      "source": [
        "!pip install --no-cache-dir scikit-surprise"
      ],
      "metadata": {
        "id": "HjwyY06mI_ev",
        "outputId": "045c9c81-eb9b-4928-c2d6-53369c40973f",
        "colab": {
          "base_uri": "https://localhost:8080/"
        }
      },
      "id": "HjwyY06mI_ev",
      "execution_count": 12,
      "outputs": [
        {
          "output_type": "stream",
          "name": "stdout",
          "text": [
            "Requirement already satisfied: scikit-surprise in /root/.local/lib/python3.11/site-packages (1.1.4)\n",
            "Requirement already satisfied: joblib>=1.2.0 in /usr/local/lib/python3.11/dist-packages (from scikit-surprise) (1.4.2)\n",
            "Requirement already satisfied: numpy>=1.19.5 in /usr/local/lib/python3.11/dist-packages (from scikit-surprise) (1.26.4)\n",
            "Requirement already satisfied: scipy>=1.6.0 in /usr/local/lib/python3.11/dist-packages (from scikit-surprise) (1.13.1)\n"
          ]
        }
      ]
    },
    {
      "cell_type": "code",
      "source": [
        "!pip install scikit-surprise --user"
      ],
      "metadata": {
        "id": "F4N975WOIHZf",
        "outputId": "3224b3b5-e854-400f-ec61-91435525b03c",
        "colab": {
          "base_uri": "https://localhost:8080/"
        }
      },
      "id": "F4N975WOIHZf",
      "execution_count": null,
      "outputs": [
        {
          "output_type": "stream",
          "name": "stdout",
          "text": [
            "Collecting scikit-surprise\n",
            "  Downloading scikit_surprise-1.1.4.tar.gz (154 kB)\n",
            "\u001b[?25l     \u001b[90m━━━━━━━━━━━━━━━━━━━━━━━━━━━━━━━━━━━━━━━━\u001b[0m \u001b[32m0.0/154.4 kB\u001b[0m \u001b[31m?\u001b[0m eta \u001b[36m-:--:--\u001b[0m\r\u001b[2K     \u001b[91m━━━━━━━━━━━━━━━━━━━━━━━━━━━━━━━━━━━━━━━\u001b[0m\u001b[91m╸\u001b[0m \u001b[32m153.6/154.4 kB\u001b[0m \u001b[31m4.9 MB/s\u001b[0m eta \u001b[36m0:00:01\u001b[0m\r\u001b[2K     \u001b[90m━━━━━━━━━━━━━━━━━━━━━━━━━━━━━━━━━━━━━━━━\u001b[0m \u001b[32m154.4/154.4 kB\u001b[0m \u001b[31m3.4 MB/s\u001b[0m eta \u001b[36m0:00:00\u001b[0m\n",
            "\u001b[?25h  Installing build dependencies ... \u001b[?25l\u001b[?25hdone\n",
            "  Getting requirements to build wheel ... \u001b[?25l\u001b[?25hdone\n",
            "  Preparing metadata (pyproject.toml) ... \u001b[?25l\u001b[?25hdone\n",
            "Requirement already satisfied: joblib>=1.2.0 in /usr/local/lib/python3.11/dist-packages (from scikit-surprise) (1.4.2)\n",
            "Requirement already satisfied: numpy>=1.19.5 in /usr/local/lib/python3.11/dist-packages (from scikit-surprise) (1.26.4)\n",
            "Requirement already satisfied: scipy>=1.6.0 in /usr/local/lib/python3.11/dist-packages (from scikit-surprise) (1.13.1)\n",
            "Building wheels for collected packages: scikit-surprise\n",
            "  Building wheel for scikit-surprise (pyproject.toml) ... \u001b[?25l\u001b[?25hdone\n",
            "  Created wheel for scikit-surprise: filename=scikit_surprise-1.1.4-cp311-cp311-linux_x86_64.whl size=2505167 sha256=15d385652e4bce3152f1fe0bd3f3afc5cf2cebb287bf8d5b7080217c0cdf3499\n",
            "  Stored in directory: /root/.cache/pip/wheels/2a/8f/6e/7e2899163e2d85d8266daab4aa1cdabec7a6c56f83c015b5af\n",
            "Successfully built scikit-surprise\n",
            "Installing collected packages: scikit-surprise\n",
            "\u001b[33m  WARNING: The script surprise is installed in '/root/.local/bin' which is not on PATH.\n",
            "  Consider adding this directory to PATH or, if you prefer to suppress this warning, use --no-warn-script-location.\u001b[0m\u001b[33m\n",
            "\u001b[0mSuccessfully installed scikit-surprise-1.1.4\n"
          ]
        }
      ]
    },
    {
      "cell_type": "code",
      "source": [],
      "metadata": {
        "id": "9SrRtqjNJPfA"
      },
      "id": "9SrRtqjNJPfA",
      "execution_count": null,
      "outputs": []
    },
    {
      "cell_type": "markdown",
      "source": [
        "## Data Preparation"
      ],
      "metadata": {
        "id": "atoBOuwGt32r"
      },
      "id": "atoBOuwGt32r"
    },
    {
      "metadata": {
        "ExecuteTime": {
          "end_time": "2025-01-30T10:24:14.812465Z",
          "start_time": "2025-01-30T10:24:14.792202Z"
        },
        "id": "174c3c23ad23acdc"
      },
      "cell_type": "code",
      "source": [
        "#Load data\n",
        "data_sample_prep = pd.read_csv(\"/content/drive/MyDrive/Recommender/sample_preprocessed.csv\")\n",
        "data_sample_prep.head(100)\n",
        "\n",
        "#Select Relevant Columns\n",
        "data_sample_prep_sel = data_sample_prep[['user_id', 'media_id', 'is_listened']]  # Keep only necessary columns for the SVD model"
      ],
      "id": "174c3c23ad23acdc",
      "outputs": [],
      "execution_count": null
    },
    {
      "cell_type": "code",
      "source": [
        "#Convert to Surprise Dataset Format\n",
        "reader = Reader(rating_scale=(0, 1))  #Binary values (0 = not heard, 1 = heard)\n",
        "data = Dataset.load_from_df(data_sample_prep_sel[['user_id', 'media_id', 'is_listened']], reader)\n",
        "\n",
        "#Split training and test data\n",
        "trainset, testset = train_test_split(data, test_size=0.2)"
      ],
      "metadata": {
        "id": "hbqS0kVOPhwP"
      },
      "id": "hbqS0kVOPhwP",
      "execution_count": null,
      "outputs": []
    },
    {
      "cell_type": "markdown",
      "source": [
        "## Model Training and Predictions"
      ],
      "metadata": {
        "id": "jTh5EZTgNVp8"
      },
      "id": "jTh5EZTgNVp8"
    },
    {
      "cell_type": "code",
      "source": [
        "#Initialize and train the SVD model\n",
        "model = SVD(n_factors=50, reg_all=0.1, n_epochs=20)\n",
        "model.fit(trainset)\n",
        "\n",
        "#Generate Predictions on the Test Set\n",
        "testset = trainset.build_testset()\n",
        "predictions = model.test(testset)"
      ],
      "metadata": {
        "id": "c22urM_sGrb5"
      },
      "id": "c22urM_sGrb5",
      "execution_count": null,
      "outputs": []
    },
    {
      "cell_type": "markdown",
      "source": [
        "## Threshold Optimization for F1 Score"
      ],
      "metadata": {
        "id": "GILt_0b1CV9G"
      },
      "id": "GILt_0b1CV9G"
    },
    {
      "cell_type": "code",
      "source": [
        "#Optimize Threshold for Best F1 Score\n",
        "best_threshold = 0.5\n",
        "best_f1 = 0\n",
        "\n",
        "#Test thresholds between 0.1 and 0.9\n",
        "thresholds = np.arange(0.1, 1.0, 0.1)\n",
        "for threshold in thresholds:\n",
        "    y_true = [true_r for (_, _, true_r, _, _) in predictions]  # True labels\n",
        "    y_pred = [1 if est >= threshold else 0 for (_, _, _, est, _) in predictions]  # Convert predictions to binary\n",
        "\n",
        "    f1 = f1_score(y_true, y_pred, zero_division=1)\n",
        "\n",
        "    if f1 > best_f1:\n",
        "        best_f1 = f1\n",
        "        best_threshold = threshold\n",
        "\n",
        "print(f\"\\n**Optimal Threshold for F1 Score: {best_threshold:.2f} with F1: {best_f1:.4f}**\")"
      ],
      "metadata": {
        "id": "pQhNTCRr-mWH",
        "outputId": "1b02d64c-2d59-418a-8d5b-713c0c362b3c",
        "colab": {
          "base_uri": "https://localhost:8080/"
        }
      },
      "id": "pQhNTCRr-mWH",
      "execution_count": null,
      "outputs": [
        {
          "output_type": "stream",
          "name": "stdout",
          "text": [
            "\n",
            "🔍 **Optimal Threshold for F1 Score: 0.50 with F1: 0.8687**\n"
          ]
        }
      ]
    },
    {
      "cell_type": "markdown",
      "source": [
        "##  Model Evaluation"
      ],
      "metadata": {
        "id": "Msy-ijkhN3gZ"
      },
      "id": "Msy-ijkhN3gZ"
    },
    {
      "cell_type": "code",
      "source": [
        "#Evaluate Model with Optimal Threshold\n",
        "y_true = [true_r for (_, _, true_r, _, _) in predictions]\n",
        "y_pred = [1 if est >= best_threshold else 0 for (_, _, _, est, _) in predictions]\n",
        "\n",
        "accuracy_val = accuracy_score(y_true, y_pred)\n",
        "precision_val = precision_score(y_true, y_pred, zero_division=1)\n",
        "recall_val = recall_score(y_true, y_pred, zero_division=1)\n",
        "f1_val = f1_score(y_true, y_pred, zero_division=1)\n",
        "\n",
        "# **9. Print Evaluation Results**\n",
        "print(\"\\nModel Evaluation with Optimal Threshold:\")\n",
        "print(f\"Accuracy: {accuracy_val:.4f}\")\n",
        "print(f\"Precision: {precision_val:.4f}\")\n",
        "print(f\"Recall: {recall_val:.4f}\")\n",
        "print(f\"F1 Score: {f1_val:.4f}\")"
      ],
      "metadata": {
        "colab": {
          "base_uri": "https://localhost:8080/"
        },
        "id": "Ttew9PKqN5-E",
        "outputId": "6c018e3d-1cc2-4936-db16-04e437d0c9c1"
      },
      "id": "Ttew9PKqN5-E",
      "execution_count": null,
      "outputs": [
        {
          "output_type": "stream",
          "name": "stdout",
          "text": [
            "\n",
            "Model Evaluation with Optimal Threshold:\n",
            "Accuracy: 0.8061\n",
            "Precision: 0.8094\n",
            "Recall: 0.9374\n",
            "F1 Score: 0.8687\n"
          ]
        }
      ]
    },
    {
      "cell_type": "markdown",
      "source": [
        "## Recommendations & Visualization"
      ],
      "metadata": {
        "id": "Cr7rifafOC6H"
      },
      "id": "Cr7rifafOC6H"
    },
    {
      "cell_type": "code",
      "source": [
        "#Compute Precision@K\n",
        "def precision_at_k(predictions, k=10, threshold=best_threshold):\n",
        "    user_precisions = defaultdict(list)\n",
        "    for uid, _, true_r, est, _ in predictions:\n",
        "        relevance = (est >= threshold)\n",
        "        user_precisions[uid].append((est, relevance))\n",
        "\n",
        "    precision_scores = []\n",
        "    for uid, user_ratings in user_precisions.items():\n",
        "        user_ratings.sort(key=lambda x: x[0], reverse=True)\n",
        "        top_k = user_ratings[:k]\n",
        "        num_relevant = sum((relevance for _, relevance in top_k))\n",
        "        precision = num_relevant / k\n",
        "        precision_scores.append(precision)\n",
        "\n",
        "    return np.mean(precision_scores) if precision_scores else 0\n",
        "\n",
        "precision_k = precision_at_k(predictions, k=10)\n",
        "print(f\"Precision@10: {precision_k:.4f}\")\n",
        "\n",
        "#Generate Top-N Recommendations for Users\n",
        "def get_top_n(predictions, n=10):\n",
        "    top_n = defaultdict(list)\n",
        "    for uid, iid, true_r, est, _ in predictions:\n",
        "        top_n[uid].append((iid, est))\n",
        "\n",
        "    for uid, user_ratings in top_n.items():\n",
        "        user_ratings.sort(key=lambda x: x[1], reverse=True)\n",
        "        top_n[uid] = user_ratings[:n]\n",
        "\n",
        "    return top_n\n",
        "\n",
        "top_n_recommendations = get_top_n(predictions, n=10)\n",
        "\n",
        "#Display Top-10 Recommendations for a Sample User\n",
        "user_id = 123  # Example User ID\n",
        "if user_id in top_n_recommendations:\n",
        "    print(f\"\\n**Top 10 Recommendations for User {user_id}:**\\n\")\n",
        "    for i, (song_id, score) in enumerate(top_n_recommendations[user_id], 1):\n",
        "        print(f\"{i}. Song ID: {song_id}, Predicted Score: {score:.3f}\")\n",
        "else:\n",
        "    print(f\"⚠ No recommendations for User {user_id}.\")\n",
        "\n",
        "#ROC Curve and AUC Visualization\n",
        "fpr, tpr, _ = roc_curve(y_true, y_pred)\n",
        "roc_auc = auc(fpr, tpr)\n",
        "\n",
        "plt.figure()\n",
        "plt.plot(fpr, tpr, color='darkorange', lw=2, label=f'ROC Curve (AUC = {roc_auc:.2f})')\n",
        "plt.plot([0, 1], [0, 1], color='navy', lw=2, linestyle='--')\n",
        "plt.xlim([0.0, 1.0])\n",
        "plt.ylim([0.0, 1.05])\n",
        "plt.xlabel('False Positive Rate')\n",
        "plt.ylabel('True Positive Rate')\n",
        "plt.title('Receiver Operating Characteristic')\n",
        "plt.legend(loc=\"lower right\")\n",
        "plt.show()\n"
      ],
      "metadata": {
        "colab": {
          "base_uri": "https://localhost:8080/",
          "height": 715
        },
        "id": "zVJfCRiIOCcR",
        "outputId": "67cf79cb-121e-4de5-cdd4-a1fac4757b8d"
      },
      "id": "zVJfCRiIOCcR",
      "execution_count": null,
      "outputs": [
        {
          "output_type": "stream",
          "name": "stdout",
          "text": [
            "Precision@10: 0.6858\n",
            "\n",
            "🎵 **Top 10 Recommendations for User 123:**\n",
            "\n",
            "1. Song ID: 14681034, Predicted Score: 0.595\n",
            "2. Song ID: 14681034, Predicted Score: 0.595\n",
            "3. Song ID: 14681034, Predicted Score: 0.595\n",
            "4. Song ID: 917421, Predicted Score: 0.500\n",
            "5. Song ID: 2275911, Predicted Score: 0.479\n",
            "6. Song ID: 917428, Predicted Score: 0.479\n",
            "7. Song ID: 3148015, Predicted Score: 0.474\n",
            "8. Song ID: 126024239, Predicted Score: 0.471\n",
            "9. Song ID: 125890433, Predicted Score: 0.464\n",
            "10. Song ID: 2112595, Predicted Score: 0.455\n"
          ]
        },
        {
          "output_type": "display_data",
          "data": {
            "text/plain": [
              "<Figure size 640x480 with 1 Axes>"
            ],
            "image/png": "[encoded data removed]"
          },
          "metadata": {}
        }
      ]
    },
    {
      "cell_type": "markdown",
      "source": [
        "## ALS"
      ],
      "metadata": {
        "id": "kF-PZjgFOsqY"
      },
      "id": "kF-PZjgFOsqY"
    },
    {
      "cell_type": "markdown",
      "source": [
        "## Data Preparation (ALS)"
      ],
      "metadata": {
        "id": "z3BMSWPiRrj3"
      },
      "id": "z3BMSWPiRrj3"
    },
    {
      "cell_type": "code",
      "source": [
        "#Select Relevant Columns\n",
        "data_sample_prep_sel = data_sample_prep[['user_id', 'media_id', 'is_listened']]  # Keep only necessary columns for the ALS model\n",
        "\n",
        "#Convert IDs to Indices\n",
        "user_ids = {id: idx for idx, id in enumerate(data_sample_prep_sel['user_id'].unique())}\n",
        "media_ids = {id: idx for idx, id in enumerate(data_sample_prep_sel['media_id'].unique())}\n",
        "\n",
        "data_sample_prep_sel['user_idx'] = data_sample_prep_sel['user_id'].map(user_ids)\n",
        "data_sample_prep_sel['media_idx'] = data_sample_prep_sel['media_id'].map(media_ids)\n",
        "\n",
        "#Create User-Item Interaction Matrix\n",
        "user_item_matrix = csr_matrix(\n",
        "    (data_sample_prep_sel['is_listened'], (data_sample_prep_sel['user_idx'], data_sample_prep_sel['media_idx']))\n",
        ")\n",
        "\n",
        "print(f\"User-Item Matrix Shape: {user_item_matrix.shape}\")"
      ],
      "metadata": {
        "colab": {
          "base_uri": "https://localhost:8080/"
        },
        "id": "4auG07OfQmhb",
        "outputId": "0dc2b089-917b-4a84-bdbb-8312e4745bfe"
      },
      "id": "4auG07OfQmhb",
      "execution_count": null,
      "outputs": [
        {
          "output_type": "stream",
          "name": "stdout",
          "text": [
            "User-Item Matrix Shape: (14823, 67846)\n"
          ]
        }
      ]
    },
    {
      "cell_type": "markdown",
      "source": [
        "## Train ALS Model"
      ],
      "metadata": {
        "id": "pgHyeodGQlAS"
      },
      "id": "pgHyeodGQlAS"
    },
    {
      "cell_type": "code",
      "source": [
        "#Train ALS Model\n",
        "factors = 50\n",
        "regularization = 0.1\n",
        "iterations = 20\n",
        "alpha = 40  # Scaling factor for implicit feedback\n",
        "\n",
        "model = implicit.als.AlternatingLeastSquares(\n",
        "    factors=factors,\n",
        "    regularization=regularization,\n",
        "    iterations=iterations\n",
        ")\n",
        "\n",
        "print(\"Training ALS model...\")\n",
        "model.fit(user_item_matrix * alpha)\n",
        "print(\"Model training complete.\")"
      ],
      "metadata": {
        "id": "7Aods59ZOvEe",
        "outputId": "b2033ca1-3dce-4844-ba37-42d9785b2d2a",
        "colab": {
          "base_uri": "https://localhost:8080/",
          "height": 84,
          "referenced_widgets": [
            "5114d7dc784d48bbaa71422f0fa4a911",
            "ce9cb5e6ffd946d39394a792b8514c93",
            "34cf01bbde454d598325adc4fd09ef84",
            "0409021f0e5e407c8bb1915cc8eb8271",
            "9d67cac9fc24458b812323d2d40e4717",
            "d4f618a52b8846949ac6f85d79d6eb72",
            "a79b24beba7b4ed29b3d48ed23cf1e18",
            "b6920107a6b1471981d969771afae82a",
            "8f0f0c0a2a2e4a40baf64fed39d3a58f",
            "08527ea3d6214828b383c3c859d44fec",
            "82e60992ad7c440c960869c9595a4f94"
          ]
        }
      },
      "id": "7Aods59ZOvEe",
      "execution_count": null,
      "outputs": [
        {
          "output_type": "stream",
          "name": "stdout",
          "text": [
            "Training ALS model...\n"
          ]
        },
        {
          "output_type": "display_data",
          "data": {
            "text/plain": [
              "  0%|          | 0/20 [00:00<?, ?it/s]"
            ],
            "application/vnd.jupyter.widget-view+json": {
              "version_major": 2,
              "version_minor": 0,
              "model_id": "5114d7dc784d48bbaa71422f0fa4a911"
            }
          },
          "metadata": {}
        },
        {
          "output_type": "stream",
          "name": "stdout",
          "text": [
            "Model training complete.\n"
          ]
        }
      ]
    },
    {
      "cell_type": "markdown",
      "source": [
        "## Generate Predictions & Optimize Threshold"
      ],
      "metadata": {
        "id": "-QAKVBw3Rz8O"
      },
      "id": "-QAKVBw3Rz8O"
    },
    {
      "cell_type": "code",
      "source": [
        "# Ensure we align y_true and y_scores correctly\n",
        "y_true_dict = {(row['user_idx'], row['media_idx']): row['is_listened'] for _, row in data_sample_prep_sel.iterrows()}\n",
        "\n",
        "# Extract only the true values that exist in predictions\n",
        "y_true_filtered = []\n",
        "y_scores_filtered = []\n",
        "\n",
        "for user_idx, media_idx, score in predictions:\n",
        "    if (user_idx, media_idx) in y_true_dict:  # Ensure the item exists in actual data\n",
        "        y_true_filtered.append(y_true_dict[(user_idx, media_idx)])\n",
        "        y_scores_filtered.append(score)\n",
        "\n",
        "# Convert to numpy arrays for optimization\n",
        "y_true_filtered = np.array(y_true_filtered)\n",
        "y_scores_filtered = np.array(y_scores_filtered)\n",
        "\n",
        "# Verify length match before optimization\n",
        "print(f\"Aligned y_true length: {len(y_true_filtered)}, y_scores length: {len(y_scores_filtered)}\")\n",
        "\n",
        "# Find the best threshold\n",
        "best_threshold, best_f1 = optimize_threshold(y_true_filtered, y_scores_filtered)\n",
        "\n",
        "print(f\"Optimal Threshold for F1 Score: {best_threshold:.2f} with F1: {best_f1:.4f}\")\n"
      ],
      "metadata": {
        "id": "mWFWuFIvWr7X",
        "outputId": "4a754718-2d8e-4ebf-9624-aa2ea62929e9",
        "colab": {
          "base_uri": "https://localhost:8080/"
        }
      },
      "id": "mWFWuFIvWr7X",
      "execution_count": null,
      "outputs": [
        {
          "output_type": "stream",
          "name": "stdout",
          "text": [
            "Aligned y_true length: 0, y_scores length: 0\n",
            "Optimal Threshold for F1 Score: 0.10 with F1: 1.0000\n"
          ]
        }
      ]
    },
    {
      "cell_type": "code",
      "source": [
        "# Ensure we align y_true and y_scores correctly\n",
        "y_true_dict = {(int(row['user_idx']), int(row['media_idx'])): row['is_listened'] for _, row in data_sample_prep_sel.iterrows()}\n",
        "\n",
        "# Extract only the true values that exist in predictions\n",
        "y_true_filtered = []\n",
        "y_scores_filtered = []\n",
        "\n",
        "for user_idx, media_idx, score in predictions:\n",
        "    key = (int(user_idx), int(media_idx))  # Convert to int to ensure key match\n",
        "    if key in y_true_dict:\n",
        "        y_true_filtered.append(y_true_dict[key])\n",
        "        y_scores_filtered.append(score)\n",
        "\n",
        "# Convert to numpy arrays for optimization\n",
        "y_true_filtered = np.array(y_true_filtered)\n",
        "y_scores_filtered = np.array(y_scores_filtered)\n",
        "\n",
        "# Verify length match before optimization\n",
        "print(f\"Aligned y_true length: {len(y_true_filtered)}, y_scores length: {len(y_scores_filtered)}\")\n",
        "\n",
        "# Find the best threshold\n",
        "if len(y_true_filtered) > 0:\n",
        "    best_threshold, best_f1 = optimize_threshold(y_true_filtered, y_scores_filtered)\n",
        "else:\n",
        "    print(\"Warning: No matching predictions found in actual data.\")\n",
        "    best_threshold, best_f1 = None, None\n",
        "\n",
        "print(f\"Optimal Threshold for F1 Score: {best_threshold} with F1: {best_f1}\")\n"
      ],
      "metadata": {
        "id": "OPf__XBHYRc0",
        "outputId": "d7087a28-75b6-48e5-c9bf-e50cfc7d12e7",
        "colab": {
          "base_uri": "https://localhost:8080/"
        }
      },
      "id": "OPf__XBHYRc0",
      "execution_count": null,
      "outputs": [
        {
          "output_type": "stream",
          "name": "stdout",
          "text": [
            "Aligned y_true length: 0, y_scores length: 0\n",
            "Warning: No matching predictions found in actual data.\n",
            "Optimal Threshold for F1 Score: None with F1: None\n"
          ]
        }
      ]
    },
    {
      "cell_type": "code",
      "source": [
        "# Generate Predictions\n",
        "predictions = []\n",
        "for user_idx in range(user_item_matrix.shape[0]):\n",
        "    recommended_items, recommended_scores = model.recommend(user_idx, user_item_matrix[user_idx], N=10)\n",
        "\n",
        "    # Correctly iterate over the returned arrays\n",
        "    for media_idx, score in zip(recommended_items, recommended_scores):\n",
        "        predictions.append((user_idx, media_idx, score))\n",
        "\n",
        "print(f\"Predictions generated: {len(predictions)} records\")\n",
        "\n",
        "\n",
        "\n",
        "# Optimize Threshold for Best F1 Score\n",
        "def optimize_threshold(y_true, y_scores):\n",
        "    best_threshold = 0.5\n",
        "    best_f1 = 0\n",
        "    thresholds = np.arange(0.1, 1.0, 0.1)\n",
        "\n",
        "    for threshold in thresholds:\n",
        "        y_pred = (y_scores >= threshold).astype(int)\n",
        "        f1 = f1_score(y_true, y_pred, zero_division=1)\n",
        "\n",
        "        if f1 > best_f1:\n",
        "            best_f1 = f1\n",
        "            best_threshold = threshold\n",
        "\n",
        "    return best_threshold, best_f1\n",
        "\n",
        "# Prepare data for threshold optimization\n",
        "y_true = data_sample_prep_sel['is_listened'].values  # Ensure data_sample_prep_sel is used instead of an undefined variable\n",
        "y_scores = np.array([score for _, _, score in predictions])\n",
        "\n",
        "# Find the best threshold\n",
        "best_threshold, best_f1 = optimize_threshold(y_true, y_scores)\n",
        "\n",
        "print(f\"Optimal Threshold for F1 Score: {best_threshold:.2f} with F1: {best_f1:.4f}\")\n"
      ],
      "metadata": {
        "id": "0gXEYR8DR0-B",
        "outputId": "0206e18e-90a1-418d-81f2-118607ece8a0",
        "colab": {
          "base_uri": "https://localhost:8080/",
          "height": 374
        }
      },
      "id": "0gXEYR8DR0-B",
      "execution_count": null,
      "outputs": [
        {
          "output_type": "stream",
          "name": "stdout",
          "text": [
            "Predictions generated: 148230 records\n"
          ]
        },
        {
          "output_type": "error",
          "ename": "ValueError",
          "evalue": "Found input variables with inconsistent numbers of samples: [338173, 148230]",
          "traceback": [
            "\u001b[0;31m---------------------------------------------------------------------------\u001b[0m",
            "\u001b[0;31mValueError\u001b[0m                                Traceback (most recent call last)",
            "\u001b[0;32m<ipython-input-64-c6be83e201cb>\u001b[0m in \u001b[0;36m<cell line: 0>\u001b[0;34m()\u001b[0m\n\u001b[1;32m     33\u001b[0m \u001b[0;34m\u001b[0m\u001b[0m\n\u001b[1;32m     34\u001b[0m \u001b[0;31m# Find the best threshold\u001b[0m\u001b[0;34m\u001b[0m\u001b[0;34m\u001b[0m\u001b[0m\n\u001b[0;32m---> 35\u001b[0;31m \u001b[0mbest_threshold\u001b[0m\u001b[0;34m,\u001b[0m \u001b[0mbest_f1\u001b[0m \u001b[0;34m=\u001b[0m \u001b[0moptimize_threshold\u001b[0m\u001b[0;34m(\u001b[0m\u001b[0my_true\u001b[0m\u001b[0;34m,\u001b[0m \u001b[0my_scores\u001b[0m\u001b[0;34m)\u001b[0m\u001b[0;34m\u001b[0m\u001b[0;34m\u001b[0m\u001b[0m\n\u001b[0m\u001b[1;32m     36\u001b[0m \u001b[0;34m\u001b[0m\u001b[0m\n\u001b[1;32m     37\u001b[0m \u001b[0mprint\u001b[0m\u001b[0;34m(\u001b[0m\u001b[0;34mf\"Optimal Threshold for F1 Score: {best_threshold:.2f} with F1: {best_f1:.4f}\"\u001b[0m\u001b[0;34m)\u001b[0m\u001b[0;34m\u001b[0m\u001b[0;34m\u001b[0m\u001b[0m\n",
            "\u001b[0;32m<ipython-input-64-c6be83e201cb>\u001b[0m in \u001b[0;36moptimize_threshold\u001b[0;34m(y_true, y_scores)\u001b[0m\n\u001b[1;32m     20\u001b[0m     \u001b[0;32mfor\u001b[0m \u001b[0mthreshold\u001b[0m \u001b[0;32min\u001b[0m \u001b[0mthresholds\u001b[0m\u001b[0;34m:\u001b[0m\u001b[0;34m\u001b[0m\u001b[0;34m\u001b[0m\u001b[0m\n\u001b[1;32m     21\u001b[0m         \u001b[0my_pred\u001b[0m \u001b[0;34m=\u001b[0m \u001b[0;34m(\u001b[0m\u001b[0my_scores\u001b[0m \u001b[0;34m>=\u001b[0m \u001b[0mthreshold\u001b[0m\u001b[0;34m)\u001b[0m\u001b[0;34m.\u001b[0m\u001b[0mastype\u001b[0m\u001b[0;34m(\u001b[0m\u001b[0mint\u001b[0m\u001b[0;34m)\u001b[0m\u001b[0;34m\u001b[0m\u001b[0;34m\u001b[0m\u001b[0m\n\u001b[0;32m---> 22\u001b[0;31m         \u001b[0mf1\u001b[0m \u001b[0;34m=\u001b[0m \u001b[0mf1_score\u001b[0m\u001b[0;34m(\u001b[0m\u001b[0my_true\u001b[0m\u001b[0;34m,\u001b[0m \u001b[0my_pred\u001b[0m\u001b[0;34m,\u001b[0m \u001b[0mzero_division\u001b[0m\u001b[0;34m=\u001b[0m\u001b[0;36m1\u001b[0m\u001b[0;34m)\u001b[0m\u001b[0;34m\u001b[0m\u001b[0;34m\u001b[0m\u001b[0m\n\u001b[0m\u001b[1;32m     23\u001b[0m \u001b[0;34m\u001b[0m\u001b[0m\n\u001b[1;32m     24\u001b[0m         \u001b[0;32mif\u001b[0m \u001b[0mf1\u001b[0m \u001b[0;34m>\u001b[0m \u001b[0mbest_f1\u001b[0m\u001b[0;34m:\u001b[0m\u001b[0;34m\u001b[0m\u001b[0;34m\u001b[0m\u001b[0m\n",
            "\u001b[0;32m/usr/local/lib/python3.11/dist-packages/sklearn/utils/_param_validation.py\u001b[0m in \u001b[0;36mwrapper\u001b[0;34m(*args, **kwargs)\u001b[0m\n\u001b[1;32m    214\u001b[0m                     )\n\u001b[1;32m    215\u001b[0m                 ):\n\u001b[0;32m--> 216\u001b[0;31m                     \u001b[0;32mreturn\u001b[0m \u001b[0mfunc\u001b[0m\u001b[0;34m(\u001b[0m\u001b[0;34m*\u001b[0m\u001b[0margs\u001b[0m\u001b[0;34m,\u001b[0m \u001b[0;34m**\u001b[0m\u001b[0mkwargs\u001b[0m\u001b[0;34m)\u001b[0m\u001b[0;34m\u001b[0m\u001b[0;34m\u001b[0m\u001b[0m\n\u001b[0m\u001b[1;32m    217\u001b[0m             \u001b[0;32mexcept\u001b[0m \u001b[0mInvalidParameterError\u001b[0m \u001b[0;32mas\u001b[0m \u001b[0me\u001b[0m\u001b[0;34m:\u001b[0m\u001b[0;34m\u001b[0m\u001b[0;34m\u001b[0m\u001b[0m\n\u001b[1;32m    218\u001b[0m                 \u001b[0;31m# When the function is just a wrapper around an estimator, we allow\u001b[0m\u001b[0;34m\u001b[0m\u001b[0;34m\u001b[0m\u001b[0m\n",
            "\u001b[0;32m/usr/local/lib/python3.11/dist-packages/sklearn/metrics/_classification.py\u001b[0m in \u001b[0;36mf1_score\u001b[0;34m(y_true, y_pred, labels, pos_label, average, sample_weight, zero_division)\u001b[0m\n\u001b[1;32m   1322\u001b[0m     \u001b[0marray\u001b[0m\u001b[0;34m(\u001b[0m\u001b[0;34m[\u001b[0m\u001b[0;36m0.66666667\u001b[0m\u001b[0;34m,\u001b[0m \u001b[0;36m1.\u001b[0m        \u001b[0;34m,\u001b[0m \u001b[0;36m0.66666667\u001b[0m\u001b[0;34m]\u001b[0m\u001b[0;34m)\u001b[0m\u001b[0;34m\u001b[0m\u001b[0;34m\u001b[0m\u001b[0m\n\u001b[1;32m   1323\u001b[0m     \"\"\"\n\u001b[0;32m-> 1324\u001b[0;31m     return fbeta_score(\n\u001b[0m\u001b[1;32m   1325\u001b[0m         \u001b[0my_true\u001b[0m\u001b[0;34m,\u001b[0m\u001b[0;34m\u001b[0m\u001b[0;34m\u001b[0m\u001b[0m\n\u001b[1;32m   1326\u001b[0m         \u001b[0my_pred\u001b[0m\u001b[0;34m,\u001b[0m\u001b[0;34m\u001b[0m\u001b[0;34m\u001b[0m\u001b[0m\n",
            "\u001b[0;32m/usr/local/lib/python3.11/dist-packages/sklearn/utils/_param_validation.py\u001b[0m in \u001b[0;36mwrapper\u001b[0;34m(*args, **kwargs)\u001b[0m\n\u001b[1;32m    187\u001b[0m             \u001b[0mglobal_skip_validation\u001b[0m \u001b[0;34m=\u001b[0m \u001b[0mget_config\u001b[0m\u001b[0;34m(\u001b[0m\u001b[0;34m)\u001b[0m\u001b[0;34m[\u001b[0m\u001b[0;34m\"skip_parameter_validation\"\u001b[0m\u001b[0;34m]\u001b[0m\u001b[0;34m\u001b[0m\u001b[0;34m\u001b[0m\u001b[0m\n\u001b[1;32m    188\u001b[0m             \u001b[0;32mif\u001b[0m \u001b[0mglobal_skip_validation\u001b[0m\u001b[0;34m:\u001b[0m\u001b[0;34m\u001b[0m\u001b[0;34m\u001b[0m\u001b[0m\n\u001b[0;32m--> 189\u001b[0;31m                 \u001b[0;32mreturn\u001b[0m \u001b[0mfunc\u001b[0m\u001b[0;34m(\u001b[0m\u001b[0;34m*\u001b[0m\u001b[0margs\u001b[0m\u001b[0;34m,\u001b[0m \u001b[0;34m**\u001b[0m\u001b[0mkwargs\u001b[0m\u001b[0;34m)\u001b[0m\u001b[0;34m\u001b[0m\u001b[0;34m\u001b[0m\u001b[0m\n\u001b[0m\u001b[1;32m    190\u001b[0m \u001b[0;34m\u001b[0m\u001b[0m\n\u001b[1;32m    191\u001b[0m             \u001b[0mfunc_sig\u001b[0m \u001b[0;34m=\u001b[0m \u001b[0msignature\u001b[0m\u001b[0;34m(\u001b[0m\u001b[0mfunc\u001b[0m\u001b[0;34m)\u001b[0m\u001b[0;34m\u001b[0m\u001b[0;34m\u001b[0m\u001b[0m\n",
            "\u001b[0;32m/usr/local/lib/python3.11/dist-packages/sklearn/metrics/_classification.py\u001b[0m in \u001b[0;36mfbeta_score\u001b[0;34m(y_true, y_pred, beta, labels, pos_label, average, sample_weight, zero_division)\u001b[0m\n\u001b[1;32m   1515\u001b[0m     \"\"\"\n\u001b[1;32m   1516\u001b[0m \u001b[0;34m\u001b[0m\u001b[0m\n\u001b[0;32m-> 1517\u001b[0;31m     _, _, f, _ = precision_recall_fscore_support(\n\u001b[0m\u001b[1;32m   1518\u001b[0m         \u001b[0my_true\u001b[0m\u001b[0;34m,\u001b[0m\u001b[0;34m\u001b[0m\u001b[0;34m\u001b[0m\u001b[0m\n\u001b[1;32m   1519\u001b[0m         \u001b[0my_pred\u001b[0m\u001b[0;34m,\u001b[0m\u001b[0;34m\u001b[0m\u001b[0;34m\u001b[0m\u001b[0m\n",
            "\u001b[0;32m/usr/local/lib/python3.11/dist-packages/sklearn/utils/_param_validation.py\u001b[0m in \u001b[0;36mwrapper\u001b[0;34m(*args, **kwargs)\u001b[0m\n\u001b[1;32m    187\u001b[0m             \u001b[0mglobal_skip_validation\u001b[0m \u001b[0;34m=\u001b[0m \u001b[0mget_config\u001b[0m\u001b[0;34m(\u001b[0m\u001b[0;34m)\u001b[0m\u001b[0;34m[\u001b[0m\u001b[0;34m\"skip_parameter_validation\"\u001b[0m\u001b[0;34m]\u001b[0m\u001b[0;34m\u001b[0m\u001b[0;34m\u001b[0m\u001b[0m\n\u001b[1;32m    188\u001b[0m             \u001b[0;32mif\u001b[0m \u001b[0mglobal_skip_validation\u001b[0m\u001b[0;34m:\u001b[0m\u001b[0;34m\u001b[0m\u001b[0;34m\u001b[0m\u001b[0m\n\u001b[0;32m--> 189\u001b[0;31m                 \u001b[0;32mreturn\u001b[0m \u001b[0mfunc\u001b[0m\u001b[0;34m(\u001b[0m\u001b[0;34m*\u001b[0m\u001b[0margs\u001b[0m\u001b[0;34m,\u001b[0m \u001b[0;34m**\u001b[0m\u001b[0mkwargs\u001b[0m\u001b[0;34m)\u001b[0m\u001b[0;34m\u001b[0m\u001b[0;34m\u001b[0m\u001b[0m\n\u001b[0m\u001b[1;32m    190\u001b[0m \u001b[0;34m\u001b[0m\u001b[0m\n\u001b[1;32m    191\u001b[0m             \u001b[0mfunc_sig\u001b[0m \u001b[0;34m=\u001b[0m \u001b[0msignature\u001b[0m\u001b[0;34m(\u001b[0m\u001b[0mfunc\u001b[0m\u001b[0;34m)\u001b[0m\u001b[0;34m\u001b[0m\u001b[0;34m\u001b[0m\u001b[0m\n",
            "\u001b[0;32m/usr/local/lib/python3.11/dist-packages/sklearn/metrics/_classification.py\u001b[0m in \u001b[0;36mprecision_recall_fscore_support\u001b[0;34m(y_true, y_pred, beta, labels, pos_label, average, warn_for, sample_weight, zero_division)\u001b[0m\n\u001b[1;32m   1828\u001b[0m     \"\"\"\n\u001b[1;32m   1829\u001b[0m     \u001b[0m_check_zero_division\u001b[0m\u001b[0;34m(\u001b[0m\u001b[0mzero_division\u001b[0m\u001b[0;34m)\u001b[0m\u001b[0;34m\u001b[0m\u001b[0;34m\u001b[0m\u001b[0m\n\u001b[0;32m-> 1830\u001b[0;31m     \u001b[0mlabels\u001b[0m \u001b[0;34m=\u001b[0m \u001b[0m_check_set_wise_labels\u001b[0m\u001b[0;34m(\u001b[0m\u001b[0my_true\u001b[0m\u001b[0;34m,\u001b[0m \u001b[0my_pred\u001b[0m\u001b[0;34m,\u001b[0m \u001b[0maverage\u001b[0m\u001b[0;34m,\u001b[0m \u001b[0mlabels\u001b[0m\u001b[0;34m,\u001b[0m \u001b[0mpos_label\u001b[0m\u001b[0;34m)\u001b[0m\u001b[0;34m\u001b[0m\u001b[0;34m\u001b[0m\u001b[0m\n\u001b[0m\u001b[1;32m   1831\u001b[0m \u001b[0;34m\u001b[0m\u001b[0m\n\u001b[1;32m   1832\u001b[0m     \u001b[0;31m# Calculate tp_sum, pred_sum, true_sum ###\u001b[0m\u001b[0;34m\u001b[0m\u001b[0;34m\u001b[0m\u001b[0m\n",
            "\u001b[0;32m/usr/local/lib/python3.11/dist-packages/sklearn/metrics/_classification.py\u001b[0m in \u001b[0;36m_check_set_wise_labels\u001b[0;34m(y_true, y_pred, average, labels, pos_label)\u001b[0m\n\u001b[1;32m   1594\u001b[0m \u001b[0;34m\u001b[0m\u001b[0m\n\u001b[1;32m   1595\u001b[0m     \u001b[0my_true\u001b[0m\u001b[0;34m,\u001b[0m \u001b[0my_pred\u001b[0m \u001b[0;34m=\u001b[0m \u001b[0mattach_unique\u001b[0m\u001b[0;34m(\u001b[0m\u001b[0my_true\u001b[0m\u001b[0;34m,\u001b[0m \u001b[0my_pred\u001b[0m\u001b[0;34m)\u001b[0m\u001b[0;34m\u001b[0m\u001b[0;34m\u001b[0m\u001b[0m\n\u001b[0;32m-> 1596\u001b[0;31m     \u001b[0my_type\u001b[0m\u001b[0;34m,\u001b[0m \u001b[0my_true\u001b[0m\u001b[0;34m,\u001b[0m \u001b[0my_pred\u001b[0m \u001b[0;34m=\u001b[0m \u001b[0m_check_targets\u001b[0m\u001b[0;34m(\u001b[0m\u001b[0my_true\u001b[0m\u001b[0;34m,\u001b[0m \u001b[0my_pred\u001b[0m\u001b[0;34m)\u001b[0m\u001b[0;34m\u001b[0m\u001b[0;34m\u001b[0m\u001b[0m\n\u001b[0m\u001b[1;32m   1597\u001b[0m     \u001b[0;31m# Convert to Python primitive type to avoid NumPy type / Python str\u001b[0m\u001b[0;34m\u001b[0m\u001b[0;34m\u001b[0m\u001b[0m\n\u001b[1;32m   1598\u001b[0m     \u001b[0;31m# comparison. See https://github.com/numpy/numpy/issues/6784\u001b[0m\u001b[0;34m\u001b[0m\u001b[0;34m\u001b[0m\u001b[0m\n",
            "\u001b[0;32m/usr/local/lib/python3.11/dist-packages/sklearn/metrics/_classification.py\u001b[0m in \u001b[0;36m_check_targets\u001b[0;34m(y_true, y_pred)\u001b[0m\n\u001b[1;32m     96\u001b[0m     \"\"\"\n\u001b[1;32m     97\u001b[0m     \u001b[0mxp\u001b[0m\u001b[0;34m,\u001b[0m \u001b[0m_\u001b[0m \u001b[0;34m=\u001b[0m \u001b[0mget_namespace\u001b[0m\u001b[0;34m(\u001b[0m\u001b[0my_true\u001b[0m\u001b[0;34m,\u001b[0m \u001b[0my_pred\u001b[0m\u001b[0;34m)\u001b[0m\u001b[0;34m\u001b[0m\u001b[0;34m\u001b[0m\u001b[0m\n\u001b[0;32m---> 98\u001b[0;31m     \u001b[0mcheck_consistent_length\u001b[0m\u001b[0;34m(\u001b[0m\u001b[0my_true\u001b[0m\u001b[0;34m,\u001b[0m \u001b[0my_pred\u001b[0m\u001b[0;34m)\u001b[0m\u001b[0;34m\u001b[0m\u001b[0;34m\u001b[0m\u001b[0m\n\u001b[0m\u001b[1;32m     99\u001b[0m     \u001b[0mtype_true\u001b[0m \u001b[0;34m=\u001b[0m \u001b[0mtype_of_target\u001b[0m\u001b[0;34m(\u001b[0m\u001b[0my_true\u001b[0m\u001b[0;34m,\u001b[0m \u001b[0minput_name\u001b[0m\u001b[0;34m=\u001b[0m\u001b[0;34m\"y_true\"\u001b[0m\u001b[0;34m)\u001b[0m\u001b[0;34m\u001b[0m\u001b[0;34m\u001b[0m\u001b[0m\n\u001b[1;32m    100\u001b[0m     \u001b[0mtype_pred\u001b[0m \u001b[0;34m=\u001b[0m \u001b[0mtype_of_target\u001b[0m\u001b[0;34m(\u001b[0m\u001b[0my_pred\u001b[0m\u001b[0;34m,\u001b[0m \u001b[0minput_name\u001b[0m\u001b[0;34m=\u001b[0m\u001b[0;34m\"y_pred\"\u001b[0m\u001b[0;34m)\u001b[0m\u001b[0;34m\u001b[0m\u001b[0;34m\u001b[0m\u001b[0m\n",
            "\u001b[0;32m/usr/local/lib/python3.11/dist-packages/sklearn/utils/validation.py\u001b[0m in \u001b[0;36mcheck_consistent_length\u001b[0;34m(*arrays)\u001b[0m\n\u001b[1;32m    473\u001b[0m     \u001b[0muniques\u001b[0m \u001b[0;34m=\u001b[0m \u001b[0mnp\u001b[0m\u001b[0;34m.\u001b[0m\u001b[0munique\u001b[0m\u001b[0;34m(\u001b[0m\u001b[0mlengths\u001b[0m\u001b[0;34m)\u001b[0m\u001b[0;34m\u001b[0m\u001b[0;34m\u001b[0m\u001b[0m\n\u001b[1;32m    474\u001b[0m     \u001b[0;32mif\u001b[0m \u001b[0mlen\u001b[0m\u001b[0;34m(\u001b[0m\u001b[0muniques\u001b[0m\u001b[0;34m)\u001b[0m \u001b[0;34m>\u001b[0m \u001b[0;36m1\u001b[0m\u001b[0;34m:\u001b[0m\u001b[0;34m\u001b[0m\u001b[0;34m\u001b[0m\u001b[0m\n\u001b[0;32m--> 475\u001b[0;31m         raise ValueError(\n\u001b[0m\u001b[1;32m    476\u001b[0m             \u001b[0;34m\"Found input variables with inconsistent numbers of samples: %r\"\u001b[0m\u001b[0;34m\u001b[0m\u001b[0;34m\u001b[0m\u001b[0m\n\u001b[1;32m    477\u001b[0m             \u001b[0;34m%\u001b[0m \u001b[0;34m[\u001b[0m\u001b[0mint\u001b[0m\u001b[0;34m(\u001b[0m\u001b[0ml\u001b[0m\u001b[0;34m)\u001b[0m \u001b[0;32mfor\u001b[0m \u001b[0ml\u001b[0m \u001b[0;32min\u001b[0m \u001b[0mlengths\u001b[0m\u001b[0;34m]\u001b[0m\u001b[0;34m\u001b[0m\u001b[0;34m\u001b[0m\u001b[0m\n",
            "\u001b[0;31mValueError\u001b[0m: Found input variables with inconsistent numbers of samples: [338173, 148230]"
          ]
        }
      ]
    },
    {
      "cell_type": "markdown",
      "source": [
        "## Evaluate Model Performance"
      ],
      "metadata": {
        "id": "khNoVmH3QYmx"
      },
      "id": "khNoVmH3QYmx"
    },
    {
      "cell_type": "code",
      "source": [
        "#Evaluate Model\n",
        "def evaluate_model(y_true, y_scores, threshold):\n",
        "    y_pred = (y_scores >= threshold).astype(int)\n",
        "\n",
        "    accuracy_val = accuracy_score(y_true, y_pred)\n",
        "    precision_val = precision_score(y_true, y_pred, zero_division=1)\n",
        "    recall_val = recall_score(y_true, y_pred, zero_division=1)\n",
        "    f1_val = f1_score(y_true, y_pred, zero_division=1)\n",
        "\n",
        "    print(\"\\nModel Evaluation with Optimized Threshold:\")\n",
        "    print(f\"Accuracy: {accuracy_val:.4f}\")\n",
        "    print(f\"Precision: {precision_val:.4f}\")\n",
        "    print(f\"Recall: {recall_val:.4f}\")\n",
        "    print(f\"F1 Score: {f1_val:.4f}\")\n",
        "\n",
        "\n",
        "evaluate_model(y_true, y_scores, best_threshold)\n",
        "\n",
        "\n",
        "#Compute Precision@K\n",
        "def precision_at_k(predictions, k=10, threshold=best_threshold):\n",
        "    user_precisions = defaultdict(list)\n",
        "    for uid, _, score in predictions:\n",
        "        relevance = (score >= threshold)\n",
        "        user_precisions[uid].append((score, relevance))\n",
        "\n",
        "    precision_scores = []\n",
        "    for uid, user_ratings in user_precisions.items():\n",
        "        user_ratings.sort(key=lambda x: x[0], reverse=True)\n",
        "        top_k = user_ratings[:k]\n",
        "        num_relevant = sum((relevance for _, relevance in top_k))\n",
        "        precision = num_relevant / k\n",
        "        precision_scores.append(precision)\n",
        "\n",
        "    return np.mean(precision_scores) if precision_scores else 0\n",
        "\n",
        "\n",
        "precision_k = precision_at_k(predictions, k=10)\n",
        "print(f\"Precision@10: {precision_k:.4f}\")\n"
      ],
      "metadata": {
        "id": "vVOgEwj4R8aF"
      },
      "id": "vVOgEwj4R8aF",
      "execution_count": null,
      "outputs": []
    },
    {
      "cell_type": "markdown",
      "source": [
        "## Generate Recommendations & Visualize ROC Curve"
      ],
      "metadata": {
        "id": "CQcFcN_VR_3T"
      },
      "id": "CQcFcN_VR_3T"
    },
    {
      "cell_type": "code",
      "source": [
        "#Generate Recommendations for a Specific User\n",
        "def recommend_for_user(user_id, n=10):\n",
        "    if user_id not in user_ids:\n",
        "        print(f\"⚠ User ID {user_id} not found.\")\n",
        "        return []\n",
        "\n",
        "    user_idx = user_ids[user_id]\n",
        "    recommendations = model.recommend(user_idx, user_item_matrix[user_idx], N=n)\n",
        "    recommended_items = [(media_id, score) for media_id, score in recommendations]\n",
        "\n",
        "    print(f\"\\n**Top {n} Recommendations for User {user_id}:**\")\n",
        "    for i, (media_id, score) in enumerate(recommended_items, 1):\n",
        "        print(f\"{i}. Media ID: {media_id}, Predicted Score: {score:.3f}\")\n",
        "\n",
        "    return recommended_items\n",
        "\n",
        "\n",
        "#Example Recommendation for a User\n",
        "user_id = 123  # Replace with a valid user ID\n",
        "recommend_for_user(user_id, n=10)\n",
        "\n",
        "\n",
        "#Plot ROC Curve\n",
        "def plot_roc_curve(y_true, y_scores):\n",
        "    fpr, tpr, _ = roc_curve(y_true, y_scores)\n",
        "    roc_auc = auc(fpr, tpr)\n",
        "\n",
        "    plt.figure()\n",
        "    plt.plot(fpr, tpr, color='darkorange', lw=2, label=f'ROC Curve (AUC = {roc_auc:.2f})')\n",
        "    plt.plot([0, 1], [0, 1], color='navy', lw=2, linestyle='--')\n",
        "    plt.xlim([0.0, 1.0])\n",
        "    plt.ylim([0.0, 1.05])\n",
        "    plt.xlabel('False Positive Rate')\n",
        "    plt.ylabel('True Positive Rate')\n",
        "    plt.title('Receiver Operating Characteristic')\n",
        "    plt.legend(loc=\"lower right\")\n",
        "    plt.show()\n",
        "\n",
        "\n",
        "plot_roc_curve(y_true, y_scores)\n"
      ],
      "metadata": {
        "id": "qH_FLndwR_Zt"
      },
      "id": "qH_FLndwR_Zt",
      "execution_count": null,
      "outputs": []
    }
  ],
  "metadata": {
    "kernelspec": {
      "display_name": "Python 3 (ipykernel)",
      "name": "python3",
      "language": "python"
    },
    "language_info": {
      "codemirror_mode": {
        "name": "ipython",
        "version": 2
      },
      "file_extension": ".py",
      "mimetype": "text/x-python",
      "name": "python",
      "nbconvert_exporter": "python",
      "pygments_lexer": "ipython2",
      "version": "2.7.6"
    },
    "colab": {
      "provenance": [],
      "gpuType": "T4",
      "include_colab_link": true
    },
    "accelerator": "GPU",
    "widgets": {
      "application/vnd.jupyter.widget-state+json": {
        "5114d7dc784d48bbaa71422f0fa4a911": {
          "model_module": "@jupyter-widgets/controls",
          "model_name": "HBoxModel",
          "model_module_version": "1.5.0",
          "state": {
            "_dom_classes": [],
            "_model_module": "@jupyter-widgets/controls",
            "_model_module_version": "1.5.0",
            "_model_name": "HBoxModel",
            "_view_count": null,
            "_view_module": "@jupyter-widgets/controls",
            "_view_module_version": "1.5.0",
            "_view_name": "HBoxView",
            "box_style": "",
            "children": [
              "IPY_MODEL_ce9cb5e6ffd946d39394a792b8514c93",
              "IPY_MODEL_34cf01bbde454d598325adc4fd09ef84",
              "IPY_MODEL_0409021f0e5e407c8bb1915cc8eb8271"
            ],
            "layout": "IPY_MODEL_9d67cac9fc24458b812323d2d40e4717"
          }
        },
        "ce9cb5e6ffd946d39394a792b8514c93": {
          "model_module": "@jupyter-widgets/controls",
          "model_name": "HTMLModel",
          "model_module_version": "1.5.0",
          "state": {
            "_dom_classes": [],
            "_model_module": "@jupyter-widgets/controls",
            "_model_module_version": "1.5.0",
            "_model_name": "HTMLModel",
            "_view_count": null,
            "_view_module": "@jupyter-widgets/controls",
            "_view_module_version": "1.5.0",
            "_view_name": "HTMLView",
            "description": "",
            "description_tooltip": null,
            "layout": "IPY_MODEL_d4f618a52b8846949ac6f85d79d6eb72",
            "placeholder": "​",
            "style": "IPY_MODEL_a79b24beba7b4ed29b3d48ed23cf1e18",
            "value": "100%"
          }
        },
        "34cf01bbde454d598325adc4fd09ef84": {
          "model_module": "@jupyter-widgets/controls",
          "model_name": "FloatProgressModel",
          "model_module_version": "1.5.0",
          "state": {
            "_dom_classes": [],
            "_model_module": "@jupyter-widgets/controls",
            "_model_module_version": "1.5.0",
            "_model_name": "FloatProgressModel",
            "_view_count": null,
            "_view_module": "@jupyter-widgets/controls",
            "_view_module_version": "1.5.0",
            "_view_name": "ProgressView",
            "bar_style": "success",
            "description": "",
            "description_tooltip": null,
            "layout": "IPY_MODEL_b6920107a6b1471981d969771afae82a",
            "max": 20,
            "min": 0,
            "orientation": "horizontal",
            "style": "IPY_MODEL_8f0f0c0a2a2e4a40baf64fed39d3a58f",
            "value": 20
          }
        },
        "0409021f0e5e407c8bb1915cc8eb8271": {
          "model_module": "@jupyter-widgets/controls",
          "model_name": "HTMLModel",
          "model_module_version": "1.5.0",
          "state": {
            "_dom_classes": [],
            "_model_module": "@jupyter-widgets/controls",
            "_model_module_version": "1.5.0",
            "_model_name": "HTMLModel",
            "_view_count": null,
            "_view_module": "@jupyter-widgets/controls",
            "_view_module_version": "1.5.0",
            "_view_name": "HTMLView",
            "description": "",
            "description_tooltip": null,
            "layout": "IPY_MODEL_08527ea3d6214828b383c3c859d44fec",
            "placeholder": "​",
            "style": "IPY_MODEL_82e60992ad7c440c960869c9595a4f94",
            "value": " 20/20 [00:24&lt;00:00,  1.07s/it]"
          }
        },
        "9d67cac9fc24458b812323d2d40e4717": {
          "model_module": "@jupyter-widgets/base",
          "model_name": "LayoutModel",
          "model_module_version": "1.2.0",
          "state": {
            "_model_module": "@jupyter-widgets/base",
            "_model_module_version": "1.2.0",
            "_model_name": "LayoutModel",
            "_view_count": null,
            "_view_module": "@jupyter-widgets/base",
            "_view_module_version": "1.2.0",
            "_view_name": "LayoutView",
            "align_content": null,
            "align_items": null,
            "align_self": null,
            "border": null,
            "bottom": null,
            "display": null,
            "flex": null,
            "flex_flow": null,
            "grid_area": null,
            "grid_auto_columns": null,
            "grid_auto_flow": null,
            "grid_auto_rows": null,
            "grid_column": null,
            "grid_gap": null,
            "grid_row": null,
            "grid_template_areas": null,
            "grid_template_columns": null,
            "grid_template_rows": null,
            "height": null,
            "justify_content": null,
            "justify_items": null,
            "left": null,
            "margin": null,
            "max_height": null,
            "max_width": null,
            "min_height": null,
            "min_width": null,
            "object_fit": null,
            "object_position": null,
            "order": null,
            "overflow": null,
            "overflow_x": null,
            "overflow_y": null,
            "padding": null,
            "right": null,
            "top": null,
            "visibility": null,
            "width": null
          }
        },
        "d4f618a52b8846949ac6f85d79d6eb72": {
          "model_module": "@jupyter-widgets/base",
          "model_name": "LayoutModel",
          "model_module_version": "1.2.0",
          "state": {
            "_model_module": "@jupyter-widgets/base",
            "_model_module_version": "1.2.0",
            "_model_name": "LayoutModel",
            "_view_count": null,
            "_view_module": "@jupyter-widgets/base",
            "_view_module_version": "1.2.0",
            "_view_name": "LayoutView",
            "align_content": null,
            "align_items": null,
            "align_self": null,
            "border": null,
            "bottom": null,
            "display": null,
            "flex": null,
            "flex_flow": null,
            "grid_area": null,
            "grid_auto_columns": null,
            "grid_auto_flow": null,
            "grid_auto_rows": null,
            "grid_column": null,
            "grid_gap": null,
            "grid_row": null,
            "grid_template_areas": null,
            "grid_template_columns": null,
            "grid_template_rows": null,
            "height": null,
            "justify_content": null,
            "justify_items": null,
            "left": null,
            "margin": null,
            "max_height": null,
            "max_width": null,
            "min_height": null,
            "min_width": null,
            "object_fit": null,
            "object_position": null,
            "order": null,
            "overflow": null,
            "overflow_x": null,
            "overflow_y": null,
            "padding": null,
            "right": null,
            "top": null,
            "visibility": null,
            "width": null
          }
        },
        "a79b24beba7b4ed29b3d48ed23cf1e18": {
          "model_module": "@jupyter-widgets/controls",
          "model_name": "DescriptionStyleModel",
          "model_module_version": "1.5.0",
          "state": {
            "_model_module": "@jupyter-widgets/controls",
            "_model_module_version": "1.5.0",
            "_model_name": "DescriptionStyleModel",
            "_view_count": null,
            "_view_module": "@jupyter-widgets/base",
            "_view_module_version": "1.2.0",
            "_view_name": "StyleView",
            "description_width": ""
          }
        },
        "b6920107a6b1471981d969771afae82a": {
          "model_module": "@jupyter-widgets/base",
          "model_name": "LayoutModel",
          "model_module_version": "1.2.0",
          "state": {
            "_model_module": "@jupyter-widgets/base",
            "_model_module_version": "1.2.0",
            "_model_name": "LayoutModel",
            "_view_count": null,
            "_view_module": "@jupyter-widgets/base",
            "_view_module_version": "1.2.0",
            "_view_name": "LayoutView",
            "align_content": null,
            "align_items": null,
            "align_self": null,
            "border": null,
            "bottom": null,
            "display": null,
            "flex": null,
            "flex_flow": null,
            "grid_area": null,
            "grid_auto_columns": null,
            "grid_auto_flow": null,
            "grid_auto_rows": null,
            "grid_column": null,
            "grid_gap": null,
            "grid_row": null,
            "grid_template_areas": null,
            "grid_template_columns": null,
            "grid_template_rows": null,
            "height": null,
            "justify_content": null,
            "justify_items": null,
            "left": null,
            "margin": null,
            "max_height": null,
            "max_width": null,
            "min_height": null,
            "min_width": null,
            "object_fit": null,
            "object_position": null,
            "order": null,
            "overflow": null,
            "overflow_x": null,
            "overflow_y": null,
            "padding": null,
            "right": null,
            "top": null,
            "visibility": null,
            "width": null
          }
        },
        "8f0f0c0a2a2e4a40baf64fed39d3a58f": {
          "model_module": "@jupyter-widgets/controls",
          "model_name": "ProgressStyleModel",
          "model_module_version": "1.5.0",
          "state": {
            "_model_module": "@jupyter-widgets/controls",
            "_model_module_version": "1.5.0",
            "_model_name": "ProgressStyleModel",
            "_view_count": null,
            "_view_module": "@jupyter-widgets/base",
            "_view_module_version": "1.2.0",
            "_view_name": "StyleView",
            "bar_color": null,
            "description_width": ""
          }
        },
        "08527ea3d6214828b383c3c859d44fec": {
          "model_module": "@jupyter-widgets/base",
          "model_name": "LayoutModel",
          "model_module_version": "1.2.0",
          "state": {
            "_model_module": "@jupyter-widgets/base",
            "_model_module_version": "1.2.0",
            "_model_name": "LayoutModel",
            "_view_count": null,
            "_view_module": "@jupyter-widgets/base",
            "_view_module_version": "1.2.0",
            "_view_name": "LayoutView",
            "align_content": null,
            "align_items": null,
            "align_self": null,
            "border": null,
            "bottom": null,
            "display": null,
            "flex": null,
            "flex_flow": null,
            "grid_area": null,
            "grid_auto_columns": null,
            "grid_auto_flow": null,
            "grid_auto_rows": null,
            "grid_column": null,
            "grid_gap": null,
            "grid_row": null,
            "grid_template_areas": null,
            "grid_template_columns": null,
            "grid_template_rows": null,
            "height": null,
            "justify_content": null,
            "justify_items": null,
            "left": null,
            "margin": null,
            "max_height": null,
            "max_width": null,
            "min_height": null,
            "min_width": null,
            "object_fit": null,
            "object_position": null,
            "order": null,
            "overflow": null,
            "overflow_x": null,
            "overflow_y": null,
            "padding": null,
            "right": null,
            "top": null,
            "visibility": null,
            "width": null
          }
        },
        "82e60992ad7c440c960869c9595a4f94": {
          "model_module": "@jupyter-widgets/controls",
          "model_name": "DescriptionStyleModel",
          "model_module_version": "1.5.0",
          "state": {
            "_model_module": "@jupyter-widgets/controls",
            "_model_module_version": "1.5.0",
            "_model_name": "DescriptionStyleModel",
            "_view_count": null,
            "_view_module": "@jupyter-widgets/base",
            "_view_module_version": "1.2.0",
            "_view_name": "StyleView",
            "description_width": ""
          }
        }
      }
    }
  },
  "nbformat": 4,
  "nbformat_minor": 5
}