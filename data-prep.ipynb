{
 "cells": [
  {
   "cell_type": "markdown",
   "source": [
    "# Data Preparation\n",
    "** Authors **: Rafaella and Luca"
   ],
   "metadata": {
    "collapsed": false
   },
   "id": "dd70d100feef6261"
  },
  {
   "cell_type": "code",
   "outputs": [],
   "source": [
    "from google.colab import drive\n",
    "drive.mount('/content/drive')\n",
    "\n",
    "# Loading the dataset\n",
    "import pandas as pd\n",
    "data = pd.read_csv(\"/content/drive/MyDrive/Recommender/train.csv\")\n",
    "\n",
    "\n",
    "import warnings\n",
    "# Suppress all warnings\n",
    "warnings.filterwarnings(\"ignore\")"
   ],
   "metadata": {
    "collapsed": false,
    "ExecuteTime": {
     "end_time": "2025-01-29T14:10:41.245970Z",
     "start_time": "2025-01-29T14:10:35.056262Z"
    }
   },
   "id": "9822ecc815631143",
   "execution_count": 1
  },
  {
   "cell_type": "markdown",
   "source": [
    "## Datatype Conversion and Missing Values handling"
   ],
   "metadata": {
    "collapsed": false
   },
   "id": "9bd0beabdb89b7cc"
  },
  {
   "cell_type": "code",
   "outputs": [
    {
     "name": "stdout",
     "output_type": "stream",
     "text": [
      "genre_id                 category\n",
      "ts_listen          datetime64[ns]\n",
      "media_id                 category\n",
      "album_id                 category\n",
      "context_type             category\n",
      "release_date       datetime64[ns]\n",
      "platform_name            category\n",
      "platform_family          category\n",
      "media_duration              int64\n",
      "listen_type              category\n",
      "user_gender                  bool\n",
      "user_id                  category\n",
      "artist_id                category\n",
      "user_age                    int64\n",
      "is_listened                  bool\n",
      "dtype: object\n"
     ]
    }
   ],
   "source": [
    "data.isnull().sum() # no NAs\n",
    "\n",
    "# Converting to datatypes\n",
    "data['ts_listen'] = pd.to_datetime(data['ts_listen'], unit='s')\n",
    "data['artist_id'] = data['artist_id'].astype('category')\n",
    "data['media_id'] = data['media_id'].astype('category')\n",
    "data['genre_id'] = data['genre_id'].astype('category')\n",
    "data['user_gender'] = data['user_gender'].astype('bool')\n",
    "data['is_listened'] = data['is_listened'].astype('bool')\n",
    "data['album_id'] = data['album_id'].astype('category')\n",
    "data['context_type'] = data['context_type'].astype('category')\n",
    "data['platform_name'] = data['platform_name'].astype('category')\n",
    "data['release_date'] = pd.to_datetime(data['release_date'], format='%Y%m%d', errors='coerce')\n",
    "data['listen_type'] = data['listen_type'].astype('category')\n",
    "data['platform_family'] = data['platform_family'].astype('category')\n",
    "data['user_id'] = data['user_id'].astype('category')\n",
    "\n",
    "print(data.dtypes)"
   ],
   "metadata": {
    "collapsed": false,
    "ExecuteTime": {
     "end_time": "2025-01-29T14:10:44.872382Z",
     "start_time": "2025-01-29T14:10:42.780305Z"
    }
   },
   "id": "8d18a646f4dabee4",
   "execution_count": 2
  },
  {
   "cell_type": "code",
   "outputs": [],
   "source": [
    "data = data.dropna(subset=['release_date'])"
   ],
   "metadata": {
    "collapsed": false,
    "ExecuteTime": {
     "end_time": "2025-01-29T14:10:48.214314Z",
     "start_time": "2025-01-29T14:10:47.533514Z"
    }
   },
   "id": "668c394c2b67b9df",
   "execution_count": 3
  },
  {
   "cell_type": "markdown",
   "source": [
    "# EDA"
   ],
   "metadata": {
    "collapsed": false
   },
   "id": "f9ea85ffa36732b7"
  },
  {
   "cell_type": "code",
   "outputs": [
    {
     "ename": "NameError",
     "evalue": "name 'data' is not defined",
     "output_type": "error",
     "traceback": [
      "\u001B[1;31m---------------------------------------------------------------------------\u001B[0m",
      "\u001B[1;31mNameError\u001B[0m                                 Traceback (most recent call last)",
      "Cell \u001B[1;32mIn[1], line 2\u001B[0m\n\u001B[0;32m      1\u001B[0m \u001B[38;5;66;03m# Anzahl unterschiedlicher user_id und media_id\u001B[39;00m\n\u001B[1;32m----> 2\u001B[0m num_unique_users \u001B[38;5;241m=\u001B[39m \u001B[43mdata\u001B[49m[\u001B[38;5;124m'\u001B[39m\u001B[38;5;124muser_id\u001B[39m\u001B[38;5;124m'\u001B[39m]\u001B[38;5;241m.\u001B[39mnunique()\n\u001B[0;32m      3\u001B[0m num_unique_media \u001B[38;5;241m=\u001B[39m data[\u001B[38;5;124m'\u001B[39m\u001B[38;5;124mmedia_id\u001B[39m\u001B[38;5;124m'\u001B[39m]\u001B[38;5;241m.\u001B[39mnunique()\n\u001B[0;32m      5\u001B[0m \u001B[38;5;66;03m# Durchschnittliche Anzahl unterschiedlicher Medien pro Nutzer\u001B[39;00m\n",
      "\u001B[1;31mNameError\u001B[0m: name 'data' is not defined"
     ]
    }
   ],
   "source": [
    "# Anzahl unterschiedlicher user_id und media_id\n",
    "num_unique_users = data['user_id'].nunique()\n",
    "num_unique_media = data['media_id'].nunique()\n",
    "\n",
    "# Durchschnittliche Anzahl unterschiedlicher Medien pro Nutzer\n",
    "mean_media_per_user = data.groupby('user_id')['media_id'].nunique().mean()\n",
    "# Durchschnittliche Anzahl unterschiedlicher Nutzer pro Medium\n",
    "mean_users_per_media = data.groupby('media_id')['user_id'].nunique().mean()\n",
    "\n",
    "# Ergebnisse ausgeben\n",
    "print(f\"Anzahl unterschiedlicher user_id: {num_unique_users}\")\n",
    "print(f\"Anzahl unterschiedlicher media_id: {num_unique_media}\")\n",
    "print(f\"Durchschnittliche Anzahl unterschiedlicher media_id pro user_id: {mean_media_per_user:.2f}\")\n",
    "print(f\"Durchschnittliche Anzahl unterschiedlicher user_id pro media_id: {mean_users_per_media:.2f}\")"
   ],
   "metadata": {
    "collapsed": false,
    "ExecuteTime": {
     "end_time": "2025-01-29T18:58:18.884857Z",
     "start_time": "2025-01-29T18:58:18.634320Z"
    }
   },
   "id": "a2deb5b531956a5f",
   "execution_count": 1
  },
  {
   "cell_type": "markdown",
   "source": [
    "## Outlier Removal\n",
    "### Numerical data\n",
    "This subchapter shows how outliers were identified and removed using one of the outlier removal methods called IQR."
   ],
   "metadata": {
    "collapsed": false
   },
   "id": "37e7544d7b08cf3e"
  },
  {
   "cell_type": "code",
   "outputs": [],
   "source": [
    "# Remove outliers using the IQR method\n",
    "def remove_outliers(df, col):\n",
    "    q_1 = df[col].quantile(0.25)\n",
    "    q_3 = df[col].quantile(0.75)\n",
    "    IQR = q_3 - q_1\n",
    "    lower_bound = q_1 - 1.5 * IQR\n",
    "    upper_bound = q_3 + 1.5 * IQR\n",
    "    print(f\"Removing outliers from {col} with lower boundary of {lower_bound} and upper boundary of {upper_bound}\")\n",
    "    return df[(df[col] >= lower_bound) & (df[col] <= upper_bound)]"
   ],
   "metadata": {
    "collapsed": false,
    "ExecuteTime": {
     "end_time": "2025-01-29T14:10:51.481526Z",
     "start_time": "2025-01-29T14:10:51.477214Z"
    }
   },
   "id": "d9c00288d0e167f0",
   "execution_count": 4
  },
  {
   "cell_type": "code",
   "outputs": [
    {
     "name": "stdout",
     "output_type": "stream",
     "text": [
      "Removing outliers from media_duration with lower boundary of 109.0 and upper boundary of 341.0\n"
     ]
    },
    {
     "data": {
      "text/plain": "{'whiskers': [<matplotlib.lines.Line2D at 0x20cfebbea20>,\n  <matplotlib.lines.Line2D at 0x20cfebbed50>],\n 'caps': [<matplotlib.lines.Line2D at 0x20cfebbf050>,\n  <matplotlib.lines.Line2D at 0x20cfebbf380>],\n 'boxes': [<matplotlib.lines.Line2D at 0x20cfebbe6c0>],\n 'medians': [<matplotlib.lines.Line2D at 0x20cfebbf6b0>],\n 'fliers': [<matplotlib.lines.Line2D at 0x20cfebbf9e0>],\n 'means': []}"
     },
     "execution_count": 5,
     "metadata": {},
     "output_type": "execute_result"
    },
    {
     "data": {
      "text/plain": "<Figure size 640x480 with 1 Axes>",
      "image/png": "[encoded data removed]"
     },
     "metadata": {},
     "output_type": "display_data"
    }
   ],
   "source": [
    "import matplotlib.pyplot as plt\n",
    "plt.boxplot(data['media_duration']) # quite a few songs that seem to last for hours or even days. Let's remove them.\n",
    "\n",
    "data = remove_outliers(data,'media_duration')"
   ],
   "metadata": {
    "collapsed": false,
    "ExecuteTime": {
     "end_time": "2025-01-29T14:10:56.407817Z",
     "start_time": "2025-01-29T14:10:53.722205Z"
    }
   },
   "id": "a0271da6d7a0fd25",
   "execution_count": 5
  },
  {
   "cell_type": "markdown",
   "source": [
    "When analyzing ts_listen, it was shown that most of the timestamps were after 2016 while less than one thousand songs were listened before 2016. Therefore, it has been decided to remove outliers."
   ],
   "metadata": {
    "collapsed": false
   },
   "id": "80411da2e6ec140"
  },
  {
   "cell_type": "code",
   "outputs": [
    {
     "name": "stdout",
     "output_type": "stream",
     "text": [
      "ts_listen\n",
      "1970-12-31        237\n",
      "1973-12-31          0\n",
      "1976-12-31          0\n",
      "1979-12-31          0\n",
      "1982-12-31        379\n",
      "1985-12-31          0\n",
      "1988-12-31          0\n",
      "1991-12-31          0\n",
      "1994-12-31          0\n",
      "1997-12-31          1\n",
      "2000-12-31          0\n",
      "2003-12-31          2\n",
      "2006-12-31          0\n",
      "2009-12-31        108\n",
      "2012-12-31         12\n",
      "2015-12-31         48\n",
      "2018-12-31    7151901\n",
      "Freq: 3YE-DEC, dtype: int64\n",
      "Removing outliers from ts_listen with lower boundary of 2016-10-15 13:10:32.375000320 and upper boundary of 2016-12-13 21:35:53.374999808\n"
     ]
    },
    {
     "data": {
      "text/plain": "<Figure size 640x480 with 1 Axes>",
      "image/png": "[encoded data removed]"
     },
     "metadata": {},
     "output_type": "display_data"
    }
   ],
   "source": [
    "# Grouping by 5-year intervals to see the approximate counts\n",
    "grouped_data = data.groupby(pd.Grouper(key='ts_listen', freq='3YE')).size()\n",
    "print(grouped_data) # We can start at 2016\n",
    "\n",
    "len(data[data['ts_listen'] < pd.Timestamp('2015-12-31')])\n",
    "\n",
    "tmp = data[data['ts_listen'] > pd.Timestamp('2015-12-31')]\n",
    "plt.hist(tmp['ts_listen'])\n",
    "\n",
    "# outlier removal\n",
    "data = remove_outliers(data,'ts_listen')"
   ],
   "metadata": {
    "collapsed": false,
    "ExecuteTime": {
     "end_time": "2025-01-29T14:11:23.355458Z",
     "start_time": "2025-01-29T14:11:17.202195Z"
    }
   },
   "id": "2f0cb8b81943960",
   "execution_count": 6
  },
  {
   "cell_type": "code",
   "outputs": [
    {
     "data": {
      "text/plain": "(array([5.40000e+01, 1.21000e+02, 3.70000e+02, 7.58000e+02, 9.34000e+02,\n        9.97000e+02, 1.38700e+03, 1.29000e+03, 1.78700e+03, 2.02100e+03,\n        2.73500e+03, 4.90800e+03, 5.19500e+03, 3.65690e+04, 3.24259e+05,\n        3.85581e+05, 4.01821e+05, 3.85558e+05, 2.77370e+05, 2.81870e+05,\n        3.18830e+05, 3.33942e+05, 3.66025e+05, 3.00396e+05, 2.19057e+05,\n        2.76626e+05, 2.85963e+05, 3.13078e+05, 2.96868e+05, 2.54893e+05,\n        2.00035e+05, 2.51509e+05, 2.62013e+05, 2.52500e+05, 2.35281e+05,\n        2.04819e+05, 1.85820e+05, 1.97627e+05, 1.88008e+05, 9.11160e+04]),\n array([17089.58644676, 17090.77150926, 17091.95657176, 17093.14163426,\n        17094.32669676, 17095.51175926, 17096.69682176, 17097.88188426,\n        17099.06694676, 17100.25200926, 17101.43707176, 17102.62213426,\n        17103.80719676, 17104.99225926, 17106.17732176, 17107.36238426,\n        17108.54744676, 17109.73250926, 17110.91757176, 17112.10263426,\n        17113.28769676, 17114.47275926, 17115.65782176, 17116.84288426,\n        17118.02794676, 17119.21300926, 17120.39807176, 17121.58313426,\n        17122.76819676, 17123.95325926, 17125.13832176, 17126.32338426,\n        17127.50844676, 17128.69350926, 17129.87857176, 17131.06363426,\n        17132.24869676, 17133.43375926, 17134.61882176, 17135.80388426,\n        17136.98894676]),\n <BarContainer object of 40 artists>)"
     },
     "execution_count": 7,
     "metadata": {},
     "output_type": "execute_result"
    },
    {
     "data": {
      "text/plain": "<Figure size 640x480 with 1 Axes>",
      "image/png": "[encoded data removed]"
     },
     "metadata": {},
     "output_type": "display_data"
    }
   ],
   "source": [
    "# After outlier removal\n",
    "plt.hist(data['ts_listen'], bins=40)"
   ],
   "metadata": {
    "collapsed": false,
    "ExecuteTime": {
     "end_time": "2025-01-29T14:11:30.407330Z",
     "start_time": "2025-01-29T14:11:29.911562Z"
    }
   },
   "id": "45d5ddd9cf7b81bb",
   "execution_count": 7
  },
  {
   "cell_type": "code",
   "outputs": [
    {
     "data": {
      "text/plain": "{'whiskers': [<matplotlib.lines.Line2D at 0x20cfef54e30>,\n  <matplotlib.lines.Line2D at 0x20cfef55130>],\n 'caps': [<matplotlib.lines.Line2D at 0x20cfef553a0>,\n  <matplotlib.lines.Line2D at 0x20cfef556a0>],\n 'boxes': [<matplotlib.lines.Line2D at 0x20cfedaaf60>],\n 'medians': [<matplotlib.lines.Line2D at 0x20cfef559a0>],\n 'fliers': [<matplotlib.lines.Line2D at 0x20cfef55c70>],\n 'means': []}"
     },
     "execution_count": 8,
     "metadata": {},
     "output_type": "execute_result"
    },
    {
     "data": {
      "text/plain": "<Figure size 640x480 with 1 Axes>",
      "image/png": "[encoded data removed]"
     },
     "metadata": {},
     "output_type": "display_data"
    }
   ],
   "source": [
    "plt.boxplot(data['user_age']) # no outliers here. Ages between 18 and 30"
   ],
   "metadata": {
    "collapsed": false,
    "ExecuteTime": {
     "end_time": "2025-01-29T14:11:37.966992Z",
     "start_time": "2025-01-29T14:11:37.726666Z"
    }
   },
   "id": "9cb8a53f9cd7e162",
   "execution_count": 8
  },
  {
   "cell_type": "markdown",
   "source": [
    "# Sampling\n",
    "Due to performance issues, it was not possible to perform complex calculations. therefore, it has been decided to only use a subset of the given data. \n",
    "In this case, we want to keep the distribution in respect to the usage of users."
   ],
   "metadata": {
    "collapsed": false
   },
   "id": "3fcd9bf80d021581"
  },
  {
   "cell_type": "code",
   "outputs": [
    {
     "data": {
      "text/plain": "<Figure size 1200x800 with 1 Axes>",
      "image/png": "[encoded data removed]"
     },
     "metadata": {},
     "output_type": "display_data"
    }
   ],
   "source": [
    "user_song_counts = data.groupby('user_id')['media_id'].count()\n",
    "\n",
    "# Create the histogram\n",
    "plt.figure(figsize=(12, 8))\n",
    "plt.hist(user_song_counts, bins=50, color='blue', edgecolor='black')\n",
    "plt.yscale('log') \n",
    "plt.title('Distribution of Songs Listened Per User')\n",
    "plt.xlabel('Number of Songs')\n",
    "plt.ylabel('Number of Users')\n",
    "plt.show()"
   ],
   "metadata": {
    "collapsed": false,
    "ExecuteTime": {
     "end_time": "2025-01-29T14:11:48.866505Z",
     "start_time": "2025-01-29T14:11:48.240100Z"
    }
   },
   "id": "b88bd36826db1f61",
   "execution_count": 9
  },
  {
   "cell_type": "markdown",
   "source": [],
   "metadata": {
    "collapsed": false
   },
   "id": "913d0dbfd80bbacf"
  },
  {
   "cell_type": "code",
   "outputs": [
    {
     "data": {
      "text/plain": "count    19918.000000\nmean       358.971332\nstd        480.852396\nmin          0.000000\n25%         62.000000\n50%        186.000000\n75%        468.000000\nmax       6006.000000\nName: media_id, dtype: float64"
     },
     "execution_count": 39,
     "metadata": {},
     "output_type": "execute_result"
    }
   ],
   "source": [
    "user_song_counts.describe()"
   ],
   "metadata": {
    "collapsed": false,
    "ExecuteTime": {
     "end_time": "2025-01-29T18:29:01.061312Z",
     "start_time": "2025-01-29T18:29:01.054334Z"
    }
   },
   "id": "d4140ed0b8881f8f",
   "execution_count": 39
  },
  {
   "cell_type": "code",
   "outputs": [],
   "source": [
    "import pandas as pd\n",
    "\n",
    "# Calculate the total number of songs each user has listened to\n",
    "user_song_counts = data.groupby('user_id')['media_id'].count()\n",
    "\n",
    "# Bin these counts into categories\n",
    "bins = [0, 60, 190, 500, float('inf')]  # 25th, 50th, 75th percentile\n",
    "labels = ['low', 'medium', 'high', 'very high']\n",
    "data['activity_level'] = pd.cut(user_song_counts, bins=bins, labels=labels, right=False)\n",
    "\n",
    "# Join this back to the main dataset\n",
    "data = data.join(data['user_id'].map(data['activity_level']), on='user_id', rsuffix='_r')\n",
    "\n",
    "# Perform stratified sampling\n",
    "sampled_data = data.groupby('activity_level', group_keys=False).apply(lambda x: x.sample(frac=0.2, random_state=42))\n"
   ],
   "metadata": {
    "collapsed": false,
    "ExecuteTime": {
     "end_time": "2025-01-29T18:33:52.732483Z",
     "start_time": "2025-01-29T18:33:50.546367Z"
    }
   },
   "id": "420e1af5a474aa51",
   "execution_count": 46
  },
  {
   "cell_type": "code",
   "outputs": [
    {
     "name": "stdout",
     "output_type": "stream",
     "text": [
      "Original Data Proportions:\n",
      " activity_level\n",
      "medium       0.281029\n",
      "high         0.275215\n",
      "very high    0.245818\n",
      "low          0.197938\n",
      "Name: proportion, dtype: float64\n",
      "Sampled Data Proportions:\n",
      " activity_level\n",
      "medium       0.281053\n",
      "high         0.275295\n",
      "very high    0.245681\n",
      "low          0.197971\n",
      "Name: proportion, dtype: float64\n"
     ]
    }
   ],
   "source": [
    "# Calculate proportions of each activity level in the ORIGINAL data\n",
    "original_proportions = data['activity_level'].value_counts(normalize=True)\n",
    "print(\"Original Data Proportions:\\n\", original_proportions)\n",
    "\n",
    "# Calculate proportions of each activity level in the SAMPLED data\n",
    "sample_proportions = sampled_data['activity_level'].value_counts(normalize=True)\n",
    "print(\"Sampled Data Proportions:\\n\", sample_proportions)\n"
   ],
   "metadata": {
    "collapsed": false,
    "ExecuteTime": {
     "end_time": "2025-01-29T18:33:56.860613Z",
     "start_time": "2025-01-29T18:33:56.849556Z"
    }
   },
   "id": "ee72d09dbd5dc352",
   "execution_count": 48
  },
  {
   "cell_type": "code",
   "outputs": [
    {
     "data": {
      "text/plain": "<Figure size 640x480 with 1 Axes>",
      "image/png": "[encoded data removed]"
     },
     "metadata": {},
     "output_type": "display_data"
    }
   ],
   "source": [
    "import matplotlib.pyplot as plt\n",
    "\n",
    "# Create a DataFrame to hold the proportions\n",
    "comparison_df = pd.DataFrame({\n",
    "    'Original': original_proportions,\n",
    "    'Sampled': sample_proportions\n",
    "})\n",
    "\n",
    "comparison_df.plot(kind='bar')\n",
    "plt.title('Comparison of Activity Level Proportions')\n",
    "plt.ylabel('Proportion')\n",
    "plt.xlabel('Activity Level')\n",
    "plt.show()\n"
   ],
   "metadata": {
    "collapsed": false,
    "ExecuteTime": {
     "end_time": "2025-01-29T18:32:22.730634Z",
     "start_time": "2025-01-29T18:32:22.598292Z"
    }
   },
   "id": "a7562b91ea4227e8",
   "execution_count": 45
  },
  {
   "cell_type": "markdown",
   "source": [
    "# Dimension Reduction\n",
    "For many features such as genre_id, artist_id, etc. there are several thousand unique values. Therefore, to not stretch our matrices unnecessarily and remove complexity, it has been decided to use minimum thresholds for specific categories which will reduce dimensions."
   ],
   "metadata": {
    "collapsed": false
   },
   "id": "461e9444b698ce30"
  },
  {
   "cell_type": "code",
   "outputs": [],
   "source": [
    "# TODO"
   ],
   "metadata": {
    "collapsed": false
   },
   "id": "e01a9a4c8e041bf"
  },
  {
   "cell_type": "markdown",
   "source": [
    "# Feature Engineering"
   ],
   "metadata": {
    "collapsed": false
   },
   "id": "764bc7aeca598694"
  },
  {
   "cell_type": "code",
   "outputs": [],
   "source": [
    "# Feature Engineering\n",
    "sampled_data[\"genre_popularity\"] = sampled_data.groupby('genre_id')['genre_id'].transform('count')\n",
    "sampled_data[\"media_popularity\"] = sampled_data.groupby('media_id')['media_id'].transform('count')\n",
    "sampled_data[\"artist_popularity\"] = sampled_data.groupby('artist_id')['artist_id'].transform('count')\n",
    "sampled_data[\"album_popularity\"] = sampled_data.groupby('album_id')['album_id'].transform('count')\n",
    "sampled_data['songs_listened'] = sampled_data.groupby('user_id')['media_id'].transform('count')\n",
    "\n",
    "user_top_artist = sampled_data.groupby(['user_id', 'artist_id']).size().groupby(level=0).idxmax().apply(lambda x: x[1])\n",
    "data['user_top_artist'] = sampled_data['user_id'].map(user_top_artist)\n",
    "\n",
    "user_top_song = sampled_data.groupby(['user_id', 'media_id']).size().groupby(level=0).idxmax().apply(lambda x: x[1])\n",
    "sampled_data['user_top_song'] = sampled_data['user_id'].map(user_top_song)\n",
    "\n",
    "user_top_genre = sampled_data.groupby(['user_id', 'genre_id']).size().groupby(level=0).idxmax().apply(lambda x: x[1])\n",
    "sampled_data['user_top_genre'] = sampled_data['user_id'].map(user_top_genre)"
   ],
   "metadata": {
    "collapsed": false,
    "is_executing": true,
    "ExecuteTime": {
     "start_time": "2025-01-29T18:34:49.677580Z"
    }
   },
   "id": "e5ced409788a7b8",
   "execution_count": null
  },
  {
   "cell_type": "code",
   "outputs": [],
   "source": [],
   "metadata": {
    "collapsed": false
   },
   "id": "bca300ab1c32923c"
  }
 ],
 "metadata": {
  "kernelspec": {
   "display_name": "Python 3",
   "language": "python",
   "name": "python3"
  },
  "language_info": {
   "codemirror_mode": {
    "name": "ipython",
    "version": 2
   },
   "file_extension": ".py",
   "mimetype": "text/x-python",
   "name": "python",
   "nbconvert_exporter": "python",
   "pygments_lexer": "ipython2",
   "version": "2.7.6"
  }
 },
 "nbformat": 4,
 "nbformat_minor": 5
}
