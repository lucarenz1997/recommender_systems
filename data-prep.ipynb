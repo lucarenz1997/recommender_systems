{
  "cells": [
    {
      "cell_type": "markdown",
      "metadata": {
        "id": "view-in-github",
        "colab_type": "text"
      },
      "source": [
        "<a href=\"https://colab.research.google.com/github/lucarenz1997/recommender_systems/blob/main/data-prep.ipynb\" target=\"_parent\"><img src=\"https://colab.research.google.com/assets/colab-badge.svg\" alt=\"Open In Colab\"/></a>"
      ]
    },
    {
      "cell_type": "markdown",
      "source": [
        "# Data Preparation\n",
        "** Authors **: Rafaella and Luca"
      ],
      "metadata": {
        "collapsed": false,
        "id": "dd70d100feef6261"
      },
      "id": "dd70d100feef6261"
    },
    {
      "cell_type": "code",
      "outputs": [
        {
          "output_type": "stream",
          "name": "stdout",
          "text": [
            "Mounted at /content/drive\n"
          ]
        }
      ],
      "source": [
        "from google.colab import drive\n",
        "drive.mount('/content/drive')\n",
        "\n",
        "# Loading the dataset\n",
        "import pandas as pd\n",
        "data = pd.read_csv(\"/content/drive/MyDrive/Recommender/train.csv\")\n",
        "\n",
        "\n",
        "import warnings\n",
        "# Suppress all warnings\n",
        "warnings.filterwarnings(\"ignore\")"
      ],
      "metadata": {
        "ExecuteTime": {
          "end_time": "2025-01-29T14:10:41.245970Z",
          "start_time": "2025-01-29T14:10:35.056262Z"
        },
        "colab": {
          "base_uri": "https://localhost:8080/"
        },
        "id": "9822ecc815631143",
        "outputId": "fce3c1c6-56d7-4176-d791-027e425063af"
      },
      "id": "9822ecc815631143",
      "execution_count": 2
    },
    {
      "cell_type": "markdown",
      "source": [
        "## Datatype Conversion and Missing Values handling"
      ],
      "metadata": {
        "collapsed": false,
        "id": "9bd0beabdb89b7cc"
      },
      "id": "9bd0beabdb89b7cc"
    },
    {
      "cell_type": "code",
      "outputs": [
        {
          "output_type": "stream",
          "name": "stdout",
          "text": [
            "genre_id                 category\n",
            "ts_listen          datetime64[ns]\n",
            "media_id                 category\n",
            "album_id                 category\n",
            "context_type             category\n",
            "release_date       datetime64[ns]\n",
            "platform_name            category\n",
            "platform_family          category\n",
            "media_duration              int64\n",
            "listen_type              category\n",
            "user_gender                  bool\n",
            "user_id                  category\n",
            "artist_id                category\n",
            "user_age                    int64\n",
            "is_listened                  bool\n",
            "dtype: object\n"
          ]
        }
      ],
      "source": [
        "data.isnull().sum() # no NAs\n",
        "\n",
        "# Converting to datatypes\n",
        "data['ts_listen'] = pd.to_datetime(data['ts_listen'], unit='s')\n",
        "data['artist_id'] = data['artist_id'].astype('category')\n",
        "data['media_id'] = data['media_id'].astype('category')\n",
        "data['genre_id'] = data['genre_id'].astype('category')\n",
        "data['user_gender'] = data['user_gender'].astype('bool')\n",
        "data['is_listened'] = data['is_listened'].astype('bool')\n",
        "data['album_id'] = data['album_id'].astype('category')\n",
        "data['context_type'] = data['context_type'].astype('category')\n",
        "data['platform_name'] = data['platform_name'].astype('category')\n",
        "data['release_date'] = pd.to_datetime(data['release_date'], format='%Y%m%d', errors='coerce')\n",
        "data['listen_type'] = data['listen_type'].astype('category')\n",
        "data['platform_family'] = data['platform_family'].astype('category')\n",
        "data['user_id'] = data['user_id'].astype('category')\n",
        "\n",
        "print(data.dtypes)"
      ],
      "metadata": {
        "ExecuteTime": {
          "end_time": "2025-01-29T14:10:44.872382Z",
          "start_time": "2025-01-29T14:10:42.780305Z"
        },
        "colab": {
          "base_uri": "https://localhost:8080/"
        },
        "id": "8d18a646f4dabee4",
        "outputId": "d289dbdb-223b-48e3-cf46-be274e7f6a6a"
      },
      "id": "8d18a646f4dabee4",
      "execution_count": 3
    },
    {
      "cell_type": "code",
      "outputs": [],
      "source": [
        "data = data.dropna(subset=['release_date'])"
      ],
      "metadata": {
        "ExecuteTime": {
          "end_time": "2025-01-29T14:10:48.214314Z",
          "start_time": "2025-01-29T14:10:47.533514Z"
        },
        "id": "668c394c2b67b9df"
      },
      "id": "668c394c2b67b9df",
      "execution_count": 4
    },
    {
      "cell_type": "markdown",
      "source": [
        "## EDA"
      ],
      "metadata": {
        "collapsed": false,
        "id": "f9ea85ffa36732b7"
      },
      "id": "f9ea85ffa36732b7"
    },
    {
      "cell_type": "code",
      "outputs": [
        {
          "output_type": "stream",
          "name": "stdout",
          "text": [
            "Anzahl unterschiedlicher user_id: 19918\n",
            "Anzahl unterschiedlicher media_id: 452965\n",
            "Durchschnittliche Anzahl unterschiedlicher media_id pro user_id: 199.59\n",
            "Durchschnittliche Anzahl unterschiedlicher user_id pro media_id: 8.78\n"
          ]
        }
      ],
      "source": [
        "# Anzahl unterschiedlicher user_id und media_id\n",
        "num_unique_users = data['user_id'].nunique()\n",
        "num_unique_media = data['media_id'].nunique()\n",
        "\n",
        "# Durchschnittliche Anzahl unterschiedlicher Medien pro Nutzer\n",
        "mean_media_per_user = data.groupby('user_id')['media_id'].nunique().mean()\n",
        "# Durchschnittliche Anzahl unterschiedlicher Nutzer pro Medium\n",
        "mean_users_per_media = data.groupby('media_id')['user_id'].nunique().mean()\n",
        "\n",
        "# Ergebnisse ausgeben\n",
        "print(f\"Anzahl unterschiedlicher user_id: {num_unique_users}\")\n",
        "print(f\"Anzahl unterschiedlicher media_id: {num_unique_media}\")\n",
        "print(f\"Durchschnittliche Anzahl unterschiedlicher media_id pro user_id: {mean_media_per_user:.2f}\")\n",
        "print(f\"Durchschnittliche Anzahl unterschiedlicher user_id pro media_id: {mean_users_per_media:.2f}\")"
      ],
      "metadata": {
        "ExecuteTime": {
          "end_time": "2025-01-29T18:58:18.884857Z",
          "start_time": "2025-01-29T18:58:18.634320Z"
        },
        "colab": {
          "base_uri": "https://localhost:8080/"
        },
        "id": "a2deb5b531956a5f",
        "outputId": "99732cd6-585e-41aa-f610-aae4b68e0a99"
      },
      "id": "a2deb5b531956a5f",
      "execution_count": 5
    },
    {
      "cell_type": "markdown",
      "source": [
        "### Outlier Removal\n",
        "#### Numerical data\n",
        "This subchapter shows how outliers were identified and removed using one of the outlier removal methods called IQR."
      ],
      "metadata": {
        "collapsed": false,
        "id": "37e7544d7b08cf3e"
      },
      "id": "37e7544d7b08cf3e"
    },
    {
      "cell_type": "code",
      "outputs": [],
      "source": [
        "# Remove outliers using the IQR method\n",
        "def remove_outliers(df, col):\n",
        "    q_1 = df[col].quantile(0.25)\n",
        "    q_3 = df[col].quantile(0.75)\n",
        "    IQR = q_3 - q_1\n",
        "    lower_bound = q_1 - 1.5 * IQR\n",
        "    upper_bound = q_3 + 1.5 * IQR\n",
        "    print(f\"Removing outliers from {col} with lower boundary of {lower_bound} and upper boundary of {upper_bound}\")\n",
        "    return df[(df[col] >= lower_bound) & (df[col] <= upper_bound)]"
      ],
      "metadata": {
        "ExecuteTime": {
          "end_time": "2025-01-29T14:10:51.481526Z",
          "start_time": "2025-01-29T14:10:51.477214Z"
        },
        "id": "d9c00288d0e167f0"
      },
      "id": "d9c00288d0e167f0",
      "execution_count": 6
    },
    {
      "cell_type": "code",
      "outputs": [
        {
          "output_type": "stream",
          "name": "stdout",
          "text": [
            "Removing outliers from media_duration with lower boundary of 109.0 and upper boundary of 341.0\n"
          ]
        },
        {
          "output_type": "display_data",
          "data": {
            "text/plain": [
              "<Figure size 640x480 with 1 Axes>"
            ],
            "image/png": "[encoded data removed]"
          },
          "metadata": {}
        }
      ],
      "source": [
        "import matplotlib.pyplot as plt\n",
        "plt.boxplot(data['media_duration']) # quite a few songs that seem to last for hours or even days. Let's remove them.\n",
        "\n",
        "data = remove_outliers(data,'media_duration')"
      ],
      "metadata": {
        "ExecuteTime": {
          "end_time": "2025-01-29T14:10:56.407817Z",
          "start_time": "2025-01-29T14:10:53.722205Z"
        },
        "colab": {
          "base_uri": "https://localhost:8080/",
          "height": 0
        },
        "id": "a0271da6d7a0fd25",
        "outputId": "5f0a4a64-6dea-4aaf-ea99-fd355de0ea27"
      },
      "id": "a0271da6d7a0fd25",
      "execution_count": 7
    },
    {
      "cell_type": "markdown",
      "source": [
        "When analyzing ts_listen, it was shown that most of the timestamps were after 2016 while less than one thousand songs were listened before 2016. Therefore, it has been decided to remove outliers."
      ],
      "metadata": {
        "collapsed": false,
        "id": "80411da2e6ec140"
      },
      "id": "80411da2e6ec140"
    },
    {
      "cell_type": "code",
      "outputs": [
        {
          "output_type": "stream",
          "name": "stdout",
          "text": [
            "ts_listen\n",
            "1970-12-31        237\n",
            "1973-12-31          0\n",
            "1976-12-31          0\n",
            "1979-12-31          0\n",
            "1982-12-31        379\n",
            "1985-12-31          0\n",
            "1988-12-31          0\n",
            "1991-12-31          0\n",
            "1994-12-31          0\n",
            "1997-12-31          1\n",
            "2000-12-31          0\n",
            "2003-12-31          2\n",
            "2006-12-31          0\n",
            "2009-12-31        108\n",
            "2012-12-31         12\n",
            "2015-12-31         48\n",
            "2018-12-31    7151901\n",
            "Freq: 3YE-DEC, dtype: int64\n",
            "Removing outliers from ts_listen with lower boundary of 2016-10-15 13:10:32.375000320 and upper boundary of 2016-12-13 21:35:53.374999808\n"
          ]
        },
        {
          "output_type": "display_data",
          "data": {
            "text/plain": [
              "<Figure size 640x480 with 1 Axes>"
            ],
            "image/png": "[encoded data removed]"
          },
          "metadata": {}
        }
      ],
      "source": [
        "# Grouping by 5-year intervals to see the approximate counts\n",
        "grouped_data = data.groupby(pd.Grouper(key='ts_listen', freq='3YE')).size()\n",
        "print(grouped_data) # We can start at 2016\n",
        "\n",
        "len(data[data['ts_listen'] < pd.Timestamp('2015-12-31')])\n",
        "\n",
        "tmp = data[data['ts_listen'] > pd.Timestamp('2015-12-31')]\n",
        "plt.hist(tmp['ts_listen'])\n",
        "\n",
        "# outlier removal\n",
        "data = remove_outliers(data,'ts_listen')"
      ],
      "metadata": {
        "ExecuteTime": {
          "end_time": "2025-01-29T14:11:23.355458Z",
          "start_time": "2025-01-29T14:11:17.202195Z"
        },
        "colab": {
          "base_uri": "https://localhost:8080/",
          "height": 0
        },
        "id": "2f0cb8b81943960",
        "outputId": "828e5dd9-36bc-4afa-af83-5c89155871d6"
      },
      "id": "2f0cb8b81943960",
      "execution_count": 8
    },
    {
      "cell_type": "code",
      "outputs": [
        {
          "output_type": "execute_result",
          "data": {
            "text/plain": [
              "(array([5.40000e+01, 1.21000e+02, 3.70000e+02, 7.58000e+02, 9.34000e+02,\n",
              "        9.97000e+02, 1.38700e+03, 1.29000e+03, 1.78700e+03, 2.02100e+03,\n",
              "        2.73500e+03, 4.90800e+03, 5.19500e+03, 3.65690e+04, 3.24259e+05,\n",
              "        3.85581e+05, 4.01821e+05, 3.85558e+05, 2.77370e+05, 2.81870e+05,\n",
              "        3.18830e+05, 3.33942e+05, 3.66025e+05, 3.00396e+05, 2.19057e+05,\n",
              "        2.76626e+05, 2.85963e+05, 3.13078e+05, 2.96868e+05, 2.54893e+05,\n",
              "        2.00035e+05, 2.51509e+05, 2.62013e+05, 2.52500e+05, 2.35281e+05,\n",
              "        2.04819e+05, 1.85820e+05, 1.97627e+05, 1.88008e+05, 9.11160e+04]),\n",
              " array([17089.58644676, 17090.77150926, 17091.95657176, 17093.14163426,\n",
              "        17094.32669676, 17095.51175926, 17096.69682176, 17097.88188426,\n",
              "        17099.06694676, 17100.25200926, 17101.43707176, 17102.62213426,\n",
              "        17103.80719676, 17104.99225926, 17106.17732176, 17107.36238426,\n",
              "        17108.54744676, 17109.73250926, 17110.91757176, 17112.10263426,\n",
              "        17113.28769676, 17114.47275926, 17115.65782176, 17116.84288426,\n",
              "        17118.02794676, 17119.21300926, 17120.39807176, 17121.58313426,\n",
              "        17122.76819676, 17123.95325926, 17125.13832176, 17126.32338426,\n",
              "        17127.50844676, 17128.69350926, 17129.87857176, 17131.06363426,\n",
              "        17132.24869676, 17133.43375926, 17134.61882176, 17135.80388426,\n",
              "        17136.98894676]),\n",
              " <BarContainer object of 40 artists>)"
            ]
          },
          "metadata": {},
          "execution_count": 9
        },
        {
          "output_type": "display_data",
          "data": {
            "text/plain": [
              "<Figure size 640x480 with 1 Axes>"
            ],
            "image/png": "[encoded data removed]"
          },
          "metadata": {}
        }
      ],
      "source": [
        "# After outlier removal\n",
        "plt.hist(data['ts_listen'], bins=40)"
      ],
      "metadata": {
        "ExecuteTime": {
          "end_time": "2025-01-29T14:11:30.407330Z",
          "start_time": "2025-01-29T14:11:29.911562Z"
        },
        "colab": {
          "base_uri": "https://localhost:8080/",
          "height": 0
        },
        "id": "45d5ddd9cf7b81bb",
        "outputId": "76987178-0bb0-4e44-b227-faa680d77d99"
      },
      "id": "45d5ddd9cf7b81bb",
      "execution_count": 9
    },
    {
      "cell_type": "code",
      "outputs": [
        {
          "output_type": "execute_result",
          "data": {
            "text/plain": [
              "{'whiskers': [<matplotlib.lines.Line2D at 0x7c9d6fab0c50>,\n",
              "  <matplotlib.lines.Line2D at 0x7c9d6fab0a50>],\n",
              " 'caps': [<matplotlib.lines.Line2D at 0x7c9d6fab1f10>,\n",
              "  <matplotlib.lines.Line2D at 0x7c9d6fab3750>],\n",
              " 'boxes': [<matplotlib.lines.Line2D at 0x7c9d6fab0710>],\n",
              " 'medians': [<matplotlib.lines.Line2D at 0x7c9d6fa93cd0>],\n",
              " 'fliers': [<matplotlib.lines.Line2D at 0x7c9d6fab3410>],\n",
              " 'means': []}"
            ]
          },
          "metadata": {},
          "execution_count": 10
        },
        {
          "output_type": "display_data",
          "data": {
            "text/plain": [
              "<Figure size 640x480 with 1 Axes>"
            ],
            "image/png": "[encoded data removed]"
          },
          "metadata": {}
        }
      ],
      "source": [
        "plt.boxplot(data['user_age']) # no outliers here. Ages between 18 and 30"
      ],
      "metadata": {
        "ExecuteTime": {
          "end_time": "2025-01-29T14:11:37.966992Z",
          "start_time": "2025-01-29T14:11:37.726666Z"
        },
        "colab": {
          "base_uri": "https://localhost:8080/",
          "height": 0
        },
        "id": "9cb8a53f9cd7e162",
        "outputId": "b2e83b41-3a3d-44e9-a855-6ff3d528f1ee"
      },
      "id": "9cb8a53f9cd7e162",
      "execution_count": 10
    },
    {
      "cell_type": "markdown",
      "source": [
        "## Sampling\n",
        "Due to performance issues, it was not possible to perform complex calculations. therefore, it has been decided to only use a subset of the given data.\n",
        "In this case, we want to keep the distribution in respect to the usage of users."
      ],
      "metadata": {
        "collapsed": false,
        "id": "3fcd9bf80d021581"
      },
      "id": "3fcd9bf80d021581"
    },
    {
      "cell_type": "code",
      "outputs": [
        {
          "output_type": "display_data",
          "data": {
            "text/plain": [
              "<Figure size 1200x800 with 1 Axes>"
            ],
            "image/png": "[encoded data removed]"
          },
          "metadata": {}
        }
      ],
      "source": [
        "user_song_counts = data.groupby('user_id')['media_id'].count()\n",
        "\n",
        "plt.figure(figsize=(12, 8))\n",
        "plt.hist(user_song_counts, bins=50, color='blue', edgecolor='black')\n",
        "plt.yscale('log')\n",
        "plt.title('Distribution of Songs Listened Per User')\n",
        "plt.xlabel('Number of Songs')\n",
        "plt.ylabel('Number of Users')\n",
        "plt.show()"
      ],
      "metadata": {
        "ExecuteTime": {
          "end_time": "2025-01-29T14:11:48.866505Z",
          "start_time": "2025-01-29T14:11:48.240100Z"
        },
        "colab": {
          "base_uri": "https://localhost:8080/",
          "height": 718
        },
        "id": "b88bd36826db1f61",
        "outputId": "6fad5e03-92a9-4511-e665-0bea76474af8"
      },
      "id": "b88bd36826db1f61",
      "execution_count": 11
    },
    {
      "cell_type": "markdown",
      "source": [
        "## Dimension Reduction\n",
        "For many features such as genre_id, artist_id, etc. there are several thousand unique values. Therefore, to not stretch our matrices unnecessarily and remove complexity, it has been decided to use minimum thresholds for specific categories which will reduce dimensions."
      ],
      "metadata": {
        "collapsed": false,
        "id": "461e9444b698ce30"
      },
      "id": "461e9444b698ce30"
    },
    {
      "cell_type": "code",
      "source": [
        "def remove_rare_records(data, col, threshold):\n",
        "  # threshold = data.groupby(col).size().quantile(0.25)\n",
        "  initial_count = len(data)  # Store the initial number of rows\n",
        "  counts = data.groupby(col).size()\n",
        "  filtered = counts[counts > threshold].index\n",
        "  data_filtered = data[data[col].isin(filtered)]\n",
        "\n",
        "\n",
        "  counts = data.groupby(col).size()  # Count occurrences of each value\n",
        "\n",
        "  # Calculate removed rows and percentage\n",
        "  removed_count = initial_count - len(data_filtered)\n",
        "  removed_percentage = round((removed_count / initial_count) * 100, 2)\n",
        "  print(f\"Removed {removed_count} rows from `{col}` with fewer than {threshold} occurrences.\")\n",
        "  print(f\"This corresponds to {removed_percentage}% of the dataset.\\n\")\n",
        "  return data_filtered\n",
        "\n",
        "filtered_data = remove_rare_records(data, 'media_id', data.groupby('media_id').size().quantile(0.25)) # removing songs that were only rarely listened\n",
        "filtered_data = remove_rare_records(filtered_data, 'user_id', data.groupby('user_id').size().quantile(0.25)) # removing rather inactive users\n",
        "filtered_data = remove_rare_records(filtered_data, 'genre_id', data.groupby('genre_id').size().quantile(0.25)) # removing rare genres\n",
        "\n",
        "# Final dataset size comparison\n",
        "initial_rows = len(data)\n",
        "final_rows = len(filtered_data)\n",
        "removed_rows = initial_rows - final_rows\n",
        "removed_percentage = round((removed_rows / initial_rows) * 100, 2)\n",
        "\n",
        "print(f\"Total rows removed: {removed_rows} ({removed_percentage}% of the dataset).\")\n",
        "print(f\"Final dataset size: {final_rows} rows (from {initial_rows} original rows).\")"
      ],
      "metadata": {
        "colab": {
          "base_uri": "https://localhost:8080/"
        },
        "id": "xhej8oXkkjI5",
        "outputId": "9813fd51-d80a-4808-a548-24c9b98471ea"
      },
      "id": "xhej8oXkkjI5",
      "execution_count": 12,
      "outputs": [
        {
          "output_type": "stream",
          "name": "stdout",
          "text": [
            "Removed 169775 rows from `media_id` with fewer than 1.0 occurrences.\n",
            "This corresponds to 2.37% of the dataset.\n",
            "\n",
            "Removed 141667 rows from `user_id` with fewer than 62.0 occurrences.\n",
            "This corresponds to 2.03% of the dataset.\n",
            "\n",
            "Removed 521 rows from `genre_id` with fewer than 2.0 occurrences.\n",
            "This corresponds to 0.01% of the dataset.\n",
            "\n",
            "Total rows removed: 311963 (4.36% of the dataset).\n",
            "Final dataset size: 6838028 rows (from 7149991 original rows).\n"
          ]
        }
      ]
    },
    {
      "cell_type": "code",
      "source": [
        "sampled_data = filtered_data.sample(frac=0.05, random_state=42).reset_index(drop=True)\n",
        "print(len(sampled_data))"
      ],
      "metadata": {
        "colab": {
          "base_uri": "https://localhost:8080/"
        },
        "id": "JA-16CCnY4Br",
        "outputId": "e380f6b4-74b0-4f5e-e2e8-b7f88dfa28df"
      },
      "id": "JA-16CCnY4Br",
      "execution_count": 13,
      "outputs": [
        {
          "output_type": "stream",
          "name": "stdout",
          "text": [
            "341901\n"
          ]
        }
      ]
    },
    {
      "cell_type": "markdown",
      "source": [
        "## Feature Engineering"
      ],
      "metadata": {
        "collapsed": false,
        "id": "764bc7aeca598694"
      },
      "id": "764bc7aeca598694"
    },
    {
      "cell_type": "code",
      "source": [
        "sampled_data['hour'] = sampled_data['ts_listen'].dt.hour\n",
        "sampled_data['day'] = sampled_data['ts_listen'].dt.dayofweek\n",
        "\n",
        "sampled_data['is_weekend'] = sampled_data['day'].isin([5, 6])\n",
        "\n",
        "# Create time of day categories\n",
        "def get_time_of_day(hour):\n",
        "    if 5 <= hour < 12:\n",
        "        return 'MORNING'\n",
        "    elif 12 <= hour < 18:\n",
        "        return 'AFTERNOON'\n",
        "    elif 18 <= hour < 21:\n",
        "        return 'EVENING'\n",
        "    else:\n",
        "        return 'NIGHT'\n",
        "\n",
        "sampled_data['time_of_day'] = sampled_data['hour'].apply(get_time_of_day)\n",
        "sampled_data['last_listen'] = sampled_data.groupby('user_id')['ts_listen'].diff().dt.total_seconds().abs().fillna(0)\n",
        "\n",
        "# Release-related\n",
        "sampled_data['days_since_release'] = (sampled_data['ts_listen'] - sampled_data['release_date']).dt.days"
      ],
      "metadata": {
        "id": "OvUbKSbGSguZ"
      },
      "id": "OvUbKSbGSguZ",
      "execution_count": 14,
      "outputs": []
    },
    {
      "cell_type": "code",
      "outputs": [],
      "source": [
        "# Feature Engineering\n",
        "sampled_data[\"genre_popularity\"] = sampled_data.groupby('genre_id')['genre_id'].transform('count')\n",
        "sampled_data[\"media_popularity\"] = sampled_data.groupby('media_id')['media_id'].transform('count')\n",
        "sampled_data[\"artist_popularity\"] = sampled_data.groupby('artist_id')['artist_id'].transform('count')\n",
        "sampled_data[\"album_popularity\"] = sampled_data.groupby('album_id')['album_id'].transform('count')\n",
        "sampled_data['songs_listened'] = sampled_data.groupby('user_id')['media_id'].transform('count')\n",
        "\n",
        "# Not possible due to limited resources\n",
        "\n",
        "# user_top_genre = sampled_data.groupby(['user_id', 'genre_id']).size().groupby(level=0).idxmax().apply(lambda x: x[1])\n",
        "# sampled_data['user_top_genre'] = sampled_data['user_id'].map(user_top_genre)\n",
        "\n",
        "# user_top_artist = sampled_data.groupby(['user_id', 'artist_id']).size().groupby(level=0).idxmax().apply(lambda x: x[1])\n",
        "# sampled_data['user_top_artist'] = sampled_data['user_id'].map(user_top_artist)\n",
        "\n",
        "# user_top_song = sampled_data.groupby(['user_id', 'media_id']).size().groupby(level=0).idxmax().apply(lambda x: x[1])\n",
        "# sampled_data['user_top_song'] = sampled_data['user_id'].map(user_top_song)"
      ],
      "metadata": {
        "is_executing": true,
        "ExecuteTime": {
          "start_time": "2025-01-29T18:34:49.677580Z"
        },
        "id": "e5ced409788a7b8"
      },
      "id": "e5ced409788a7b8",
      "execution_count": 15
    },
    {
      "cell_type": "code",
      "source": [
        "# Time-Based Popularity (Last 7 Days)\n",
        "max_timestamp = sampled_data['ts_listen'].max()  # Latest timestamp\n",
        "seven_days_ago = max_timestamp - pd.Timedelta(days=7)  # 7-day window\n",
        "\n",
        "# Filter data to include only the last 7 days\n",
        "df_last_7_days = sampled_data[sampled_data['ts_listen'] >= seven_days_ago]\n",
        "\n",
        "# Compute popularity in the last 7 days\n",
        "song_popularity_7d = df_last_7_days['media_id'].value_counts().rename_axis('media_id').reset_index(name='song_popularity_7d')\n",
        "artist_popularity_7d = df_last_7_days['artist_id'].value_counts().rename_axis('artist_id').reset_index(name='artist_popularity_7d')\n",
        "album_popularity_7d = df_last_7_days['album_id'].value_counts().rename_axis('album_id').reset_index(name='album_popularity_7d')\n",
        "\n",
        "# Merge the 7-day popularity back into the main dataset\n",
        "sampled_data = sampled_data.merge(song_popularity_7d, on='media_id', how='left')\n",
        "sampled_data = sampled_data.merge(artist_popularity_7d, on='artist_id', how='left')\n",
        "sampled_data = sampled_data.merge(album_popularity_7d, on='album_id', how='left')\n",
        "\n",
        "# Fill missing values (songs not played in the last 7 days → popularity = 0)\n",
        "sampled_data[['song_popularity_7d', 'artist_popularity_7d', 'album_popularity_7d']] = sampled_data[\n",
        "    ['song_popularity_7d', 'artist_popularity_7d', 'album_popularity_7d']\n",
        "].fillna(0)"
      ],
      "metadata": {
        "id": "fp6jye_LuEBD"
      },
      "id": "fp6jye_LuEBD",
      "execution_count": 16,
      "outputs": []
    },
    {
      "cell_type": "markdown",
      "source": [
        "## Encoding"
      ],
      "metadata": {
        "id": "nP5nNF8YuSZT"
      },
      "id": "nP5nNF8YuSZT"
    },
    {
      "cell_type": "markdown",
      "source": [
        "Due to high dimensionalities in features such as genre_id, media_id, etc, It has been decided to encode them.\n",
        "One-Hot-Encoding was the initial approach but soon in the process, it has been realized that resources were not enough which have led to the following solution:\n",
        "\n",
        "| Feature Type | Encoding Method | Reason |\n",
        "|-------------|----------------|--------|\n",
        "| **User (`user_id`)** | **Label Encoding** | Efficient for collaborative filtering models (ALS, NCF, LightFM) |\n",
        "| **Item (`media_id`, `album_id`, `artist_id`)** | **Label Encoding** | Keeps item embeddings meaningful without excessive memory usage |\n",
        "| **Context Features (`platform_name`, `platform_family`, `listen_type`, `context_type`)** | **Frequency Encoding** | Keeps distributions without adding many dimensions |\n",
        "| **Genre (`genre_id`)** | **Label Encoding** | Captures user preferences good |\n",
        "| **Time Features (`time_of_day`, `hour`, `is_weekend`, `days_since_release`)** | **Keep as is** | These are numerical and don’t need encoding |\n",
        "| **Popularity Features (`song_popularity_7d`, `artist_popularity_7d`, `album_popularity_7d`)** | **Keep as is** | Useful for ranking and trend-based recommendations |\n",
        "\n",
        "- Use Label Encoding for IDs (users, media, artists, albums)\n",
        "- Use Frequency Encoding for categorical context features  \n",
        "- Use Target Encoding for genres\n",
        "- Keep numerical features unchanged\n",
        "\n"
      ],
      "metadata": {
        "id": "Rq0JDER3z9A8"
      },
      "id": "Rq0JDER3z9A8"
    },
    {
      "cell_type": "code",
      "source": [
        "sampled_data.dtypes"
      ],
      "metadata": {
        "id": "voJNIlKuw0Xx",
        "outputId": "a37088df-cfdc-40fe-d244-41306b6d82b5",
        "colab": {
          "base_uri": "https://localhost:8080/",
          "height": 993
        }
      },
      "id": "voJNIlKuw0Xx",
      "execution_count": 17,
      "outputs": [
        {
          "output_type": "execute_result",
          "data": {
            "text/plain": [
              "genre_id                      category\n",
              "ts_listen               datetime64[ns]\n",
              "media_id                      category\n",
              "album_id                      category\n",
              "context_type                  category\n",
              "release_date            datetime64[ns]\n",
              "platform_name                 category\n",
              "platform_family               category\n",
              "media_duration                   int64\n",
              "listen_type                   category\n",
              "user_gender                       bool\n",
              "user_id                       category\n",
              "artist_id                     category\n",
              "user_age                         int64\n",
              "is_listened                       bool\n",
              "hour                             int32\n",
              "day                              int32\n",
              "is_weekend                        bool\n",
              "time_of_day                     object\n",
              "last_listen                    float64\n",
              "days_since_release               int64\n",
              "genre_popularity                 int64\n",
              "media_popularity                 int64\n",
              "artist_popularity                int64\n",
              "album_popularity                 int64\n",
              "songs_listened                   int64\n",
              "song_popularity_7d               int64\n",
              "artist_popularity_7d             int64\n",
              "album_popularity_7d              int64\n",
              "dtype: object"
            ],
            "text/html": [
              "<div>\n",
              "<style scoped>\n",
              "    .dataframe tbody tr th:only-of-type {\n",
              "        vertical-align: middle;\n",
              "    }\n",
              "\n",
              "    .dataframe tbody tr th {\n",
              "        vertical-align: top;\n",
              "    }\n",
              "\n",
              "    .dataframe thead th {\n",
              "        text-align: right;\n",
              "    }\n",
              "</style>\n",
              "<table border=\"1\" class=\"dataframe\">\n",
              "  <thead>\n",
              "    <tr style=\"text-align: right;\">\n",
              "      <th></th>\n",
              "      <th>0</th>\n",
              "    </tr>\n",
              "  </thead>\n",
              "  <tbody>\n",
              "    <tr>\n",
              "      <th>genre_id</th>\n",
              "      <td>category</td>\n",
              "    </tr>\n",
              "    <tr>\n",
              "      <th>ts_listen</th>\n",
              "      <td>datetime64[ns]</td>\n",
              "    </tr>\n",
              "    <tr>\n",
              "      <th>media_id</th>\n",
              "      <td>category</td>\n",
              "    </tr>\n",
              "    <tr>\n",
              "      <th>album_id</th>\n",
              "      <td>category</td>\n",
              "    </tr>\n",
              "    <tr>\n",
              "      <th>context_type</th>\n",
              "      <td>category</td>\n",
              "    </tr>\n",
              "    <tr>\n",
              "      <th>release_date</th>\n",
              "      <td>datetime64[ns]</td>\n",
              "    </tr>\n",
              "    <tr>\n",
              "      <th>platform_name</th>\n",
              "      <td>category</td>\n",
              "    </tr>\n",
              "    <tr>\n",
              "      <th>platform_family</th>\n",
              "      <td>category</td>\n",
              "    </tr>\n",
              "    <tr>\n",
              "      <th>media_duration</th>\n",
              "      <td>int64</td>\n",
              "    </tr>\n",
              "    <tr>\n",
              "      <th>listen_type</th>\n",
              "      <td>category</td>\n",
              "    </tr>\n",
              "    <tr>\n",
              "      <th>user_gender</th>\n",
              "      <td>bool</td>\n",
              "    </tr>\n",
              "    <tr>\n",
              "      <th>user_id</th>\n",
              "      <td>category</td>\n",
              "    </tr>\n",
              "    <tr>\n",
              "      <th>artist_id</th>\n",
              "      <td>category</td>\n",
              "    </tr>\n",
              "    <tr>\n",
              "      <th>user_age</th>\n",
              "      <td>int64</td>\n",
              "    </tr>\n",
              "    <tr>\n",
              "      <th>is_listened</th>\n",
              "      <td>bool</td>\n",
              "    </tr>\n",
              "    <tr>\n",
              "      <th>hour</th>\n",
              "      <td>int32</td>\n",
              "    </tr>\n",
              "    <tr>\n",
              "      <th>day</th>\n",
              "      <td>int32</td>\n",
              "    </tr>\n",
              "    <tr>\n",
              "      <th>is_weekend</th>\n",
              "      <td>bool</td>\n",
              "    </tr>\n",
              "    <tr>\n",
              "      <th>time_of_day</th>\n",
              "      <td>object</td>\n",
              "    </tr>\n",
              "    <tr>\n",
              "      <th>last_listen</th>\n",
              "      <td>float64</td>\n",
              "    </tr>\n",
              "    <tr>\n",
              "      <th>days_since_release</th>\n",
              "      <td>int64</td>\n",
              "    </tr>\n",
              "    <tr>\n",
              "      <th>genre_popularity</th>\n",
              "      <td>int64</td>\n",
              "    </tr>\n",
              "    <tr>\n",
              "      <th>media_popularity</th>\n",
              "      <td>int64</td>\n",
              "    </tr>\n",
              "    <tr>\n",
              "      <th>artist_popularity</th>\n",
              "      <td>int64</td>\n",
              "    </tr>\n",
              "    <tr>\n",
              "      <th>album_popularity</th>\n",
              "      <td>int64</td>\n",
              "    </tr>\n",
              "    <tr>\n",
              "      <th>songs_listened</th>\n",
              "      <td>int64</td>\n",
              "    </tr>\n",
              "    <tr>\n",
              "      <th>song_popularity_7d</th>\n",
              "      <td>int64</td>\n",
              "    </tr>\n",
              "    <tr>\n",
              "      <th>artist_popularity_7d</th>\n",
              "      <td>int64</td>\n",
              "    </tr>\n",
              "    <tr>\n",
              "      <th>album_popularity_7d</th>\n",
              "      <td>int64</td>\n",
              "    </tr>\n",
              "  </tbody>\n",
              "</table>\n",
              "</div><br><label><b>dtype:</b> object</label>"
            ]
          },
          "metadata": {},
          "execution_count": 17
        }
      ]
    },
    {
      "cell_type": "code",
      "source": [
        "categorical_cols = ['genre_id', 'media_id', 'album_id', 'context_type',\n",
        "                    'platform_name', 'platform_family', 'listen_type',\n",
        "                    'user_id', 'artist_id', 'time_of_day']\n",
        "\n",
        "# One-Hot Encoding the categorical columns - not possible due to memory usage.\n",
        "# sampled_data_encoded = pd.get_dummies(sampled_data, columns=categorical_cols, drop_first=True)"
      ],
      "metadata": {
        "id": "goLEmix1WcTS"
      },
      "id": "goLEmix1WcTS",
      "execution_count": 18,
      "outputs": []
    },
    {
      "cell_type": "code",
      "source": [
        "from sklearn.preprocessing import LabelEncoder\n",
        "\n",
        "# Copy the dataset to avoid modifying the original\n",
        "encoded_data = sampled_data.copy()\n",
        "\n",
        "# Label Encoding for IDs (User, Media, Artist, Album, Genre)\n",
        "label_cols = ['user_id', 'media_id', 'album_id', 'artist_id', 'genre_id']\n",
        "\n",
        "for col in label_cols:\n",
        "    le = LabelEncoder()\n",
        "    encoded_data[col] = le.fit_transform(encoded_data[col])\n",
        "\n",
        "#Frequency Encoding for Context Features\n",
        "freq_cols = ['platform_name', 'platform_family', 'listen_type', 'context_type']\n",
        "\n",
        "for col in freq_cols:\n",
        "    freq_map = encoded_data[col].value_counts(normalize=True)  # Normalize for proportion\n",
        "    encoded_data[col] = encoded_data[col].map(freq_map)"
      ],
      "metadata": {
        "id": "rfomY8yg1F0K"
      },
      "id": "rfomY8yg1F0K",
      "execution_count": 19,
      "outputs": []
    },
    {
      "cell_type": "markdown",
      "source": [
        "## Normalization"
      ],
      "metadata": {
        "id": "2-K9h85C4o1X"
      },
      "id": "2-K9h85C4o1X"
    },
    {
      "cell_type": "code",
      "source": [
        "from sklearn.preprocessing import MinMaxScaler\n",
        "\n",
        "# List of numerical features to normalize\n",
        "numerical_cols = [\n",
        "    'media_duration', 'user_age', 'hour', 'day', 'days_since_release',\n",
        "    'genre_popularity', 'media_popularity', 'artist_popularity', 'album_popularity',\n",
        "    'songs_listened', 'song_popularity_7d', 'artist_popularity_7d', 'album_popularity_7d',\n",
        "    'last_listen'  # Time difference in seconds\n",
        "]\n",
        "\n",
        "# Initialize the scaler\n",
        "scaler = MinMaxScaler()\n",
        "\n",
        "# Apply normalization\n",
        "encoded_data[numerical_cols] = scaler.fit_transform(encoded_data[numerical_cols])"
      ],
      "metadata": {
        "id": "D4rwVhNa4rDv"
      },
      "id": "D4rwVhNa4rDv",
      "execution_count": 21,
      "outputs": []
    },
    {
      "cell_type": "code",
      "source": [
        "encoded_data['is_listened'] = encoded_data['is_listened'].astype(int)\n",
        "encoded_data['user_gender'] = encoded_data['user_gender'].astype(int)\n",
        "encoded_data['is_weekend'] = encoded_data['is_weekend'].astype(int)"
      ],
      "metadata": {
        "id": "YIqEepPU8VjA"
      },
      "id": "YIqEepPU8VjA",
      "execution_count": 22,
      "outputs": []
    },
    {
      "cell_type": "markdown",
      "source": [
        "# Splitting\n",
        "As we are working with time series data, it has been decided to split on a specific date"
      ],
      "metadata": {
        "id": "OKoS_p5D87XO"
      },
      "id": "OKoS_p5D87XO"
    },
    {
      "cell_type": "code",
      "source": [
        "encoded_data = encoded_data.sort_values(by='ts_listen')\n",
        "\n",
        "# Find the date corresponding to the 80% percentile\n",
        "split_date = encoded_data['ts_listen'].quantile(0.8)\n",
        "\n",
        "# Train-test split based on calculated date\n",
        "train = encoded_data[encoded_data['ts_listen'] < split_date]\n",
        "test = encoded_data[encoded_data['ts_listen'] >= split_date]\n",
        "\n",
        "# Print dataset sizes\n",
        "print(f\"Split Date: {split_date}\")\n",
        "print(f\"{len(train)} interactions for TRAINING ({round(len(train) / len(encoded_data) * 100, 2)}%)\")\n",
        "print(f\"{len(test)} interactions for TESTING ({round(len(test) / len(encoded_data) * 100, 2)}%)\")"
      ],
      "metadata": {
        "id": "XRmwcROd8_Ap",
        "outputId": "2668c7ee-90f3-42fc-aa17-1c5f16b49583",
        "colab": {
          "base_uri": "https://localhost:8080/"
        }
      },
      "id": "XRmwcROd8_Ap",
      "execution_count": 27,
      "outputs": [
        {
          "output_type": "stream",
          "name": "stdout",
          "text": [
            "Split Date: 2016-11-23 10:38:22\n",
            "273520 interactions for TRAINING (80.0%)\n",
            "68381 interactions for TESTING (20.0%)\n"
          ]
        }
      ]
    },
    {
      "cell_type": "code",
      "source": [
        "encoded_data"
      ],
      "metadata": {
        "id": "wr2J92cV9XzV",
        "outputId": "7387d5bc-07c3-4722-8040-83267f7bacd4",
        "colab": {
          "base_uri": "https://localhost:8080/",
          "height": 790
        }
      },
      "id": "wr2J92cV9XzV",
      "execution_count": 24,
      "outputs": [
        {
          "output_type": "execute_result",
          "data": {
            "text/plain": [
              "        genre_id           ts_listen  media_id  album_id  context_type  \\\n",
              "0            284 2016-11-28 16:40:24     23564     11923      0.434585   \n",
              "1              0 2016-11-17 23:19:07     61787     31783      0.434585   \n",
              "2            411 2016-11-23 14:20:52     19290      9707      0.127203   \n",
              "3             12 2016-11-24 14:19:09     42166     21691      0.029810   \n",
              "4              0 2016-11-02 15:07:25     62038     31937      0.434585   \n",
              "...          ...                 ...       ...       ...           ...   \n",
              "341896         0 2016-11-01 03:56:55     59219     30475      0.009073   \n",
              "341897         0 2016-11-26 06:59:59     55954     28807      0.029810   \n",
              "341898        32 2016-11-11 09:18:06      7628      3704      0.434585   \n",
              "341899         0 2016-11-26 11:40:29     53044     27258      0.127203   \n",
              "341900         0 2016-11-29 19:33:44     60195     30975      0.434585   \n",
              "\n",
              "       release_date platform_name platform_family  media_duration listen_type  \\\n",
              "0        2003-05-19      0.682990        0.804247        0.849138    0.686655   \n",
              "1        2016-07-22      0.175726        0.804247        0.560345    0.686655   \n",
              "2        2008-09-16      0.175726        0.804247        0.512931    0.686655   \n",
              "3        2014-10-27      0.682990        0.804247        0.487069    0.313345   \n",
              "4        2016-07-29      0.682990        0.804247        0.318966    0.686655   \n",
              "...             ...           ...             ...             ...         ...   \n",
              "341896   2016-05-27      0.682990        0.804247        0.409483    0.686655   \n",
              "341897   2016-03-07      0.682990        0.804247        0.801724    0.313345   \n",
              "341898   2008-10-10      0.682990        0.804247        0.612069    0.686655   \n",
              "341899   2015-12-04      0.682990        0.804247        0.400862    0.686655   \n",
              "341900   2016-06-17      0.175726        0.804247        0.500000    0.686655   \n",
              "\n",
              "        ...  last_listen  days_since_release  genre_popularity  \\\n",
              "0       ...     0.000000            0.117347          0.004263   \n",
              "1       ...     0.000000            0.004582          1.000000   \n",
              "2       ...     0.000000            0.071717          0.000100   \n",
              "3       ...     0.000000            0.019566          0.048558   \n",
              "4       ...     0.000000            0.004067          1.000000   \n",
              "...     ...          ...                 ...               ...   \n",
              "341896  ...     0.067697            0.005517          1.000000   \n",
              "341897  ...     0.045108            0.007995          1.000000   \n",
              "341898  ...     0.021153            0.070876          0.021727   \n",
              "341899  ...     0.025838            0.010192          1.000000   \n",
              "341900  ...     0.011315            0.005680          1.000000   \n",
              "\n",
              "        media_popularity  artist_popularity  album_popularity  songs_listened  \\\n",
              "0               0.004306           0.076506          0.006904        0.086538   \n",
              "1               0.162540           0.070692          0.026730        0.163462   \n",
              "2               0.000000           0.031316          0.000708        0.176282   \n",
              "3               0.002153           0.041887          0.004957        0.028846   \n",
              "4               0.077503           0.038848          0.012746        0.166667   \n",
              "...                  ...                ...               ...             ...   \n",
              "341896          0.219591           0.199128          0.123031        0.038462   \n",
              "341897          0.005382           0.000925          0.000885        0.125000   \n",
              "341898          0.021529           0.006739          0.004957        0.147436   \n",
              "341899          0.013994           1.000000          0.148699        0.035256   \n",
              "341900          0.192680           0.090777          0.125863        0.041667   \n",
              "\n",
              "        song_popularity_7d artist_popularity_7d  album_popularity_7d  \n",
              "0                 0.009709             0.072015             0.005543  \n",
              "1                 0.213592             0.057429             0.024390  \n",
              "2                 0.000000             0.036463             0.000000  \n",
              "3                 0.000000             0.046490             0.003326  \n",
              "4                 0.000000             0.029170             0.000000  \n",
              "...                    ...                  ...                  ...  \n",
              "341896            0.184466             0.206928             0.110865  \n",
              "341897            0.009709             0.000912             0.001109  \n",
              "341898            0.019417             0.004558             0.003326  \n",
              "341899            0.048544             0.904284             0.148559  \n",
              "341900            0.320388             0.091158             0.110865  \n",
              "\n",
              "[341901 rows x 29 columns]"
            ],
            "text/html": [
              "\n",
              "  <div id=\"df-ad55e5a0-8090-4f28-9abc-5223905c73da\" class=\"colab-df-container\">\n",
              "    <div>\n",
              "<style scoped>\n",
              "    .dataframe tbody tr th:only-of-type {\n",
              "        vertical-align: middle;\n",
              "    }\n",
              "\n",
              "    .dataframe tbody tr th {\n",
              "        vertical-align: top;\n",
              "    }\n",
              "\n",
              "    .dataframe thead th {\n",
              "        text-align: right;\n",
              "    }\n",
              "</style>\n",
              "<table border=\"1\" class=\"dataframe\">\n",
              "  <thead>\n",
              "    <tr style=\"text-align: right;\">\n",
              "      <th></th>\n",
              "      <th>genre_id</th>\n",
              "      <th>ts_listen</th>\n",
              "      <th>media_id</th>\n",
              "      <th>album_id</th>\n",
              "      <th>context_type</th>\n",
              "      <th>release_date</th>\n",
              "      <th>platform_name</th>\n",
              "      <th>platform_family</th>\n",
              "      <th>media_duration</th>\n",
              "      <th>listen_type</th>\n",
              "      <th>...</th>\n",
              "      <th>last_listen</th>\n",
              "      <th>days_since_release</th>\n",
              "      <th>genre_popularity</th>\n",
              "      <th>media_popularity</th>\n",
              "      <th>artist_popularity</th>\n",
              "      <th>album_popularity</th>\n",
              "      <th>songs_listened</th>\n",
              "      <th>song_popularity_7d</th>\n",
              "      <th>artist_popularity_7d</th>\n",
              "      <th>album_popularity_7d</th>\n",
              "    </tr>\n",
              "  </thead>\n",
              "  <tbody>\n",
              "    <tr>\n",
              "      <th>0</th>\n",
              "      <td>284</td>\n",
              "      <td>2016-11-28 16:40:24</td>\n",
              "      <td>23564</td>\n",
              "      <td>11923</td>\n",
              "      <td>0.434585</td>\n",
              "      <td>2003-05-19</td>\n",
              "      <td>0.682990</td>\n",
              "      <td>0.804247</td>\n",
              "      <td>0.849138</td>\n",
              "      <td>0.686655</td>\n",
              "      <td>...</td>\n",
              "      <td>0.000000</td>\n",
              "      <td>0.117347</td>\n",
              "      <td>0.004263</td>\n",
              "      <td>0.004306</td>\n",
              "      <td>0.076506</td>\n",
              "      <td>0.006904</td>\n",
              "      <td>0.086538</td>\n",
              "      <td>0.009709</td>\n",
              "      <td>0.072015</td>\n",
              "      <td>0.005543</td>\n",
              "    </tr>\n",
              "    <tr>\n",
              "      <th>1</th>\n",
              "      <td>0</td>\n",
              "      <td>2016-11-17 23:19:07</td>\n",
              "      <td>61787</td>\n",
              "      <td>31783</td>\n",
              "      <td>0.434585</td>\n",
              "      <td>2016-07-22</td>\n",
              "      <td>0.175726</td>\n",
              "      <td>0.804247</td>\n",
              "      <td>0.560345</td>\n",
              "      <td>0.686655</td>\n",
              "      <td>...</td>\n",
              "      <td>0.000000</td>\n",
              "      <td>0.004582</td>\n",
              "      <td>1.000000</td>\n",
              "      <td>0.162540</td>\n",
              "      <td>0.070692</td>\n",
              "      <td>0.026730</td>\n",
              "      <td>0.163462</td>\n",
              "      <td>0.213592</td>\n",
              "      <td>0.057429</td>\n",
              "      <td>0.024390</td>\n",
              "    </tr>\n",
              "    <tr>\n",
              "      <th>2</th>\n",
              "      <td>411</td>\n",
              "      <td>2016-11-23 14:20:52</td>\n",
              "      <td>19290</td>\n",
              "      <td>9707</td>\n",
              "      <td>0.127203</td>\n",
              "      <td>2008-09-16</td>\n",
              "      <td>0.175726</td>\n",
              "      <td>0.804247</td>\n",
              "      <td>0.512931</td>\n",
              "      <td>0.686655</td>\n",
              "      <td>...</td>\n",
              "      <td>0.000000</td>\n",
              "      <td>0.071717</td>\n",
              "      <td>0.000100</td>\n",
              "      <td>0.000000</td>\n",
              "      <td>0.031316</td>\n",
              "      <td>0.000708</td>\n",
              "      <td>0.176282</td>\n",
              "      <td>0.000000</td>\n",
              "      <td>0.036463</td>\n",
              "      <td>0.000000</td>\n",
              "    </tr>\n",
              "    <tr>\n",
              "      <th>3</th>\n",
              "      <td>12</td>\n",
              "      <td>2016-11-24 14:19:09</td>\n",
              "      <td>42166</td>\n",
              "      <td>21691</td>\n",
              "      <td>0.029810</td>\n",
              "      <td>2014-10-27</td>\n",
              "      <td>0.682990</td>\n",
              "      <td>0.804247</td>\n",
              "      <td>0.487069</td>\n",
              "      <td>0.313345</td>\n",
              "      <td>...</td>\n",
              "      <td>0.000000</td>\n",
              "      <td>0.019566</td>\n",
              "      <td>0.048558</td>\n",
              "      <td>0.002153</td>\n",
              "      <td>0.041887</td>\n",
              "      <td>0.004957</td>\n",
              "      <td>0.028846</td>\n",
              "      <td>0.000000</td>\n",
              "      <td>0.046490</td>\n",
              "      <td>0.003326</td>\n",
              "    </tr>\n",
              "    <tr>\n",
              "      <th>4</th>\n",
              "      <td>0</td>\n",
              "      <td>2016-11-02 15:07:25</td>\n",
              "      <td>62038</td>\n",
              "      <td>31937</td>\n",
              "      <td>0.434585</td>\n",
              "      <td>2016-07-29</td>\n",
              "      <td>0.682990</td>\n",
              "      <td>0.804247</td>\n",
              "      <td>0.318966</td>\n",
              "      <td>0.686655</td>\n",
              "      <td>...</td>\n",
              "      <td>0.000000</td>\n",
              "      <td>0.004067</td>\n",
              "      <td>1.000000</td>\n",
              "      <td>0.077503</td>\n",
              "      <td>0.038848</td>\n",
              "      <td>0.012746</td>\n",
              "      <td>0.166667</td>\n",
              "      <td>0.000000</td>\n",
              "      <td>0.029170</td>\n",
              "      <td>0.000000</td>\n",
              "    </tr>\n",
              "    <tr>\n",
              "      <th>...</th>\n",
              "      <td>...</td>\n",
              "      <td>...</td>\n",
              "      <td>...</td>\n",
              "      <td>...</td>\n",
              "      <td>...</td>\n",
              "      <td>...</td>\n",
              "      <td>...</td>\n",
              "      <td>...</td>\n",
              "      <td>...</td>\n",
              "      <td>...</td>\n",
              "      <td>...</td>\n",
              "      <td>...</td>\n",
              "      <td>...</td>\n",
              "      <td>...</td>\n",
              "      <td>...</td>\n",
              "      <td>...</td>\n",
              "      <td>...</td>\n",
              "      <td>...</td>\n",
              "      <td>...</td>\n",
              "      <td>...</td>\n",
              "      <td>...</td>\n",
              "    </tr>\n",
              "    <tr>\n",
              "      <th>341896</th>\n",
              "      <td>0</td>\n",
              "      <td>2016-11-01 03:56:55</td>\n",
              "      <td>59219</td>\n",
              "      <td>30475</td>\n",
              "      <td>0.009073</td>\n",
              "      <td>2016-05-27</td>\n",
              "      <td>0.682990</td>\n",
              "      <td>0.804247</td>\n",
              "      <td>0.409483</td>\n",
              "      <td>0.686655</td>\n",
              "      <td>...</td>\n",
              "      <td>0.067697</td>\n",
              "      <td>0.005517</td>\n",
              "      <td>1.000000</td>\n",
              "      <td>0.219591</td>\n",
              "      <td>0.199128</td>\n",
              "      <td>0.123031</td>\n",
              "      <td>0.038462</td>\n",
              "      <td>0.184466</td>\n",
              "      <td>0.206928</td>\n",
              "      <td>0.110865</td>\n",
              "    </tr>\n",
              "    <tr>\n",
              "      <th>341897</th>\n",
              "      <td>0</td>\n",
              "      <td>2016-11-26 06:59:59</td>\n",
              "      <td>55954</td>\n",
              "      <td>28807</td>\n",
              "      <td>0.029810</td>\n",
              "      <td>2016-03-07</td>\n",
              "      <td>0.682990</td>\n",
              "      <td>0.804247</td>\n",
              "      <td>0.801724</td>\n",
              "      <td>0.313345</td>\n",
              "      <td>...</td>\n",
              "      <td>0.045108</td>\n",
              "      <td>0.007995</td>\n",
              "      <td>1.000000</td>\n",
              "      <td>0.005382</td>\n",
              "      <td>0.000925</td>\n",
              "      <td>0.000885</td>\n",
              "      <td>0.125000</td>\n",
              "      <td>0.009709</td>\n",
              "      <td>0.000912</td>\n",
              "      <td>0.001109</td>\n",
              "    </tr>\n",
              "    <tr>\n",
              "      <th>341898</th>\n",
              "      <td>32</td>\n",
              "      <td>2016-11-11 09:18:06</td>\n",
              "      <td>7628</td>\n",
              "      <td>3704</td>\n",
              "      <td>0.434585</td>\n",
              "      <td>2008-10-10</td>\n",
              "      <td>0.682990</td>\n",
              "      <td>0.804247</td>\n",
              "      <td>0.612069</td>\n",
              "      <td>0.686655</td>\n",
              "      <td>...</td>\n",
              "      <td>0.021153</td>\n",
              "      <td>0.070876</td>\n",
              "      <td>0.021727</td>\n",
              "      <td>0.021529</td>\n",
              "      <td>0.006739</td>\n",
              "      <td>0.004957</td>\n",
              "      <td>0.147436</td>\n",
              "      <td>0.019417</td>\n",
              "      <td>0.004558</td>\n",
              "      <td>0.003326</td>\n",
              "    </tr>\n",
              "    <tr>\n",
              "      <th>341899</th>\n",
              "      <td>0</td>\n",
              "      <td>2016-11-26 11:40:29</td>\n",
              "      <td>53044</td>\n",
              "      <td>27258</td>\n",
              "      <td>0.127203</td>\n",
              "      <td>2015-12-04</td>\n",
              "      <td>0.682990</td>\n",
              "      <td>0.804247</td>\n",
              "      <td>0.400862</td>\n",
              "      <td>0.686655</td>\n",
              "      <td>...</td>\n",
              "      <td>0.025838</td>\n",
              "      <td>0.010192</td>\n",
              "      <td>1.000000</td>\n",
              "      <td>0.013994</td>\n",
              "      <td>1.000000</td>\n",
              "      <td>0.148699</td>\n",
              "      <td>0.035256</td>\n",
              "      <td>0.048544</td>\n",
              "      <td>0.904284</td>\n",
              "      <td>0.148559</td>\n",
              "    </tr>\n",
              "    <tr>\n",
              "      <th>341900</th>\n",
              "      <td>0</td>\n",
              "      <td>2016-11-29 19:33:44</td>\n",
              "      <td>60195</td>\n",
              "      <td>30975</td>\n",
              "      <td>0.434585</td>\n",
              "      <td>2016-06-17</td>\n",
              "      <td>0.175726</td>\n",
              "      <td>0.804247</td>\n",
              "      <td>0.500000</td>\n",
              "      <td>0.686655</td>\n",
              "      <td>...</td>\n",
              "      <td>0.011315</td>\n",
              "      <td>0.005680</td>\n",
              "      <td>1.000000</td>\n",
              "      <td>0.192680</td>\n",
              "      <td>0.090777</td>\n",
              "      <td>0.125863</td>\n",
              "      <td>0.041667</td>\n",
              "      <td>0.320388</td>\n",
              "      <td>0.091158</td>\n",
              "      <td>0.110865</td>\n",
              "    </tr>\n",
              "  </tbody>\n",
              "</table>\n",
              "<p>341901 rows × 29 columns</p>\n",
              "</div>\n",
              "    <div class=\"colab-df-buttons\">\n",
              "\n",
              "  <div class=\"colab-df-container\">\n",
              "    <button class=\"colab-df-convert\" onclick=\"convertToInteractive('df-ad55e5a0-8090-4f28-9abc-5223905c73da')\"\n",
              "            title=\"Convert this dataframe to an interactive table.\"\n",
              "            style=\"display:none;\">\n",
              "\n",
              "  <svg xmlns=\"http://www.w3.org/2000/svg\" height=\"24px\" viewBox=\"0 -960 960 960\">\n",
              "    <path d=\"M120-120v-720h720v720H120Zm60-500h600v-160H180v160Zm220 220h160v-160H400v160Zm0 220h160v-160H400v160ZM180-400h160v-160H180v160Zm440 0h160v-160H620v160ZM180-180h160v-160H180v160Zm440 0h160v-160H620v160Z\"/>\n",
              "  </svg>\n",
              "    </button>\n",
              "\n",
              "  <style>\n",
              "    .colab-df-container {\n",
              "      display:flex;\n",
              "      gap: 12px;\n",
              "    }\n",
              "\n",
              "    .colab-df-convert {\n",
              "      background-color: #E8F0FE;\n",
              "      border: none;\n",
              "      border-radius: 50%;\n",
              "      cursor: pointer;\n",
              "      display: none;\n",
              "      fill: #1967D2;\n",
              "      height: 32px;\n",
              "      padding: 0 0 0 0;\n",
              "      width: 32px;\n",
              "    }\n",
              "\n",
              "    .colab-df-convert:hover {\n",
              "      background-color: #E2EBFA;\n",
              "      box-shadow: 0px 1px 2px rgba(60, 64, 67, 0.3), 0px 1px 3px 1px rgba(60, 64, 67, 0.15);\n",
              "      fill: #174EA6;\n",
              "    }\n",
              "\n",
              "    .colab-df-buttons div {\n",
              "      margin-bottom: 4px;\n",
              "    }\n",
              "\n",
              "    [theme=dark] .colab-df-convert {\n",
              "      background-color: #3B4455;\n",
              "      fill: #D2E3FC;\n",
              "    }\n",
              "\n",
              "    [theme=dark] .colab-df-convert:hover {\n",
              "      background-color: #434B5C;\n",
              "      box-shadow: 0px 1px 3px 1px rgba(0, 0, 0, 0.15);\n",
              "      filter: drop-shadow(0px 1px 2px rgba(0, 0, 0, 0.3));\n",
              "      fill: #FFFFFF;\n",
              "    }\n",
              "  </style>\n",
              "\n",
              "    <script>\n",
              "      const buttonEl =\n",
              "        document.querySelector('#df-ad55e5a0-8090-4f28-9abc-5223905c73da button.colab-df-convert');\n",
              "      buttonEl.style.display =\n",
              "        google.colab.kernel.accessAllowed ? 'block' : 'none';\n",
              "\n",
              "      async function convertToInteractive(key) {\n",
              "        const element = document.querySelector('#df-ad55e5a0-8090-4f28-9abc-5223905c73da');\n",
              "        const dataTable =\n",
              "          await google.colab.kernel.invokeFunction('convertToInteractive',\n",
              "                                                    [key], {});\n",
              "        if (!dataTable) return;\n",
              "\n",
              "        const docLinkHtml = 'Like what you see? Visit the ' +\n",
              "          '<a target=\"_blank\" href=https://colab.research.google.com/notebooks/data_table.ipynb>data table notebook</a>'\n",
              "          + ' to learn more about interactive tables.';\n",
              "        element.innerHTML = '';\n",
              "        dataTable['output_type'] = 'display_data';\n",
              "        await google.colab.output.renderOutput(dataTable, element);\n",
              "        const docLink = document.createElement('div');\n",
              "        docLink.innerHTML = docLinkHtml;\n",
              "        element.appendChild(docLink);\n",
              "      }\n",
              "    </script>\n",
              "  </div>\n",
              "\n",
              "\n",
              "<div id=\"df-394c5706-c5f9-4077-a23a-8e194524633d\">\n",
              "  <button class=\"colab-df-quickchart\" onclick=\"quickchart('df-394c5706-c5f9-4077-a23a-8e194524633d')\"\n",
              "            title=\"Suggest charts\"\n",
              "            style=\"display:none;\">\n",
              "\n",
              "<svg xmlns=\"http://www.w3.org/2000/svg\" height=\"24px\"viewBox=\"0 0 24 24\"\n",
              "     width=\"24px\">\n",
              "    <g>\n",
              "        <path d=\"M19 3H5c-1.1 0-2 .9-2 2v14c0 1.1.9 2 2 2h14c1.1 0 2-.9 2-2V5c0-1.1-.9-2-2-2zM9 17H7v-7h2v7zm4 0h-2V7h2v10zm4 0h-2v-4h2v4z\"/>\n",
              "    </g>\n",
              "</svg>\n",
              "  </button>\n",
              "\n",
              "<style>\n",
              "  .colab-df-quickchart {\n",
              "      --bg-color: #E8F0FE;\n",
              "      --fill-color: #1967D2;\n",
              "      --hover-bg-color: #E2EBFA;\n",
              "      --hover-fill-color: #174EA6;\n",
              "      --disabled-fill-color: #AAA;\n",
              "      --disabled-bg-color: #DDD;\n",
              "  }\n",
              "\n",
              "  [theme=dark] .colab-df-quickchart {\n",
              "      --bg-color: #3B4455;\n",
              "      --fill-color: #D2E3FC;\n",
              "      --hover-bg-color: #434B5C;\n",
              "      --hover-fill-color: #FFFFFF;\n",
              "      --disabled-bg-color: #3B4455;\n",
              "      --disabled-fill-color: #666;\n",
              "  }\n",
              "\n",
              "  .colab-df-quickchart {\n",
              "    background-color: var(--bg-color);\n",
              "    border: none;\n",
              "    border-radius: 50%;\n",
              "    cursor: pointer;\n",
              "    display: none;\n",
              "    fill: var(--fill-color);\n",
              "    height: 32px;\n",
              "    padding: 0;\n",
              "    width: 32px;\n",
              "  }\n",
              "\n",
              "  .colab-df-quickchart:hover {\n",
              "    background-color: var(--hover-bg-color);\n",
              "    box-shadow: 0 1px 2px rgba(60, 64, 67, 0.3), 0 1px 3px 1px rgba(60, 64, 67, 0.15);\n",
              "    fill: var(--button-hover-fill-color);\n",
              "  }\n",
              "\n",
              "  .colab-df-quickchart-complete:disabled,\n",
              "  .colab-df-quickchart-complete:disabled:hover {\n",
              "    background-color: var(--disabled-bg-color);\n",
              "    fill: var(--disabled-fill-color);\n",
              "    box-shadow: none;\n",
              "  }\n",
              "\n",
              "  .colab-df-spinner {\n",
              "    border: 2px solid var(--fill-color);\n",
              "    border-color: transparent;\n",
              "    border-bottom-color: var(--fill-color);\n",
              "    animation:\n",
              "      spin 1s steps(1) infinite;\n",
              "  }\n",
              "\n",
              "  @keyframes spin {\n",
              "    0% {\n",
              "      border-color: transparent;\n",
              "      border-bottom-color: var(--fill-color);\n",
              "      border-left-color: var(--fill-color);\n",
              "    }\n",
              "    20% {\n",
              "      border-color: transparent;\n",
              "      border-left-color: var(--fill-color);\n",
              "      border-top-color: var(--fill-color);\n",
              "    }\n",
              "    30% {\n",
              "      border-color: transparent;\n",
              "      border-left-color: var(--fill-color);\n",
              "      border-top-color: var(--fill-color);\n",
              "      border-right-color: var(--fill-color);\n",
              "    }\n",
              "    40% {\n",
              "      border-color: transparent;\n",
              "      border-right-color: var(--fill-color);\n",
              "      border-top-color: var(--fill-color);\n",
              "    }\n",
              "    60% {\n",
              "      border-color: transparent;\n",
              "      border-right-color: var(--fill-color);\n",
              "    }\n",
              "    80% {\n",
              "      border-color: transparent;\n",
              "      border-right-color: var(--fill-color);\n",
              "      border-bottom-color: var(--fill-color);\n",
              "    }\n",
              "    90% {\n",
              "      border-color: transparent;\n",
              "      border-bottom-color: var(--fill-color);\n",
              "    }\n",
              "  }\n",
              "</style>\n",
              "\n",
              "  <script>\n",
              "    async function quickchart(key) {\n",
              "      const quickchartButtonEl =\n",
              "        document.querySelector('#' + key + ' button');\n",
              "      quickchartButtonEl.disabled = true;  // To prevent multiple clicks.\n",
              "      quickchartButtonEl.classList.add('colab-df-spinner');\n",
              "      try {\n",
              "        const charts = await google.colab.kernel.invokeFunction(\n",
              "            'suggestCharts', [key], {});\n",
              "      } catch (error) {\n",
              "        console.error('Error during call to suggestCharts:', error);\n",
              "      }\n",
              "      quickchartButtonEl.classList.remove('colab-df-spinner');\n",
              "      quickchartButtonEl.classList.add('colab-df-quickchart-complete');\n",
              "    }\n",
              "    (() => {\n",
              "      let quickchartButtonEl =\n",
              "        document.querySelector('#df-394c5706-c5f9-4077-a23a-8e194524633d button');\n",
              "      quickchartButtonEl.style.display =\n",
              "        google.colab.kernel.accessAllowed ? 'block' : 'none';\n",
              "    })();\n",
              "  </script>\n",
              "</div>\n",
              "\n",
              "  <div id=\"id_a7c2ca54-9479-4c91-b8ac-f170e760c4f9\">\n",
              "    <style>\n",
              "      .colab-df-generate {\n",
              "        background-color: #E8F0FE;\n",
              "        border: none;\n",
              "        border-radius: 50%;\n",
              "        cursor: pointer;\n",
              "        display: none;\n",
              "        fill: #1967D2;\n",
              "        height: 32px;\n",
              "        padding: 0 0 0 0;\n",
              "        width: 32px;\n",
              "      }\n",
              "\n",
              "      .colab-df-generate:hover {\n",
              "        background-color: #E2EBFA;\n",
              "        box-shadow: 0px 1px 2px rgba(60, 64, 67, 0.3), 0px 1px 3px 1px rgba(60, 64, 67, 0.15);\n",
              "        fill: #174EA6;\n",
              "      }\n",
              "\n",
              "      [theme=dark] .colab-df-generate {\n",
              "        background-color: #3B4455;\n",
              "        fill: #D2E3FC;\n",
              "      }\n",
              "\n",
              "      [theme=dark] .colab-df-generate:hover {\n",
              "        background-color: #434B5C;\n",
              "        box-shadow: 0px 1px 3px 1px rgba(0, 0, 0, 0.15);\n",
              "        filter: drop-shadow(0px 1px 2px rgba(0, 0, 0, 0.3));\n",
              "        fill: #FFFFFF;\n",
              "      }\n",
              "    </style>\n",
              "    <button class=\"colab-df-generate\" onclick=\"generateWithVariable('encoded_data')\"\n",
              "            title=\"Generate code using this dataframe.\"\n",
              "            style=\"display:none;\">\n",
              "\n",
              "  <svg xmlns=\"http://www.w3.org/2000/svg\" height=\"24px\"viewBox=\"0 0 24 24\"\n",
              "       width=\"24px\">\n",
              "    <path d=\"M7,19H8.4L18.45,9,17,7.55,7,17.6ZM5,21V16.75L18.45,3.32a2,2,0,0,1,2.83,0l1.4,1.43a1.91,1.91,0,0,1,.58,1.4,1.91,1.91,0,0,1-.58,1.4L9.25,21ZM18.45,9,17,7.55Zm-12,3A5.31,5.31,0,0,0,4.9,8.1,5.31,5.31,0,0,0,1,6.5,5.31,5.31,0,0,0,4.9,4.9,5.31,5.31,0,0,0,6.5,1,5.31,5.31,0,0,0,8.1,4.9,5.31,5.31,0,0,0,12,6.5,5.46,5.46,0,0,0,6.5,12Z\"/>\n",
              "  </svg>\n",
              "    </button>\n",
              "    <script>\n",
              "      (() => {\n",
              "      const buttonEl =\n",
              "        document.querySelector('#id_a7c2ca54-9479-4c91-b8ac-f170e760c4f9 button.colab-df-generate');\n",
              "      buttonEl.style.display =\n",
              "        google.colab.kernel.accessAllowed ? 'block' : 'none';\n",
              "\n",
              "      buttonEl.onclick = () => {\n",
              "        google.colab.notebook.generateWithVariable('encoded_data');\n",
              "      }\n",
              "      })();\n",
              "    </script>\n",
              "  </div>\n",
              "\n",
              "    </div>\n",
              "  </div>\n"
            ],
            "application/vnd.google.colaboratory.intrinsic+json": {
              "type": "dataframe",
              "variable_name": "encoded_data"
            }
          },
          "metadata": {},
          "execution_count": 24
        }
      ]
    },
    {
      "cell_type": "markdown",
      "source": [
        "# Saving processed Datasets"
      ],
      "metadata": {
        "id": "nH-JFQo9903c"
      },
      "id": "nH-JFQo9903c"
    },
    {
      "cell_type": "code",
      "source": [
        "train.to_csv('/content/drive/My Drive/Recommender/preprocessed_train.csv', index=False)\n",
        "test.to_csv('/content/drive/My Drive/Recommender/preprocessed_test.csv', index=False)\n",
        "\n",
        "from google.colab import drive\n",
        "drive.mount('/content/drive')"
      ],
      "metadata": {
        "id": "sl49eTPP94gJ",
        "outputId": "7166e623-ca2c-4661-9107-bc3a8f1d6369",
        "colab": {
          "base_uri": "https://localhost:8080/"
        }
      },
      "id": "sl49eTPP94gJ",
      "execution_count": 28,
      "outputs": [
        {
          "output_type": "stream",
          "name": "stdout",
          "text": [
            "Drive already mounted at /content/drive; to attempt to forcibly remount, call drive.mount(\"/content/drive\", force_remount=True).\n"
          ]
        }
      ]
    }
  ],
  "metadata": {
    "kernelspec": {
      "display_name": "Python 3",
      "name": "python3"
    },
    "language_info": {
      "codemirror_mode": {
        "name": "ipython",
        "version": 2
      },
      "file_extension": ".py",
      "mimetype": "text/x-python",
      "name": "python",
      "nbconvert_exporter": "python",
      "pygments_lexer": "ipython2",
      "version": "2.7.6"
    },
    "colab": {
      "provenance": [],
      "gpuType": "T4",
      "include_colab_link": true
    },
    "accelerator": "GPU"
  },
  "nbformat": 4,
  "nbformat_minor": 5
}