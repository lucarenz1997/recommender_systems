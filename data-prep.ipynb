{
 "cells": [
  {
   "cell_type": "markdown",
   "source": [
    "# Data Preparation\n",
    "** Authors **: Rafaella and Luca"
   ],
   "metadata": {
    "collapsed": false
   },
   "id": "dd70d100feef6261"
  },
  {
   "cell_type": "code",
   "outputs": [
    {
     "data": {
      "text/plain": "         genre_id   ts_listen   media_id  album_id  context_type  \\\n0           25471  1480597215     222606     41774            12   \n1           25571  1480544735     250467     43941             0   \n2              16  1479563953     305197     48078             1   \n3               7  1480152098     900502     71521             0   \n4               7  1478368974     542335     71718             0   \n...           ...         ...        ...       ...           ...   \n7558829         0  1480398097  136334560  14581358            23   \n7558830         0  1479973465  136591154  14617606             2   \n7558831         0  1479993377  136647128  14624304             4   \n7558832         0  1479936918  136647132  14624304             4   \n7558833         0  1480029275  136714314  14632578             4   \n\n         release_date  platform_name  platform_family  media_duration  \\\n0            20040704              1                0             223   \n1            20060301              2                1             171   \n2            20140714              2                1             149   \n3            20001030              0                0             240   \n4            20080215              0                0             150   \n...               ...            ...              ...             ...   \n7558829      19910101              1                0             268   \n7558830      20161118              0                0             974   \n7558831      20161012              0                2             175   \n7558832      20161012              0                0             126   \n7558833      20161124              0                0             177   \n\n         listen_type  user_gender  user_id  artist_id  user_age  is_listened  \n0                  0            0     9241      55164        29            0  \n1                  0            0    16547      55830        30            1  \n2                  1            1     7665       2704        29            1  \n3                  0            1     1580        938        30            0  \n4                  0            1     1812       2939        24            1  \n...              ...          ...      ...        ...       ...          ...  \n7558829            1            0     2592        129        24            0  \n7558830            0            0     9028      63401        22            0  \n7558831            1            0      393        617        26            0  \n7558832            1            1     4507        221        29            1  \n7558833            1            1     8129       4088        30            1  \n\n[7558834 rows x 15 columns]",
      "text/html": "<div>\n<style scoped>\n    .dataframe tbody tr th:only-of-type {\n        vertical-align: middle;\n    }\n\n    .dataframe tbody tr th {\n        vertical-align: top;\n    }\n\n    .dataframe thead th {\n        text-align: right;\n    }\n</style>\n<table border=\"1\" class=\"dataframe\">\n  <thead>\n    <tr style=\"text-align: right;\">\n      <th></th>\n      <th>genre_id</th>\n      <th>ts_listen</th>\n      <th>media_id</th>\n      <th>album_id</th>\n      <th>context_type</th>\n      <th>release_date</th>\n      <th>platform_name</th>\n      <th>platform_family</th>\n      <th>media_duration</th>\n      <th>listen_type</th>\n      <th>user_gender</th>\n      <th>user_id</th>\n      <th>artist_id</th>\n      <th>user_age</th>\n      <th>is_listened</th>\n    </tr>\n  </thead>\n  <tbody>\n    <tr>\n      <th>0</th>\n      <td>25471</td>\n      <td>1480597215</td>\n      <td>222606</td>\n      <td>41774</td>\n      <td>12</td>\n      <td>20040704</td>\n      <td>1</td>\n      <td>0</td>\n      <td>223</td>\n      <td>0</td>\n      <td>0</td>\n      <td>9241</td>\n      <td>55164</td>\n      <td>29</td>\n      <td>0</td>\n    </tr>\n    <tr>\n      <th>1</th>\n      <td>25571</td>\n      <td>1480544735</td>\n      <td>250467</td>\n      <td>43941</td>\n      <td>0</td>\n      <td>20060301</td>\n      <td>2</td>\n      <td>1</td>\n      <td>171</td>\n      <td>0</td>\n      <td>0</td>\n      <td>16547</td>\n      <td>55830</td>\n      <td>30</td>\n      <td>1</td>\n    </tr>\n    <tr>\n      <th>2</th>\n      <td>16</td>\n      <td>1479563953</td>\n      <td>305197</td>\n      <td>48078</td>\n      <td>1</td>\n      <td>20140714</td>\n      <td>2</td>\n      <td>1</td>\n      <td>149</td>\n      <td>1</td>\n      <td>1</td>\n      <td>7665</td>\n      <td>2704</td>\n      <td>29</td>\n      <td>1</td>\n    </tr>\n    <tr>\n      <th>3</th>\n      <td>7</td>\n      <td>1480152098</td>\n      <td>900502</td>\n      <td>71521</td>\n      <td>0</td>\n      <td>20001030</td>\n      <td>0</td>\n      <td>0</td>\n      <td>240</td>\n      <td>0</td>\n      <td>1</td>\n      <td>1580</td>\n      <td>938</td>\n      <td>30</td>\n      <td>0</td>\n    </tr>\n    <tr>\n      <th>4</th>\n      <td>7</td>\n      <td>1478368974</td>\n      <td>542335</td>\n      <td>71718</td>\n      <td>0</td>\n      <td>20080215</td>\n      <td>0</td>\n      <td>0</td>\n      <td>150</td>\n      <td>0</td>\n      <td>1</td>\n      <td>1812</td>\n      <td>2939</td>\n      <td>24</td>\n      <td>1</td>\n    </tr>\n    <tr>\n      <th>...</th>\n      <td>...</td>\n      <td>...</td>\n      <td>...</td>\n      <td>...</td>\n      <td>...</td>\n      <td>...</td>\n      <td>...</td>\n      <td>...</td>\n      <td>...</td>\n      <td>...</td>\n      <td>...</td>\n      <td>...</td>\n      <td>...</td>\n      <td>...</td>\n      <td>...</td>\n    </tr>\n    <tr>\n      <th>7558829</th>\n      <td>0</td>\n      <td>1480398097</td>\n      <td>136334560</td>\n      <td>14581358</td>\n      <td>23</td>\n      <td>19910101</td>\n      <td>1</td>\n      <td>0</td>\n      <td>268</td>\n      <td>1</td>\n      <td>0</td>\n      <td>2592</td>\n      <td>129</td>\n      <td>24</td>\n      <td>0</td>\n    </tr>\n    <tr>\n      <th>7558830</th>\n      <td>0</td>\n      <td>1479973465</td>\n      <td>136591154</td>\n      <td>14617606</td>\n      <td>2</td>\n      <td>20161118</td>\n      <td>0</td>\n      <td>0</td>\n      <td>974</td>\n      <td>0</td>\n      <td>0</td>\n      <td>9028</td>\n      <td>63401</td>\n      <td>22</td>\n      <td>0</td>\n    </tr>\n    <tr>\n      <th>7558831</th>\n      <td>0</td>\n      <td>1479993377</td>\n      <td>136647128</td>\n      <td>14624304</td>\n      <td>4</td>\n      <td>20161012</td>\n      <td>0</td>\n      <td>2</td>\n      <td>175</td>\n      <td>1</td>\n      <td>0</td>\n      <td>393</td>\n      <td>617</td>\n      <td>26</td>\n      <td>0</td>\n    </tr>\n    <tr>\n      <th>7558832</th>\n      <td>0</td>\n      <td>1479936918</td>\n      <td>136647132</td>\n      <td>14624304</td>\n      <td>4</td>\n      <td>20161012</td>\n      <td>0</td>\n      <td>0</td>\n      <td>126</td>\n      <td>1</td>\n      <td>1</td>\n      <td>4507</td>\n      <td>221</td>\n      <td>29</td>\n      <td>1</td>\n    </tr>\n    <tr>\n      <th>7558833</th>\n      <td>0</td>\n      <td>1480029275</td>\n      <td>136714314</td>\n      <td>14632578</td>\n      <td>4</td>\n      <td>20161124</td>\n      <td>0</td>\n      <td>0</td>\n      <td>177</td>\n      <td>1</td>\n      <td>1</td>\n      <td>8129</td>\n      <td>4088</td>\n      <td>30</td>\n      <td>1</td>\n    </tr>\n  </tbody>\n</table>\n<p>7558834 rows × 15 columns</p>\n</div>"
     },
     "execution_count": 8,
     "metadata": {},
     "output_type": "execute_result"
    }
   ],
   "source": [
    "# Loading the dataset\n",
    "import pandas as pd\n",
    "data = pd.read_csv(\"data/train.csv\")\n",
    "data"
   ],
   "metadata": {
    "collapsed": false,
    "ExecuteTime": {
     "end_time": "2025-01-29T07:18:35.769946Z",
     "start_time": "2025-01-29T07:18:30.288219Z"
    }
   },
   "id": "9822ecc815631143",
   "execution_count": 8
  },
  {
   "cell_type": "markdown",
   "source": [
    "## Datatype Conversion and Missing Values handling"
   ],
   "metadata": {
    "collapsed": false
   },
   "id": "9bd0beabdb89b7cc"
  },
  {
   "cell_type": "code",
   "outputs": [
    {
     "name": "stdout",
     "output_type": "stream",
     "text": [
      "genre_id                 category\n",
      "ts_listen          datetime64[ns]\n",
      "media_id                 category\n",
      "album_id                 category\n",
      "context_type             category\n",
      "release_date       datetime64[ns]\n",
      "platform_name            category\n",
      "platform_family          category\n",
      "media_duration              int64\n",
      "listen_type              category\n",
      "user_gender                  bool\n",
      "user_id                  category\n",
      "artist_id                category\n",
      "user_age                    int64\n",
      "is_listened                  bool\n",
      "dtype: object\n"
     ]
    }
   ],
   "source": [
    "data.isnull().sum() # no NAs\n",
    "\n",
    "# Converting to datatypes\n",
    "data['ts_listen'] = pd.to_datetime(data['ts_listen'], unit='s')\n",
    "data['artist_id'] = data['artist_id'].astype('category')\n",
    "data['media_id'] = data['media_id'].astype('category')\n",
    "data['genre_id'] = data['genre_id'].astype('category')\n",
    "data['user_gender'] = data['user_gender'].astype('bool')\n",
    "data['is_listened'] = data['is_listened'].astype('bool')\n",
    "data['album_id'] = data['album_id'].astype('category')\n",
    "data['context_type'] = data['context_type'].astype('category')\n",
    "data['platform_name'] = data['platform_name'].astype('category')\n",
    "data['release_date'] = pd.to_datetime(data['release_date'], format='%Y%m%d', errors='coerce')\n",
    "data['listen_type'] = data['listen_type'].astype('category')\n",
    "data['platform_family'] = data['platform_family'].astype('category')\n",
    "data['user_id'] = data['user_id'].astype('category')\n",
    "\n",
    "print(data.dtypes)"
   ],
   "metadata": {
    "collapsed": false,
    "ExecuteTime": {
     "end_time": "2025-01-29T07:18:37.565320Z",
     "start_time": "2025-01-29T07:18:35.770952Z"
    }
   },
   "id": "8d18a646f4dabee4",
   "execution_count": 9
  },
  {
   "cell_type": "code",
   "outputs": [],
   "source": [
    "data = data.dropna(subset=['release_date']) # TODO should we remove?"
   ],
   "metadata": {
    "collapsed": false,
    "ExecuteTime": {
     "end_time": "2025-01-29T07:18:37.981277Z",
     "start_time": "2025-01-29T07:18:37.566329Z"
    }
   },
   "id": "668c394c2b67b9df",
   "execution_count": 10
  },
  {
   "cell_type": "markdown",
   "source": [
    "## Outlier Removal\n",
    "This subchapter shows how outliers were identified and removed using one of the outlier removal methods called IQR."
   ],
   "metadata": {
    "collapsed": false
   },
   "id": "37e7544d7b08cf3e"
  },
  {
   "cell_type": "code",
   "outputs": [],
   "source": [
    "# Remove outliers using the IQR method\n",
    "def remove_outliers(df, col):\n",
    "    q_1 = df[col].quantile(0.25)\n",
    "    q_3 = df[col].quantile(0.75)\n",
    "    IQR = q_3 - q_1\n",
    "    lower_bound = q_1 - 1.5 * IQR\n",
    "    upper_bound = q_3 + 1.5 * IQR\n",
    "    print(f\"Removing outliers from {col} with lower boundary of {lower_bound} and upper boundary of {upper_bound}\")\n",
    "    return df[(df[col] >= lower_bound) & (df[col] <= upper_bound)]"
   ],
   "metadata": {
    "collapsed": false,
    "ExecuteTime": {
     "end_time": "2025-01-29T07:18:37.986353Z",
     "start_time": "2025-01-29T07:18:37.982283Z"
    }
   },
   "id": "d9c00288d0e167f0",
   "execution_count": 11
  },
  {
   "cell_type": "code",
   "outputs": [
    {
     "name": "stdout",
     "output_type": "stream",
     "text": [
      "Removing outliers from media_duration with lower boundary of 109.0 and upper boundary of 341.0\n"
     ]
    },
    {
     "data": {
      "text/plain": "{'whiskers': [<matplotlib.lines.Line2D at 0x2561ea5e750>,\n  <matplotlib.lines.Line2D at 0x2561ea5eab0>],\n 'caps': [<matplotlib.lines.Line2D at 0x2561ea5ede0>,\n  <matplotlib.lines.Line2D at 0x2561ea5f230>],\n 'boxes': [<matplotlib.lines.Line2D at 0x2561ea5e480>],\n 'medians': [<matplotlib.lines.Line2D at 0x2561ea5ff20>],\n 'fliers': [<matplotlib.lines.Line2D at 0x2561ea71130>],\n 'means': []}"
     },
     "execution_count": 12,
     "metadata": {},
     "output_type": "execute_result"
    },
    {
     "data": {
      "text/plain": "<Figure size 640x480 with 1 Axes>",
      "image/png": "[encoded data removed]"
     },
     "metadata": {},
     "output_type": "display_data"
    }
   ],
   "source": [
    "import matplotlib.pyplot as plt\n",
    "plt.boxplot(data['media_duration']) # quite a few songs that seem to last for hours or even days. Let's remove them.\n",
    "\n",
    "data = remove_outliers(data,'media_duration')\n",
    "\n",
    "plt.boxplot(data['media_duration'])"
   ],
   "metadata": {
    "collapsed": false,
    "ExecuteTime": {
     "end_time": "2025-01-29T07:18:40.143946Z",
     "start_time": "2025-01-29T07:18:37.987360Z"
    }
   },
   "id": "a0271da6d7a0fd25",
   "execution_count": 12
  },
  {
   "cell_type": "markdown",
   "source": [
    "When analyzing ts_listen, it was shown that most of the timestamps were after 2016 while less than one thousand songs were listened before 2016. Therefore, it has been decided to remove outliers."
   ],
   "metadata": {
    "collapsed": false
   },
   "id": "80411da2e6ec140"
  },
  {
   "cell_type": "code",
   "outputs": [
    {
     "name": "stdout",
     "output_type": "stream",
     "text": [
      "ts_listen\n",
      "1970-12-31        237\n",
      "1973-12-31          0\n",
      "1976-12-31          0\n",
      "1979-12-31          0\n",
      "1982-12-31        379\n",
      "1985-12-31          0\n",
      "1988-12-31          0\n",
      "1991-12-31          0\n",
      "1994-12-31          0\n",
      "1997-12-31          1\n",
      "2000-12-31          0\n",
      "2003-12-31          2\n",
      "2006-12-31          0\n",
      "2009-12-31        108\n",
      "2012-12-31         12\n",
      "2015-12-31         48\n",
      "2018-12-31    7151901\n",
      "Freq: 3YE-DEC, dtype: int64\n",
      "Removing outliers from ts_listen with lower boundary of 2016-10-15 13:10:32.375000320 and upper boundary of 2016-12-13 21:35:53.374999808\n"
     ]
    },
    {
     "data": {
      "text/plain": "(array([1.303000e+03, 4.608000e+03, 1.145100e+04, 7.516040e+05,\n        1.346619e+06, 1.319193e+06, 1.094724e+06, 1.003305e+06,\n        9.546130e+05, 6.625710e+05]),\n array([17089.58644676, 17094.32669676, 17099.06694676, 17103.80719676,\n        17108.54744676, 17113.28769676, 17118.02794676, 17122.76819676,\n        17127.50844676, 17132.24869676, 17136.98894676]),\n <BarContainer object of 10 artists>)"
     },
     "execution_count": 13,
     "metadata": {},
     "output_type": "execute_result"
    },
    {
     "data": {
      "text/plain": "<Figure size 640x480 with 1 Axes>",
      "image/png": "[encoded data removed]"
     },
     "metadata": {},
     "output_type": "display_data"
    }
   ],
   "source": [
    "# Grouping by 5-year intervals to see the approximate counts\n",
    "grouped_data = data.groupby(pd.Grouper(key='ts_listen', freq='3YE')).size()\n",
    "print(grouped_data) # We can start at 2016\n",
    "\n",
    "len(data[data['ts_listen'] < pd.Timestamp('2015-12-31')]) # TODO we could remove all which were listened before 2016\n",
    "filtered_data = data[data['ts_listen'] > pd.Timestamp('2015-12-31')]\n",
    "plt.hist(filtered_data['ts_listen'])\n",
    "\n",
    "# outlier removal\n",
    "data = remove_outliers(data,'ts_listen')"
   ],
   "metadata": {
    "collapsed": false,
    "ExecuteTime": {
     "end_time": "2025-01-29T07:18:46.512433Z",
     "start_time": "2025-01-29T07:18:40.144952Z"
    }
   },
   "id": "2f0cb8b81943960",
   "execution_count": 13
  },
  {
   "cell_type": "code",
   "outputs": [
    {
     "data": {
      "text/plain": "(array([5.40000e+01, 1.21000e+02, 3.70000e+02, 7.58000e+02, 9.34000e+02,\n        9.97000e+02, 1.38700e+03, 1.29000e+03, 1.78700e+03, 2.02100e+03,\n        2.73500e+03, 4.90800e+03, 5.19500e+03, 3.65690e+04, 3.24259e+05,\n        3.85581e+05, 4.01821e+05, 3.85558e+05, 2.77370e+05, 2.81870e+05,\n        3.18830e+05, 3.33942e+05, 3.66025e+05, 3.00396e+05, 2.19057e+05,\n        2.76626e+05, 2.85963e+05, 3.13078e+05, 2.96868e+05, 2.54893e+05,\n        2.00035e+05, 2.51509e+05, 2.62013e+05, 2.52500e+05, 2.35281e+05,\n        2.04819e+05, 1.85820e+05, 1.97627e+05, 1.88008e+05, 9.11160e+04]),\n array([17089.58644676, 17090.77150926, 17091.95657176, 17093.14163426,\n        17094.32669676, 17095.51175926, 17096.69682176, 17097.88188426,\n        17099.06694676, 17100.25200926, 17101.43707176, 17102.62213426,\n        17103.80719676, 17104.99225926, 17106.17732176, 17107.36238426,\n        17108.54744676, 17109.73250926, 17110.91757176, 17112.10263426,\n        17113.28769676, 17114.47275926, 17115.65782176, 17116.84288426,\n        17118.02794676, 17119.21300926, 17120.39807176, 17121.58313426,\n        17122.76819676, 17123.95325926, 17125.13832176, 17126.32338426,\n        17127.50844676, 17128.69350926, 17129.87857176, 17131.06363426,\n        17132.24869676, 17133.43375926, 17134.61882176, 17135.80388426,\n        17136.98894676]),\n <BarContainer object of 40 artists>)"
     },
     "execution_count": 16,
     "metadata": {},
     "output_type": "execute_result"
    },
    {
     "data": {
      "text/plain": "<Figure size 640x480 with 1 Axes>",
      "image/png": "[encoded data removed]"
     },
     "metadata": {},
     "output_type": "display_data"
    }
   ],
   "source": [
    "# After outlier removal\n",
    "plt.hist(data['ts_listen'], bins=40)"
   ],
   "metadata": {
    "collapsed": false,
    "ExecuteTime": {
     "end_time": "2025-01-29T07:19:32.858535Z",
     "start_time": "2025-01-29T07:19:32.408473Z"
    }
   },
   "id": "45d5ddd9cf7b81bb",
   "execution_count": 16
  },
  {
   "cell_type": "code",
   "outputs": [
    {
     "data": {
      "text/plain": "{'whiskers': [<matplotlib.lines.Line2D at 0x256228d9f40>,\n  <matplotlib.lines.Line2D at 0x256228da1e0>],\n 'caps': [<matplotlib.lines.Line2D at 0x256228da4e0>,\n  <matplotlib.lines.Line2D at 0x256228da810>],\n 'boxes': [<matplotlib.lines.Line2D at 0x256228d9d30>],\n 'medians': [<matplotlib.lines.Line2D at 0x256228dab40>],\n 'fliers': [<matplotlib.lines.Line2D at 0x256228dae40>],\n 'means': []}"
     },
     "execution_count": 14,
     "metadata": {},
     "output_type": "execute_result"
    },
    {
     "data": {
      "text/plain": "<Figure size 640x480 with 1 Axes>",
      "image/png": "[encoded data removed]"
     },
     "metadata": {},
     "output_type": "display_data"
    }
   ],
   "source": [
    "plt.boxplot(data['user_age']) # no outliers here. Ages between 18 and 30"
   ],
   "metadata": {
    "collapsed": false,
    "ExecuteTime": {
     "end_time": "2025-01-29T07:18:46.746751Z",
     "start_time": "2025-01-29T07:18:46.512433Z"
    }
   },
   "id": "9cb8a53f9cd7e162",
   "execution_count": 14
  }
 ],
 "metadata": {
  "kernelspec": {
   "display_name": "Python 3",
   "language": "python",
   "name": "python3"
  },
  "language_info": {
   "codemirror_mode": {
    "name": "ipython",
    "version": 2
   },
   "file_extension": ".py",
   "mimetype": "text/x-python",
   "name": "python",
   "nbconvert_exporter": "python",
   "pygments_lexer": "ipython2",
   "version": "2.7.6"
  }
 },
 "nbformat": 4,
 "nbformat_minor": 5
}
